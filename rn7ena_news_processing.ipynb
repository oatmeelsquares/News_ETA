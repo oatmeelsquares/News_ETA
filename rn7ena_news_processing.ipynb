{
 "cells": [
  {
   "cell_type": "markdown",
   "id": "5e4bce9e-d698-4952-b995-22f54d399746",
   "metadata": {
    "tags": []
   },
   "source": [
    "# News ETA: Text Preparation\n",
    "Becky Desrosiers | rn7ena@virginia.edu | DS5001 F24 | 13 December, 2024"
   ]
  },
  {
   "cell_type": "markdown",
   "id": "d4773620-deed-4212-8d8e-f3c5c56df393",
   "metadata": {
    "jp-MarkdownHeadingCollapsed": true,
    "tags": []
   },
   "source": [
    "## 0 Setup (F0)\n",
    "\n",
    "In this phase, I import my packages and data as well as the raw text."
   ]
  },
  {
   "cell_type": "markdown",
   "id": "eff809e0-64c9-4184-ae0f-c90b87c5d03f",
   "metadata": {
    "tags": []
   },
   "source": [
    "### 0.1 Imports"
   ]
  },
  {
   "cell_type": "code",
   "execution_count": 1,
   "id": "f10cd91e-48b4-482d-aae9-9e9a6a172a2f",
   "metadata": {
    "tags": []
   },
   "outputs": [],
   "source": [
    "import pandas as pd\n",
    "import numpy as np\n",
    "import nltk\n",
    "from scipy.linalg import eigh\n",
    "from sklearn.feature_extraction.text import CountVectorizer\n",
    "from sklearn.decomposition import LatentDirichletAllocation as LDA\n",
    "from gensim.models.word2vec import Word2Vec\n",
    "from helper import MyDB, display_tables"
   ]
  },
  {
   "cell_type": "markdown",
   "id": "15f1ddb4-940b-4c8c-8951-1d6a731936ff",
   "metadata": {
    "tags": []
   },
   "source": [
    "### 0.2 Data ingest"
   ]
  },
  {
   "cell_type": "code",
   "execution_count": 2,
   "id": "392efb9f-c7e3-4578-9a16-3de427beef1d",
   "metadata": {
    "tags": []
   },
   "outputs": [
    {
     "name": "stdout",
     "output_type": "stream",
     "text": [
      "F0 table sample:\n"
     ]
    },
    {
     "data": {
      "text/html": [
       "<div>\n",
       "<style scoped>\n",
       "    .dataframe tbody tr th:only-of-type {\n",
       "        vertical-align: middle;\n",
       "    }\n",
       "\n",
       "    .dataframe tbody tr th {\n",
       "        vertical-align: top;\n",
       "    }\n",
       "\n",
       "    .dataframe thead th {\n",
       "        text-align: right;\n",
       "    }\n",
       "</style>\n",
       "<table border=\"1\" class=\"dataframe\">\n",
       "  <thead>\n",
       "    <tr style=\"text-align: right;\">\n",
       "      <th></th>\n",
       "      <th>doc_source</th>\n",
       "      <th>doc_title</th>\n",
       "      <th>doc_content</th>\n",
       "      <th>doc_date</th>\n",
       "      <th>doc_url</th>\n",
       "    </tr>\n",
       "    <tr>\n",
       "      <th>doc_id</th>\n",
       "      <th></th>\n",
       "      <th></th>\n",
       "      <th></th>\n",
       "      <th></th>\n",
       "      <th></th>\n",
       "    </tr>\n",
       "  </thead>\n",
       "  <tbody>\n",
       "    <tr>\n",
       "      <th>287034</th>\n",
       "      <td>Drudge Report</td>\n",
       "      <td>Goat-Herding Dog Refuses To Abandon Flock Amid...</td>\n",
       "      <td>Goat-Herding Dog Refuses To Abandon Flock Amid...</td>\n",
       "      <td>10/16/2017</td>\n",
       "      <td>http://feedproxy.google.com/~r/DrudgeReportFee...</td>\n",
       "    </tr>\n",
       "    <tr>\n",
       "      <th>198924</th>\n",
       "      <td>US News</td>\n",
       "      <td>Iowa Hospital Unwittingly Posts 5,300 Patients...</td>\n",
       "      <td>The University of Iowa Hospitals and Clinics s...</td>\n",
       "      <td>07/12/2017</td>\n",
       "      <td>https://www.usnews.com/news/best-states/iowa/a...</td>\n",
       "    </tr>\n",
       "    <tr>\n",
       "      <th>772036</th>\n",
       "      <td>CNN</td>\n",
       "      <td>Former California congresswoman Ellen Tauscher...</td>\n",
       "      <td>Former California Democratic Rep. Ellen Tausch...</td>\n",
       "      <td>04/30/2019</td>\n",
       "      <td>http://rss.cnn.com/~r/rss/cnn_allpolitics/~3/d...</td>\n",
       "    </tr>\n",
       "  </tbody>\n",
       "</table>\n",
       "</div>"
      ],
      "text/plain": [
       "           doc_source                                          doc_title  \\\n",
       "doc_id                                                                     \n",
       "287034  Drudge Report  Goat-Herding Dog Refuses To Abandon Flock Amid...   \n",
       "198924        US News  Iowa Hospital Unwittingly Posts 5,300 Patients...   \n",
       "772036            CNN  Former California congresswoman Ellen Tauscher...   \n",
       "\n",
       "                                              doc_content    doc_date  \\\n",
       "doc_id                                                                  \n",
       "287034  Goat-Herding Dog Refuses To Abandon Flock Amid...  10/16/2017   \n",
       "198924  The University of Iowa Hospitals and Clinics s...  07/12/2017   \n",
       "772036  Former California Democratic Rep. Ellen Tausch...  04/30/2019   \n",
       "\n",
       "                                                  doc_url  \n",
       "doc_id                                                     \n",
       "287034  http://feedproxy.google.com/~r/DrudgeReportFee...  \n",
       "198924  https://www.usnews.com/news/best-states/iowa/a...  \n",
       "772036  http://rss.cnn.com/~r/rss/cnn_allpolitics/~3/d...  "
      ]
     },
     "metadata": {},
     "output_type": "display_data"
    }
   ],
   "source": [
    "SAMPLE_SIZE = 10000\n",
    "F0 = pd.read_csv('newzy.zip', sep = '|', index_col = 'doc_id', compression = 'infer')\n",
    "\n",
    "# sample SAMPLE SIZE non-empty rows\n",
    "F0 = F0.loc[~F0.doc_content.isna()].sample(SAMPLE_SIZE, random_state = 5001)\n",
    "\n",
    "display_tables(F0, 0)"
   ]
  },
  {
   "cell_type": "markdown",
   "id": "4f38e0ad-6782-4afb-a331-9cd20acbf6aa",
   "metadata": {
    "jp-MarkdownHeadingCollapsed": true,
    "tags": []
   },
   "source": [
    "## 1 Machine Learning Corpus Format (F1)\n",
    "\n",
    "For F1, I create a DataFrame without the metadata, just the content of each document and a document index."
   ]
  },
  {
   "cell_type": "markdown",
   "id": "5b10f185-9b48-4b67-9d96-1ce93701d5b8",
   "metadata": {
    "jp-MarkdownHeadingCollapsed": true,
    "tags": []
   },
   "source": [
    "### 1.1 F1 Code"
   ]
  },
  {
   "cell_type": "code",
   "execution_count": 3,
   "id": "e7011f43-0938-4d38-bf87-fbdda0b3250f",
   "metadata": {},
   "outputs": [],
   "source": [
    "F1 = F0.loc[:, 'doc_content'].to_frame()\n",
    "F1.doc_content = F1.doc_content.astype('str')"
   ]
  },
  {
   "cell_type": "markdown",
   "id": "10a48a5f-e63c-4bcc-a9b7-95c19ef7bdfe",
   "metadata": {
    "jp-MarkdownHeadingCollapsed": true,
    "tags": []
   },
   "source": [
    "### 1.2 F1 Results"
   ]
  },
  {
   "cell_type": "code",
   "execution_count": 4,
   "id": "39ea01d3-6bce-4bd8-b7f3-2ec992933a65",
   "metadata": {
    "tags": []
   },
   "outputs": [
    {
     "name": "stdout",
     "output_type": "stream",
     "text": [
      "F1 Document table sample:\n"
     ]
    },
    {
     "data": {
      "text/html": [
       "<div>\n",
       "<style scoped>\n",
       "    .dataframe tbody tr th:only-of-type {\n",
       "        vertical-align: middle;\n",
       "    }\n",
       "\n",
       "    .dataframe tbody tr th {\n",
       "        vertical-align: top;\n",
       "    }\n",
       "\n",
       "    .dataframe thead th {\n",
       "        text-align: right;\n",
       "    }\n",
       "</style>\n",
       "<table border=\"1\" class=\"dataframe\">\n",
       "  <thead>\n",
       "    <tr style=\"text-align: right;\">\n",
       "      <th></th>\n",
       "      <th>doc_content</th>\n",
       "    </tr>\n",
       "    <tr>\n",
       "      <th>doc_id</th>\n",
       "      <th></th>\n",
       "    </tr>\n",
       "  </thead>\n",
       "  <tbody>\n",
       "    <tr>\n",
       "      <th>743857</th>\n",
       "      <td>What happened in Chicago was an absolute trave...</td>\n",
       "    </tr>\n",
       "    <tr>\n",
       "      <th>62533</th>\n",
       "      <td>REPORT: El Chapo's sons say ex-ally trying to ...</td>\n",
       "    </tr>\n",
       "    <tr>\n",
       "      <th>763145</th>\n",
       "      <td>Since the 1999 Columbine High School shooting,...</td>\n",
       "    </tr>\n",
       "  </tbody>\n",
       "</table>\n",
       "</div>"
      ],
      "text/plain": [
       "                                              doc_content\n",
       "doc_id                                                   \n",
       "743857  What happened in Chicago was an absolute trave...\n",
       "62533   REPORT: El Chapo's sons say ex-ally trying to ...\n",
       "763145  Since the 1999 Columbine High School shooting,..."
      ]
     },
     "metadata": {},
     "output_type": "display_data"
    }
   ],
   "source": [
    "display_tables(F1, 1, table = 'Document')"
   ]
  },
  {
   "cell_type": "markdown",
   "id": "de63066d-2124-46cb-a8db-c9b1cbc68ed9",
   "metadata": {
    "jp-MarkdownHeadingCollapsed": true,
    "tags": []
   },
   "source": [
    "## 2 Standard Text Analytic Data Model (F2)\n",
    "\n",
    "For F2, I add a Library table with document metadata as well as a simplet Token table with OHCO index and a Vocabulary table mapping terms to term IDs."
   ]
  },
  {
   "cell_type": "markdown",
   "id": "043cc45f-02ec-4511-af07-0ad9ba0a388c",
   "metadata": {
    "jp-MarkdownHeadingCollapsed": true,
    "tags": []
   },
   "source": [
    "### 2.1 F2 Code"
   ]
  },
  {
   "cell_type": "markdown",
   "id": "4e0a655d-a40a-4526-8d01-6dc2276ff8f1",
   "metadata": {},
   "source": [
    "#### 2.1.1 Library table"
   ]
  },
  {
   "cell_type": "code",
   "execution_count": 5,
   "id": "1596772e-0bd0-464f-b069-0ada0d188a4d",
   "metadata": {
    "tags": []
   },
   "outputs": [],
   "source": [
    "F2_LIBRARY = F0.loc[:, ['doc_source', 'doc_title', 'doc_date', 'doc_url']]"
   ]
  },
  {
   "cell_type": "markdown",
   "id": "a9fb7b71-4032-40f1-b526-777f660cefd9",
   "metadata": {},
   "source": [
    "#### 2.1.2 Document table\n",
    "\n",
    "My texts are mostly very short. I considered breaking them up into sentences, but some of them are only one sentence and breaking them up doesn't make much sense when you think about it like one chunk is supposed to be a unit of discourse or a \"message,\" because sentences are often very related. In the end, I chose to leave my OHCO at the document level."
   ]
  },
  {
   "cell_type": "code",
   "execution_count": 6,
   "id": "06af06f3-b3d3-4212-a556-37a9ec7a6c26",
   "metadata": {},
   "outputs": [
    {
     "name": "stdout",
     "output_type": "stream",
     "text": [
      "I have three teenage children – an 18-year-old and two 16-year-old twins, and they’re all learning to drive right at the same time.\n",
      "\n",
      "New MALE boss starts restyling BRITISH VOGUE...            (First column, 10th story, link)\n",
      "\n",
      "Southwest says cracks in engine fan blades like the flaw blamed in a fatal accident have turned up at other airlines.\n",
      "\n"
     ]
    }
   ],
   "source": [
    "# show that some texts are very short\n",
    "for i in F0.sample(3).index:\n",
    "    print(F0.loc[i].doc_content, end = '\\n\\n')"
   ]
  },
  {
   "cell_type": "code",
   "execution_count": 7,
   "id": "f941f54d-55fc-4f96-86da-23274d295ba5",
   "metadata": {
    "tags": []
   },
   "outputs": [],
   "source": [
    "F2_DOC = F1.copy()"
   ]
  },
  {
   "cell_type": "markdown",
   "id": "48037cf7-06e8-4593-afe4-a7338ac105bf",
   "metadata": {},
   "source": [
    "#### 2.1.3 Token table\n",
    "\n",
    "I considered splitting into paragraphs, but there were no newlines in the corpus, so tokens will be indexed by document ID, sentence number, and token number."
   ]
  },
  {
   "cell_type": "code",
   "execution_count": 8,
   "id": "b70a0e41-9d06-49dd-8e17-601b7ee9a2f3",
   "metadata": {
    "tags": []
   },
   "outputs": [],
   "source": [
    "# split into paragraphs\n",
    "# TOKEN.doc_content.str.split(r'\\n+', expand = True) -- no effect\n",
    "\n",
    "# TOKEN.query(\"doc_content == ''\") -- none\n",
    "# TOKEN.query(\"doc_content == ' '\") -- no empty lines\n",
    "\n",
    "# split into sentences\n",
    "TOKEN = F1.doc_content.apply(lambda content: pd.Series(nltk.sent_tokenize(content)))\\\n",
    "        .stack().to_frame().rename(columns = {0: 'sentence'})\n",
    "TOKEN.index.names = ['doc_id', 'sent_num']\n",
    "\n",
    "# split into tokens\n",
    "TOKEN = TOKEN.sentence.apply(lambda sent: pd.Series(nltk.pos_tag(nltk.WhitespaceTokenizer().tokenize(sent))))\n",
    "TOKEN = TOKEN.stack().to_frame().rename(columns = {0 : 'pos_tuple'})\n",
    "TOKEN.index.names = ['doc_id', 'sent_num', 'token_id']\n",
    "TOKEN['token'] = TOKEN.pos_tuple.apply(lambda x: x[0])\n",
    "TOKEN['pos'] = TOKEN.pos_tuple.apply(lambda x: x[1])\n",
    "TOKEN['term'] = TOKEN.token.str.extract(r'([\\w-]+)').squeeze().str.lower()\n",
    "TOKEN['punctuation'] = TOKEN.term.isna() # flag tokens that are just punctuation\n",
    "TOKEN.loc[TOKEN.term.isna(), 'term'] = TOKEN.loc[TOKEN.term.isna(), 'token'] # copy over tokens that are just punctuation\n",
    "\n",
    "F2_TOKEN = TOKEN.token.to_frame().dropna()"
   ]
  },
  {
   "cell_type": "markdown",
   "id": "e9870683-491a-4e56-9903-bfb4c296465e",
   "metadata": {},
   "source": [
    "#### 2.1.4 Vocabulary table"
   ]
  },
  {
   "cell_type": "code",
   "execution_count": 9,
   "id": "f7946453-85f1-40b5-b6fd-702714657027",
   "metadata": {
    "tags": []
   },
   "outputs": [],
   "source": [
    "VOCAB = TOKEN.term.value_counts().to_frame().sort_index().reset_index()\n",
    "VOCAB.index.name = 'term_id'\n",
    "\n",
    "F2_VOCAB = VOCAB.copy()"
   ]
  },
  {
   "cell_type": "markdown",
   "id": "e2962897-0edd-48c8-b6dc-108b48fdb07b",
   "metadata": {
    "jp-MarkdownHeadingCollapsed": true,
    "tags": []
   },
   "source": [
    "### 2.2 F2 Results"
   ]
  },
  {
   "cell_type": "code",
   "execution_count": 10,
   "id": "6c6dca6b-2847-405d-b045-29f325dcd5e0",
   "metadata": {
    "tags": []
   },
   "outputs": [
    {
     "name": "stdout",
     "output_type": "stream",
     "text": [
      "F2 Library table sample:\n"
     ]
    },
    {
     "data": {
      "text/html": [
       "<div>\n",
       "<style scoped>\n",
       "    .dataframe tbody tr th:only-of-type {\n",
       "        vertical-align: middle;\n",
       "    }\n",
       "\n",
       "    .dataframe tbody tr th {\n",
       "        vertical-align: top;\n",
       "    }\n",
       "\n",
       "    .dataframe thead th {\n",
       "        text-align: right;\n",
       "    }\n",
       "</style>\n",
       "<table border=\"1\" class=\"dataframe\">\n",
       "  <thead>\n",
       "    <tr style=\"text-align: right;\">\n",
       "      <th></th>\n",
       "      <th>doc_source</th>\n",
       "      <th>doc_title</th>\n",
       "      <th>doc_date</th>\n",
       "      <th>doc_url</th>\n",
       "    </tr>\n",
       "    <tr>\n",
       "      <th>doc_id</th>\n",
       "      <th></th>\n",
       "      <th></th>\n",
       "      <th></th>\n",
       "      <th></th>\n",
       "    </tr>\n",
       "  </thead>\n",
       "  <tbody>\n",
       "    <tr>\n",
       "      <th>82361</th>\n",
       "      <td>US News</td>\n",
       "      <td>AP FACT CHECK: McCaskill Wrong About Contacts ...</td>\n",
       "      <td>03/03/2017</td>\n",
       "      <td>https://www.usnews.com/news/politics/articles/...</td>\n",
       "    </tr>\n",
       "    <tr>\n",
       "      <th>890822</th>\n",
       "      <td>US News</td>\n",
       "      <td>Bodies Found in Connection With California Amb...</td>\n",
       "      <td>09/23/2019</td>\n",
       "      <td>https://www.usnews.com/news/best-states/califo...</td>\n",
       "    </tr>\n",
       "    <tr>\n",
       "      <th>38680</th>\n",
       "      <td>UPI Latest</td>\n",
       "      <td>Kansas City Chiefs vs San Diego Chargers: pred...</td>\n",
       "      <td>12/30/2016</td>\n",
       "      <td>http://www.upi.com/Sports_News/NFL/2016/12/30/...</td>\n",
       "    </tr>\n",
       "  </tbody>\n",
       "</table>\n",
       "</div>"
      ],
      "text/plain": [
       "        doc_source                                          doc_title  \\\n",
       "doc_id                                                                  \n",
       "82361      US News  AP FACT CHECK: McCaskill Wrong About Contacts ...   \n",
       "890822     US News  Bodies Found in Connection With California Amb...   \n",
       "38680   UPI Latest  Kansas City Chiefs vs San Diego Chargers: pred...   \n",
       "\n",
       "          doc_date                                            doc_url  \n",
       "doc_id                                                                 \n",
       "82361   03/03/2017  https://www.usnews.com/news/politics/articles/...  \n",
       "890822  09/23/2019  https://www.usnews.com/news/best-states/califo...  \n",
       "38680   12/30/2016  http://www.upi.com/Sports_News/NFL/2016/12/30/...  "
      ]
     },
     "metadata": {},
     "output_type": "display_data"
    },
    {
     "name": "stdout",
     "output_type": "stream",
     "text": [
      "F2 Document table sample:\n"
     ]
    },
    {
     "data": {
      "text/html": [
       "<div>\n",
       "<style scoped>\n",
       "    .dataframe tbody tr th:only-of-type {\n",
       "        vertical-align: middle;\n",
       "    }\n",
       "\n",
       "    .dataframe tbody tr th {\n",
       "        vertical-align: top;\n",
       "    }\n",
       "\n",
       "    .dataframe thead th {\n",
       "        text-align: right;\n",
       "    }\n",
       "</style>\n",
       "<table border=\"1\" class=\"dataframe\">\n",
       "  <thead>\n",
       "    <tr style=\"text-align: right;\">\n",
       "      <th></th>\n",
       "      <th>doc_content</th>\n",
       "    </tr>\n",
       "    <tr>\n",
       "      <th>doc_id</th>\n",
       "      <th></th>\n",
       "    </tr>\n",
       "  </thead>\n",
       "  <tbody>\n",
       "    <tr>\n",
       "      <th>216165</th>\n",
       "      <td>Jennifer Lawrence is creeped out in the first ...</td>\n",
       "    </tr>\n",
       "    <tr>\n",
       "      <th>386014</th>\n",
       "      <td>The new ice skating ribbon in Spokane's Riverf...</td>\n",
       "    </tr>\n",
       "    <tr>\n",
       "      <th>55934</th>\n",
       "      <td>It’s so patently absurd to handcuff ANY of the...</td>\n",
       "    </tr>\n",
       "  </tbody>\n",
       "</table>\n",
       "</div>"
      ],
      "text/plain": [
       "                                              doc_content\n",
       "doc_id                                                   \n",
       "216165  Jennifer Lawrence is creeped out in the first ...\n",
       "386014  The new ice skating ribbon in Spokane's Riverf...\n",
       "55934   It’s so patently absurd to handcuff ANY of the..."
      ]
     },
     "metadata": {},
     "output_type": "display_data"
    },
    {
     "name": "stdout",
     "output_type": "stream",
     "text": [
      "F2 Token table sample:\n"
     ]
    },
    {
     "data": {
      "text/html": [
       "<div>\n",
       "<style scoped>\n",
       "    .dataframe tbody tr th:only-of-type {\n",
       "        vertical-align: middle;\n",
       "    }\n",
       "\n",
       "    .dataframe tbody tr th {\n",
       "        vertical-align: top;\n",
       "    }\n",
       "\n",
       "    .dataframe thead th {\n",
       "        text-align: right;\n",
       "    }\n",
       "</style>\n",
       "<table border=\"1\" class=\"dataframe\">\n",
       "  <thead>\n",
       "    <tr style=\"text-align: right;\">\n",
       "      <th></th>\n",
       "      <th></th>\n",
       "      <th></th>\n",
       "      <th>token</th>\n",
       "    </tr>\n",
       "    <tr>\n",
       "      <th>doc_id</th>\n",
       "      <th>sent_num</th>\n",
       "      <th>token_id</th>\n",
       "      <th></th>\n",
       "    </tr>\n",
       "  </thead>\n",
       "  <tbody>\n",
       "    <tr>\n",
       "      <th>874751</th>\n",
       "      <th>0</th>\n",
       "      <th>11</th>\n",
       "      <td>illuminating</td>\n",
       "    </tr>\n",
       "    <tr>\n",
       "      <th>990959</th>\n",
       "      <th>0</th>\n",
       "      <th>32</th>\n",
       "      <td>clergy</td>\n",
       "    </tr>\n",
       "    <tr>\n",
       "      <th>41799</th>\n",
       "      <th>10</th>\n",
       "      <th>24</th>\n",
       "      <td>Morgan</td>\n",
       "    </tr>\n",
       "  </tbody>\n",
       "</table>\n",
       "</div>"
      ],
      "text/plain": [
       "                                 token\n",
       "doc_id sent_num token_id              \n",
       "874751 0        11        illuminating\n",
       "990959 0        32              clergy\n",
       "41799  10       24              Morgan"
      ]
     },
     "metadata": {},
     "output_type": "display_data"
    },
    {
     "name": "stdout",
     "output_type": "stream",
     "text": [
      "F2 Vocabulary table sample:\n"
     ]
    },
    {
     "data": {
      "text/html": [
       "<div>\n",
       "<style scoped>\n",
       "    .dataframe tbody tr th:only-of-type {\n",
       "        vertical-align: middle;\n",
       "    }\n",
       "\n",
       "    .dataframe tbody tr th {\n",
       "        vertical-align: top;\n",
       "    }\n",
       "\n",
       "    .dataframe thead th {\n",
       "        text-align: right;\n",
       "    }\n",
       "</style>\n",
       "<table border=\"1\" class=\"dataframe\">\n",
       "  <thead>\n",
       "    <tr style=\"text-align: right;\">\n",
       "      <th></th>\n",
       "      <th>term</th>\n",
       "      <th>count</th>\n",
       "    </tr>\n",
       "    <tr>\n",
       "      <th>term_id</th>\n",
       "      <th></th>\n",
       "      <th></th>\n",
       "    </tr>\n",
       "  </thead>\n",
       "  <tbody>\n",
       "    <tr>\n",
       "      <th>9818</th>\n",
       "      <td>farts</td>\n",
       "      <td>1</td>\n",
       "    </tr>\n",
       "    <tr>\n",
       "      <th>15210</th>\n",
       "      <td>lima</td>\n",
       "      <td>5</td>\n",
       "    </tr>\n",
       "    <tr>\n",
       "      <th>28811</th>\n",
       "      <td>xeveryone</td>\n",
       "      <td>1</td>\n",
       "    </tr>\n",
       "  </tbody>\n",
       "</table>\n",
       "</div>"
      ],
      "text/plain": [
       "              term  count\n",
       "term_id                  \n",
       "9818         farts      1\n",
       "15210         lima      5\n",
       "28811    xeveryone      1"
      ]
     },
     "metadata": {},
     "output_type": "display_data"
    }
   ],
   "source": [
    "f2_tables = [F2_LIBRARY, F2_DOC, F2_TOKEN, F2_VOCAB]\n",
    "display_tables(f2_tables, 2, table = 'all')"
   ]
  },
  {
   "cell_type": "code",
   "execution_count": 11,
   "id": "43915449-d901-4ee4-b845-6ebf0fb9ea42",
   "metadata": {
    "tags": []
   },
   "outputs": [],
   "source": [
    "f2_db = MyDB('tables/F2')\n",
    "f2_db.save_table(f2_tables, 'all')"
   ]
  },
  {
   "cell_type": "markdown",
   "id": "2d13e5a2-e541-44c2-9e3c-cadf8fcc2b9a",
   "metadata": {
    "jp-MarkdownHeadingCollapsed": true,
    "tags": []
   },
   "source": [
    "## 3 NLP Annotated STADM (F3)\n",
    "\n",
    "For F3, I add some annotations to my Token and Vocabulary tables."
   ]
  },
  {
   "cell_type": "markdown",
   "id": "5bc4d681-3f98-4591-b537-15f2d0e88b73",
   "metadata": {
    "jp-MarkdownHeadingCollapsed": true,
    "tags": []
   },
   "source": [
    "### 3.1 F3 Code"
   ]
  },
  {
   "cell_type": "markdown",
   "id": "bbde9f51-a125-46a5-9df6-a257bee35fcc",
   "metadata": {},
   "source": [
    "#### 3.1.0 Library and Document tables\n",
    "\n",
    "The Library and Document tables will not change from F2 onward."
   ]
  },
  {
   "cell_type": "markdown",
   "id": "8b694d9e-d6d8-4db7-88de-e088ec0090fb",
   "metadata": {},
   "source": [
    "#### 3.1.1 Token table\n",
    "\n",
    "For F3, we add the following to our token table:\n",
    "- term ID\n",
    "- part of speech (POS)"
   ]
  },
  {
   "cell_type": "code",
   "execution_count": 12,
   "id": "69248936-f661-4a86-9033-d0dae620c9db",
   "metadata": {
    "tags": []
   },
   "outputs": [],
   "source": [
    "term_to_id_map = F2_VOCAB.reset_index().set_index('term').to_dict()['term_id']\n",
    "\n",
    "TOKEN['term_id'] = TOKEN.term.map(term_to_id_map)\n",
    "TOKEN.term_id = TOKEN.term_id.astype('int')\n",
    "\n",
    "F3_TOKEN = TOKEN.drop(columns = ['pos_tuple', 'punctuation'])"
   ]
  },
  {
   "cell_type": "markdown",
   "id": "ef62b0c3-5724-429c-8515-1456431244a8",
   "metadata": {},
   "source": [
    "#### 3.1.2 Vocabulary table\n",
    "\n",
    "For F3, we add the following to our vocabulary table:\n",
    "- Flags:\n",
    "    - numeric\n",
    "    - punctuation\n",
    "    - stopwords\n",
    "    \n",
    "- Annotations:\n",
    "  - stems\n",
    "  - max POS"
   ]
  },
  {
   "cell_type": "code",
   "execution_count": 13,
   "id": "1358daae-084b-4a08-bd6f-45e66f168b10",
   "metadata": {
    "tags": []
   },
   "outputs": [],
   "source": [
    "# add flags\n",
    "VOCAB['punctuation'] = VOCAB.term.map(TOKEN.reset_index().set_index('term').to_dict()['punctuation'])\n",
    "VOCAB['numeric'] = VOCAB.term.str.match('\\d+').astype('bool')\n",
    "sw = pd.DataFrame(nltk.corpus.stopwords.words('english'), columns = ['term']).set_index('term')\n",
    "sw['stopword'] = True\n",
    "VOCAB['stopword'] = VOCAB.term.map(sw.stopword)\n",
    "VOCAB.stopword = VOCAB.stopword.fillna(0).astype('bool')\n",
    "\n",
    "# add annotations\n",
    "VOCAB['stem'] = VOCAB.term.apply(nltk.stem.porter.PorterStemmer().stem)\n",
    "max_pos = TOKEN[['pos', 'term']].groupby('term').value_counts().to_frame().reset_index().groupby('term').max().pos\n",
    "VOCAB['pos_max'] = VOCAB.term.map(max_pos)\n",
    "\n",
    "F3_VOCAB = VOCAB.copy()"
   ]
  },
  {
   "cell_type": "markdown",
   "id": "21d5db5d-0dbf-4769-a4db-20eafd70296b",
   "metadata": {
    "jp-MarkdownHeadingCollapsed": true,
    "tags": []
   },
   "source": [
    "### 3.3 F3 Resutls"
   ]
  },
  {
   "cell_type": "code",
   "execution_count": 14,
   "id": "ca5c94d9-52a3-4966-b7d3-1113c8ae4e79",
   "metadata": {
    "tags": []
   },
   "outputs": [
    {
     "name": "stdout",
     "output_type": "stream",
     "text": [
      "F3 Library table sample:\n"
     ]
    },
    {
     "data": {
      "text/html": [
       "<div>\n",
       "<style scoped>\n",
       "    .dataframe tbody tr th:only-of-type {\n",
       "        vertical-align: middle;\n",
       "    }\n",
       "\n",
       "    .dataframe tbody tr th {\n",
       "        vertical-align: top;\n",
       "    }\n",
       "\n",
       "    .dataframe thead th {\n",
       "        text-align: right;\n",
       "    }\n",
       "</style>\n",
       "<table border=\"1\" class=\"dataframe\">\n",
       "  <thead>\n",
       "    <tr style=\"text-align: right;\">\n",
       "      <th></th>\n",
       "      <th>doc_source</th>\n",
       "      <th>doc_title</th>\n",
       "      <th>doc_date</th>\n",
       "      <th>doc_url</th>\n",
       "    </tr>\n",
       "    <tr>\n",
       "      <th>doc_id</th>\n",
       "      <th></th>\n",
       "      <th></th>\n",
       "      <th></th>\n",
       "      <th></th>\n",
       "    </tr>\n",
       "  </thead>\n",
       "  <tbody>\n",
       "    <tr>\n",
       "      <th>314612</th>\n",
       "      <td>US News</td>\n",
       "      <td>Slovakia to Build Army Personnel Carriers With...</td>\n",
       "      <td>11/15/2017</td>\n",
       "      <td>https://www.usnews.com/news/world/articles/201...</td>\n",
       "    </tr>\n",
       "    <tr>\n",
       "      <th>692883</th>\n",
       "      <td>Reuters</td>\n",
       "      <td>North Korea unlikely to give up nuclear weapon...</td>\n",
       "      <td>01/29/2019</td>\n",
       "      <td>http://feeds.reuters.com/~r/Reuters/PoliticsNe...</td>\n",
       "    </tr>\n",
       "    <tr>\n",
       "      <th>22398</th>\n",
       "      <td>US News</td>\n",
       "      <td>Economy, Russia top issues as Bulgarians pick ...</td>\n",
       "      <td>11/13/2016</td>\n",
       "      <td>http://www.usnews.com/news/world/articles/2016...</td>\n",
       "    </tr>\n",
       "  </tbody>\n",
       "</table>\n",
       "</div>"
      ],
      "text/plain": [
       "       doc_source                                          doc_title  \\\n",
       "doc_id                                                                 \n",
       "314612    US News  Slovakia to Build Army Personnel Carriers With...   \n",
       "692883    Reuters  North Korea unlikely to give up nuclear weapon...   \n",
       "22398     US News  Economy, Russia top issues as Bulgarians pick ...   \n",
       "\n",
       "          doc_date                                            doc_url  \n",
       "doc_id                                                                 \n",
       "314612  11/15/2017  https://www.usnews.com/news/world/articles/201...  \n",
       "692883  01/29/2019  http://feeds.reuters.com/~r/Reuters/PoliticsNe...  \n",
       "22398   11/13/2016  http://www.usnews.com/news/world/articles/2016...  "
      ]
     },
     "metadata": {},
     "output_type": "display_data"
    },
    {
     "name": "stdout",
     "output_type": "stream",
     "text": [
      "F3 Document table sample:\n"
     ]
    },
    {
     "data": {
      "text/html": [
       "<div>\n",
       "<style scoped>\n",
       "    .dataframe tbody tr th:only-of-type {\n",
       "        vertical-align: middle;\n",
       "    }\n",
       "\n",
       "    .dataframe tbody tr th {\n",
       "        vertical-align: top;\n",
       "    }\n",
       "\n",
       "    .dataframe thead th {\n",
       "        text-align: right;\n",
       "    }\n",
       "</style>\n",
       "<table border=\"1\" class=\"dataframe\">\n",
       "  <thead>\n",
       "    <tr style=\"text-align: right;\">\n",
       "      <th></th>\n",
       "      <th>doc_content</th>\n",
       "    </tr>\n",
       "    <tr>\n",
       "      <th>doc_id</th>\n",
       "      <th></th>\n",
       "    </tr>\n",
       "  </thead>\n",
       "  <tbody>\n",
       "    <tr>\n",
       "      <th>569907</th>\n",
       "      <td>By Aref MohammedBASRA, Iraq (Reuters) - Iraqi ...</td>\n",
       "    </tr>\n",
       "    <tr>\n",
       "      <th>268711</th>\n",
       "      <td>A judge has declared a mistrial in the case of...</td>\n",
       "    </tr>\n",
       "    <tr>\n",
       "      <th>1006767</th>\n",
       "      <td>Police evacuated portions of London's busy and...</td>\n",
       "    </tr>\n",
       "  </tbody>\n",
       "</table>\n",
       "</div>"
      ],
      "text/plain": [
       "                                               doc_content\n",
       "doc_id                                                    \n",
       "569907   By Aref MohammedBASRA, Iraq (Reuters) - Iraqi ...\n",
       "268711   A judge has declared a mistrial in the case of...\n",
       "1006767  Police evacuated portions of London's busy and..."
      ]
     },
     "metadata": {},
     "output_type": "display_data"
    },
    {
     "name": "stdout",
     "output_type": "stream",
     "text": [
      "F3 Token table sample:\n"
     ]
    },
    {
     "data": {
      "text/html": [
       "<div>\n",
       "<style scoped>\n",
       "    .dataframe tbody tr th:only-of-type {\n",
       "        vertical-align: middle;\n",
       "    }\n",
       "\n",
       "    .dataframe tbody tr th {\n",
       "        vertical-align: top;\n",
       "    }\n",
       "\n",
       "    .dataframe thead th {\n",
       "        text-align: right;\n",
       "    }\n",
       "</style>\n",
       "<table border=\"1\" class=\"dataframe\">\n",
       "  <thead>\n",
       "    <tr style=\"text-align: right;\">\n",
       "      <th></th>\n",
       "      <th></th>\n",
       "      <th></th>\n",
       "      <th>token</th>\n",
       "      <th>pos</th>\n",
       "      <th>term</th>\n",
       "      <th>term_id</th>\n",
       "    </tr>\n",
       "    <tr>\n",
       "      <th>doc_id</th>\n",
       "      <th>sent_num</th>\n",
       "      <th>token_id</th>\n",
       "      <th></th>\n",
       "      <th></th>\n",
       "      <th></th>\n",
       "      <th></th>\n",
       "    </tr>\n",
       "  </thead>\n",
       "  <tbody>\n",
       "    <tr>\n",
       "      <th>280857</th>\n",
       "      <th>1</th>\n",
       "      <th>84</th>\n",
       "      <td>And</td>\n",
       "      <td>CC</td>\n",
       "      <td>and</td>\n",
       "      <td>2067</td>\n",
       "    </tr>\n",
       "    <tr>\n",
       "      <th>923704</th>\n",
       "      <th>0</th>\n",
       "      <th>17</th>\n",
       "      <td>at</td>\n",
       "      <td>IN</td>\n",
       "      <td>at</td>\n",
       "      <td>2679</td>\n",
       "    </tr>\n",
       "    <tr>\n",
       "      <th>776033</th>\n",
       "      <th>0</th>\n",
       "      <th>6</th>\n",
       "      <td>vowed</td>\n",
       "      <td>VBD</td>\n",
       "      <td>vowed</td>\n",
       "      <td>27960</td>\n",
       "    </tr>\n",
       "  </tbody>\n",
       "</table>\n",
       "</div>"
      ],
      "text/plain": [
       "                          token  pos   term  term_id\n",
       "doc_id sent_num token_id                            \n",
       "280857 1        84          And   CC    and     2067\n",
       "923704 0        17           at   IN     at     2679\n",
       "776033 0        6         vowed  VBD  vowed    27960"
      ]
     },
     "metadata": {},
     "output_type": "display_data"
    },
    {
     "name": "stdout",
     "output_type": "stream",
     "text": [
      "F3 Vocabulary table sample:\n"
     ]
    },
    {
     "data": {
      "text/html": [
       "<div>\n",
       "<style scoped>\n",
       "    .dataframe tbody tr th:only-of-type {\n",
       "        vertical-align: middle;\n",
       "    }\n",
       "\n",
       "    .dataframe tbody tr th {\n",
       "        vertical-align: top;\n",
       "    }\n",
       "\n",
       "    .dataframe thead th {\n",
       "        text-align: right;\n",
       "    }\n",
       "</style>\n",
       "<table border=\"1\" class=\"dataframe\">\n",
       "  <thead>\n",
       "    <tr style=\"text-align: right;\">\n",
       "      <th></th>\n",
       "      <th>term</th>\n",
       "      <th>count</th>\n",
       "      <th>punctuation</th>\n",
       "      <th>numeric</th>\n",
       "      <th>stopword</th>\n",
       "      <th>stem</th>\n",
       "      <th>pos_max</th>\n",
       "    </tr>\n",
       "    <tr>\n",
       "      <th>term_id</th>\n",
       "      <th></th>\n",
       "      <th></th>\n",
       "      <th></th>\n",
       "      <th></th>\n",
       "      <th></th>\n",
       "      <th></th>\n",
       "      <th></th>\n",
       "    </tr>\n",
       "  </thead>\n",
       "  <tbody>\n",
       "    <tr>\n",
       "      <th>1805</th>\n",
       "      <td>alerted</td>\n",
       "      <td>1</td>\n",
       "      <td>False</td>\n",
       "      <td>False</td>\n",
       "      <td>False</td>\n",
       "      <td>alert</td>\n",
       "      <td>VBD</td>\n",
       "    </tr>\n",
       "    <tr>\n",
       "      <th>18948</th>\n",
       "      <td>pass-through</td>\n",
       "      <td>1</td>\n",
       "      <td>False</td>\n",
       "      <td>False</td>\n",
       "      <td>False</td>\n",
       "      <td>pass-through</td>\n",
       "      <td>JJ</td>\n",
       "    </tr>\n",
       "    <tr>\n",
       "      <th>25351</th>\n",
       "      <td>swayed</td>\n",
       "      <td>1</td>\n",
       "      <td>False</td>\n",
       "      <td>False</td>\n",
       "      <td>False</td>\n",
       "      <td>sway</td>\n",
       "      <td>VBN</td>\n",
       "    </tr>\n",
       "  </tbody>\n",
       "</table>\n",
       "</div>"
      ],
      "text/plain": [
       "                 term  count  punctuation  numeric  stopword          stem  \\\n",
       "term_id                                                                      \n",
       "1805          alerted      1        False    False     False         alert   \n",
       "18948    pass-through      1        False    False     False  pass-through   \n",
       "25351          swayed      1        False    False     False          sway   \n",
       "\n",
       "        pos_max  \n",
       "term_id          \n",
       "1805        VBD  \n",
       "18948        JJ  \n",
       "25351       VBN  "
      ]
     },
     "metadata": {},
     "output_type": "display_data"
    }
   ],
   "source": [
    "f3_tables = [F2_LIBRARY, F2_DOC, F3_TOKEN, F3_VOCAB]\n",
    "display_tables(f3_tables, 3, table = 'all')"
   ]
  },
  {
   "cell_type": "code",
   "execution_count": 15,
   "id": "1951a587-569d-4bad-bf20-9f66d69aeea6",
   "metadata": {
    "tags": []
   },
   "outputs": [],
   "source": [
    "f3_db = MyDB('tables/F3')\n",
    "f3_db.save_table(f3_tables, 'all')"
   ]
  },
  {
   "cell_type": "markdown",
   "id": "cc2081f4-a2ef-4461-a57f-55edeae1f21b",
   "metadata": {
    "jp-MarkdownHeadingCollapsed": true,
    "tags": []
   },
   "source": [
    "## 4 STADM with Vector Space Models (F4)\n",
    "\n",
    "For F4, I add a vector representation of each term in the form of TFIDF."
   ]
  },
  {
   "cell_type": "markdown",
   "id": "8d75c82a-02d1-4ec1-b45f-e17c768f815f",
   "metadata": {
    "jp-MarkdownHeadingCollapsed": true,
    "tags": []
   },
   "source": [
    "### 4.1 F4 Code"
   ]
  },
  {
   "cell_type": "markdown",
   "id": "31c5a7b7-9752-450d-abe5-5f470f129431",
   "metadata": {
    "tags": []
   },
   "source": [
    "#### 4.1.1 Token table"
   ]
  },
  {
   "cell_type": "code",
   "execution_count": 16,
   "id": "aa0b3029-f7ac-4062-98e9-65c63da2b23c",
   "metadata": {
    "tags": []
   },
   "outputs": [],
   "source": [
    "# document-term count matrix without stopwords and proper nouns\n",
    "TOKEN['stopword'] = TOKEN.term_id.map(VOCAB.stopword)\n",
    "bow_tokens = TOKEN.query(\"punctuation == False & stopword == False & pos != 'NNP' & pos != 'NNPS'\")\n",
    "BOW = bow_tokens.groupby(['doc_id','term_id']).term_id.value_counts().to_frame()\n",
    "BOW.columns = ['count']\n",
    "dt_matrix = BOW['count'].unstack().fillna(0).astype('int')\n",
    "    \n",
    "# summed tf\n",
    "tf = ( dt_matrix.T / dt_matrix.T.sum() ).T\n",
    "        \n",
    "# standard idf\n",
    "df = dt_matrix[dt_matrix > 0].count()\n",
    "N = dt_matrix.shape[0]\n",
    "idf = np.log10(N / df)\n",
    "\n",
    "TFIDF = (tf * idf).T\n",
    "TFIDF.columns = [f'tfidf[{column}]' for column in TFIDF.columns]"
   ]
  },
  {
   "cell_type": "markdown",
   "id": "620c4f67-1118-4ab2-b719-7710efc3ae60",
   "metadata": {},
   "source": [
    "#### 4.1.2 Vocabulary table"
   ]
  },
  {
   "cell_type": "code",
   "execution_count": 17,
   "id": "01064495-175b-4256-9a2d-e791efe63535",
   "metadata": {
    "tags": []
   },
   "outputs": [],
   "source": [
    "VOCAB['tfidf_sum'] = TFIDF.sum(axis = 1)\n",
    "F4_VOCAB = VOCAB.copy()"
   ]
  },
  {
   "cell_type": "markdown",
   "id": "2a3e2215-7ad1-4934-8fa2-fd07e95c2d4f",
   "metadata": {
    "jp-MarkdownHeadingCollapsed": true,
    "tags": []
   },
   "source": [
    "### 4.2 F4 Results"
   ]
  },
  {
   "cell_type": "code",
   "execution_count": 18,
   "id": "ee7af8c2-abc7-4e32-859c-86a2e62e20af",
   "metadata": {
    "tags": []
   },
   "outputs": [
    {
     "name": "stdout",
     "output_type": "stream",
     "text": [
      "F4 Library table sample:\n"
     ]
    },
    {
     "data": {
      "text/html": [
       "<div>\n",
       "<style scoped>\n",
       "    .dataframe tbody tr th:only-of-type {\n",
       "        vertical-align: middle;\n",
       "    }\n",
       "\n",
       "    .dataframe tbody tr th {\n",
       "        vertical-align: top;\n",
       "    }\n",
       "\n",
       "    .dataframe thead th {\n",
       "        text-align: right;\n",
       "    }\n",
       "</style>\n",
       "<table border=\"1\" class=\"dataframe\">\n",
       "  <thead>\n",
       "    <tr style=\"text-align: right;\">\n",
       "      <th></th>\n",
       "      <th>doc_source</th>\n",
       "      <th>doc_title</th>\n",
       "      <th>doc_date</th>\n",
       "      <th>doc_url</th>\n",
       "    </tr>\n",
       "    <tr>\n",
       "      <th>doc_id</th>\n",
       "      <th></th>\n",
       "      <th></th>\n",
       "      <th></th>\n",
       "      <th></th>\n",
       "    </tr>\n",
       "  </thead>\n",
       "  <tbody>\n",
       "    <tr>\n",
       "      <th>276961</th>\n",
       "      <td>US News</td>\n",
       "      <td>Syria Fighting Worst Since Aleppo, Civilian Ca...</td>\n",
       "      <td>10/05/2017</td>\n",
       "      <td>https://www.usnews.com/news/world/articles/201...</td>\n",
       "    </tr>\n",
       "    <tr>\n",
       "      <th>163729</th>\n",
       "      <td>US News</td>\n",
       "      <td>'Wonder Woman' Director Sought Lynda Carter's ...</td>\n",
       "      <td>05/31/2017</td>\n",
       "      <td>https://www.usnews.com/news/best-states/califo...</td>\n",
       "    </tr>\n",
       "    <tr>\n",
       "      <th>830409</th>\n",
       "      <td>US News</td>\n",
       "      <td>Democratic Lawmakers Renew Push for Parole Cha...</td>\n",
       "      <td>07/09/2019</td>\n",
       "      <td>https://www.usnews.com/news/best-states/new-me...</td>\n",
       "    </tr>\n",
       "  </tbody>\n",
       "</table>\n",
       "</div>"
      ],
      "text/plain": [
       "       doc_source                                          doc_title  \\\n",
       "doc_id                                                                 \n",
       "276961    US News  Syria Fighting Worst Since Aleppo, Civilian Ca...   \n",
       "163729    US News  'Wonder Woman' Director Sought Lynda Carter's ...   \n",
       "830409    US News  Democratic Lawmakers Renew Push for Parole Cha...   \n",
       "\n",
       "          doc_date                                            doc_url  \n",
       "doc_id                                                                 \n",
       "276961  10/05/2017  https://www.usnews.com/news/world/articles/201...  \n",
       "163729  05/31/2017  https://www.usnews.com/news/best-states/califo...  \n",
       "830409  07/09/2019  https://www.usnews.com/news/best-states/new-me...  "
      ]
     },
     "metadata": {},
     "output_type": "display_data"
    },
    {
     "name": "stdout",
     "output_type": "stream",
     "text": [
      "F4 Document table sample:\n"
     ]
    },
    {
     "data": {
      "text/html": [
       "<div>\n",
       "<style scoped>\n",
       "    .dataframe tbody tr th:only-of-type {\n",
       "        vertical-align: middle;\n",
       "    }\n",
       "\n",
       "    .dataframe tbody tr th {\n",
       "        vertical-align: top;\n",
       "    }\n",
       "\n",
       "    .dataframe thead th {\n",
       "        text-align: right;\n",
       "    }\n",
       "</style>\n",
       "<table border=\"1\" class=\"dataframe\">\n",
       "  <thead>\n",
       "    <tr style=\"text-align: right;\">\n",
       "      <th></th>\n",
       "      <th>doc_content</th>\n",
       "    </tr>\n",
       "    <tr>\n",
       "      <th>doc_id</th>\n",
       "      <th></th>\n",
       "    </tr>\n",
       "  </thead>\n",
       "  <tbody>\n",
       "    <tr>\n",
       "      <th>347018</th>\n",
       "      <td>GREAT: Consumer Spending Jumps...            (...</td>\n",
       "    </tr>\n",
       "    <tr>\n",
       "      <th>832885</th>\n",
       "      <td>Vermont police say they found dozens of cannab...</td>\n",
       "    </tr>\n",
       "    <tr>\n",
       "      <th>810143</th>\n",
       "      <td>1 Dead, 3 Wounded In Costco Shooting; Suspect ...</td>\n",
       "    </tr>\n",
       "  </tbody>\n",
       "</table>\n",
       "</div>"
      ],
      "text/plain": [
       "                                              doc_content\n",
       "doc_id                                                   \n",
       "347018  GREAT: Consumer Spending Jumps...            (...\n",
       "832885  Vermont police say they found dozens of cannab...\n",
       "810143  1 Dead, 3 Wounded In Costco Shooting; Suspect ..."
      ]
     },
     "metadata": {},
     "output_type": "display_data"
    },
    {
     "name": "stdout",
     "output_type": "stream",
     "text": [
      "F4 Token table sample:\n"
     ]
    },
    {
     "data": {
      "text/html": [
       "<div>\n",
       "<style scoped>\n",
       "    .dataframe tbody tr th:only-of-type {\n",
       "        vertical-align: middle;\n",
       "    }\n",
       "\n",
       "    .dataframe tbody tr th {\n",
       "        vertical-align: top;\n",
       "    }\n",
       "\n",
       "    .dataframe thead th {\n",
       "        text-align: right;\n",
       "    }\n",
       "</style>\n",
       "<table border=\"1\" class=\"dataframe\">\n",
       "  <thead>\n",
       "    <tr style=\"text-align: right;\">\n",
       "      <th></th>\n",
       "      <th></th>\n",
       "      <th></th>\n",
       "      <th>token</th>\n",
       "      <th>pos</th>\n",
       "      <th>term</th>\n",
       "      <th>term_id</th>\n",
       "    </tr>\n",
       "    <tr>\n",
       "      <th>doc_id</th>\n",
       "      <th>sent_num</th>\n",
       "      <th>token_id</th>\n",
       "      <th></th>\n",
       "      <th></th>\n",
       "      <th></th>\n",
       "      <th></th>\n",
       "    </tr>\n",
       "  </thead>\n",
       "  <tbody>\n",
       "    <tr>\n",
       "      <th>860965</th>\n",
       "      <th>0</th>\n",
       "      <th>5</th>\n",
       "      <td>have</td>\n",
       "      <td>VBP</td>\n",
       "      <td>have</td>\n",
       "      <td>11979</td>\n",
       "    </tr>\n",
       "    <tr>\n",
       "      <th>133387</th>\n",
       "      <th>0</th>\n",
       "      <th>17</th>\n",
       "      <td>say</td>\n",
       "      <td>VBP</td>\n",
       "      <td>say</td>\n",
       "      <td>22743</td>\n",
       "    </tr>\n",
       "    <tr>\n",
       "      <th>155281</th>\n",
       "      <th>0</th>\n",
       "      <th>12</th>\n",
       "      <td>Medicaid</td>\n",
       "      <td>NNP</td>\n",
       "      <td>medicaid</td>\n",
       "      <td>16206</td>\n",
       "    </tr>\n",
       "  </tbody>\n",
       "</table>\n",
       "</div>"
      ],
      "text/plain": [
       "                             token  pos      term  term_id\n",
       "doc_id sent_num token_id                                  \n",
       "860965 0        5             have  VBP      have    11979\n",
       "133387 0        17             say  VBP       say    22743\n",
       "155281 0        12        Medicaid  NNP  medicaid    16206"
      ]
     },
     "metadata": {},
     "output_type": "display_data"
    },
    {
     "name": "stdout",
     "output_type": "stream",
     "text": [
      "F4 Vocabulary table sample:\n"
     ]
    },
    {
     "data": {
      "text/html": [
       "<div>\n",
       "<style scoped>\n",
       "    .dataframe tbody tr th:only-of-type {\n",
       "        vertical-align: middle;\n",
       "    }\n",
       "\n",
       "    .dataframe tbody tr th {\n",
       "        vertical-align: top;\n",
       "    }\n",
       "\n",
       "    .dataframe thead th {\n",
       "        text-align: right;\n",
       "    }\n",
       "</style>\n",
       "<table border=\"1\" class=\"dataframe\">\n",
       "  <thead>\n",
       "    <tr style=\"text-align: right;\">\n",
       "      <th></th>\n",
       "      <th>term</th>\n",
       "      <th>count</th>\n",
       "      <th>punctuation</th>\n",
       "      <th>numeric</th>\n",
       "      <th>stopword</th>\n",
       "      <th>stem</th>\n",
       "      <th>pos_max</th>\n",
       "      <th>tfidf_sum</th>\n",
       "    </tr>\n",
       "    <tr>\n",
       "      <th>term_id</th>\n",
       "      <th></th>\n",
       "      <th></th>\n",
       "      <th></th>\n",
       "      <th></th>\n",
       "      <th></th>\n",
       "      <th></th>\n",
       "      <th></th>\n",
       "      <th></th>\n",
       "    </tr>\n",
       "  </thead>\n",
       "  <tbody>\n",
       "    <tr>\n",
       "      <th>24779</th>\n",
       "      <td>sticks</td>\n",
       "      <td>1</td>\n",
       "      <td>False</td>\n",
       "      <td>False</td>\n",
       "      <td>False</td>\n",
       "      <td>stick</td>\n",
       "      <td>NNS</td>\n",
       "      <td>0.235084</td>\n",
       "    </tr>\n",
       "    <tr>\n",
       "      <th>20645</th>\n",
       "      <td>puts</td>\n",
       "      <td>11</td>\n",
       "      <td>False</td>\n",
       "      <td>False</td>\n",
       "      <td>False</td>\n",
       "      <td>put</td>\n",
       "      <td>VBZ</td>\n",
       "      <td>0.372733</td>\n",
       "    </tr>\n",
       "    <tr>\n",
       "      <th>16283</th>\n",
       "      <td>memorably</td>\n",
       "      <td>1</td>\n",
       "      <td>False</td>\n",
       "      <td>False</td>\n",
       "      <td>False</td>\n",
       "      <td>memor</td>\n",
       "      <td>RB</td>\n",
       "      <td>0.018083</td>\n",
       "    </tr>\n",
       "  </tbody>\n",
       "</table>\n",
       "</div>"
      ],
      "text/plain": [
       "              term  count  punctuation  numeric  stopword   stem pos_max  \\\n",
       "term_id                                                                    \n",
       "24779       sticks      1        False    False     False  stick     NNS   \n",
       "20645         puts     11        False    False     False    put     VBZ   \n",
       "16283    memorably      1        False    False     False  memor      RB   \n",
       "\n",
       "         tfidf_sum  \n",
       "term_id             \n",
       "24779     0.235084  \n",
       "20645     0.372733  \n",
       "16283     0.018083  "
      ]
     },
     "metadata": {},
     "output_type": "display_data"
    },
    {
     "name": "stdout",
     "output_type": "stream",
     "text": [
      "F4 TFIDF table sample:\n"
     ]
    },
    {
     "data": {
      "text/html": [
       "<div>\n",
       "<style scoped>\n",
       "    .dataframe tbody tr th:only-of-type {\n",
       "        vertical-align: middle;\n",
       "    }\n",
       "\n",
       "    .dataframe tbody tr th {\n",
       "        vertical-align: top;\n",
       "    }\n",
       "\n",
       "    .dataframe thead th {\n",
       "        text-align: right;\n",
       "    }\n",
       "</style>\n",
       "<table border=\"1\" class=\"dataframe\">\n",
       "  <thead>\n",
       "    <tr style=\"text-align: right;\">\n",
       "      <th></th>\n",
       "      <th>tfidf[41]</th>\n",
       "      <th>tfidf[233]</th>\n",
       "      <th>tfidf[679]</th>\n",
       "      <th>tfidf[747]</th>\n",
       "      <th>tfidf[795]</th>\n",
       "      <th>tfidf[843]</th>\n",
       "      <th>tfidf[943]</th>\n",
       "      <th>tfidf[974]</th>\n",
       "      <th>tfidf[1195]</th>\n",
       "      <th>tfidf[1247]</th>\n",
       "    </tr>\n",
       "    <tr>\n",
       "      <th>term_id</th>\n",
       "      <th></th>\n",
       "      <th></th>\n",
       "      <th></th>\n",
       "      <th></th>\n",
       "      <th></th>\n",
       "      <th></th>\n",
       "      <th></th>\n",
       "      <th></th>\n",
       "      <th></th>\n",
       "      <th></th>\n",
       "    </tr>\n",
       "  </thead>\n",
       "  <tbody>\n",
       "    <tr>\n",
       "      <th>25505</th>\n",
       "      <td>0.0</td>\n",
       "      <td>0.0</td>\n",
       "      <td>0.0</td>\n",
       "      <td>0.0</td>\n",
       "      <td>0.0</td>\n",
       "      <td>0.0</td>\n",
       "      <td>0.0</td>\n",
       "      <td>0.0</td>\n",
       "      <td>0.0</td>\n",
       "      <td>0.0</td>\n",
       "    </tr>\n",
       "    <tr>\n",
       "      <th>21447</th>\n",
       "      <td>0.0</td>\n",
       "      <td>0.0</td>\n",
       "      <td>0.0</td>\n",
       "      <td>0.0</td>\n",
       "      <td>0.0</td>\n",
       "      <td>0.0</td>\n",
       "      <td>0.0</td>\n",
       "      <td>0.0</td>\n",
       "      <td>0.0</td>\n",
       "      <td>0.0</td>\n",
       "    </tr>\n",
       "    <tr>\n",
       "      <th>28196</th>\n",
       "      <td>0.0</td>\n",
       "      <td>0.0</td>\n",
       "      <td>0.0</td>\n",
       "      <td>0.0</td>\n",
       "      <td>0.0</td>\n",
       "      <td>0.0</td>\n",
       "      <td>0.0</td>\n",
       "      <td>0.0</td>\n",
       "      <td>0.0</td>\n",
       "      <td>0.0</td>\n",
       "    </tr>\n",
       "  </tbody>\n",
       "</table>\n",
       "</div>"
      ],
      "text/plain": [
       "         tfidf[41]  tfidf[233]  tfidf[679]  tfidf[747]  tfidf[795]  \\\n",
       "term_id                                                              \n",
       "25505          0.0         0.0         0.0         0.0         0.0   \n",
       "21447          0.0         0.0         0.0         0.0         0.0   \n",
       "28196          0.0         0.0         0.0         0.0         0.0   \n",
       "\n",
       "         tfidf[843]  tfidf[943]  tfidf[974]  tfidf[1195]  tfidf[1247]  \n",
       "term_id                                                                \n",
       "25505           0.0         0.0         0.0          0.0          0.0  \n",
       "21447           0.0         0.0         0.0          0.0          0.0  \n",
       "28196           0.0         0.0         0.0          0.0          0.0  "
      ]
     },
     "metadata": {},
     "output_type": "display_data"
    }
   ],
   "source": [
    "f4_tables = [F2_LIBRARY, F2_DOC, F3_TOKEN, F4_VOCAB]\n",
    "display_tables([f4_tables, TFIDF], 4, table = ['all', 'TFIDF'])"
   ]
  },
  {
   "cell_type": "code",
   "execution_count": 19,
   "id": "7bb2dcf3-908c-4816-b255-3fc7fabcda2c",
   "metadata": {
    "tags": []
   },
   "outputs": [],
   "source": [
    "f4_db = MyDB('tables/F4')\n",
    "f4_db.save_table(f4_tables, 'all')\n",
    "TFIDF.to_csv('tables/TFIDF.csv')"
   ]
  },
  {
   "cell_type": "markdown",
   "id": "fde410e0-374c-4c39-9305-59b9fffd0b13",
   "metadata": {
    "tags": []
   },
   "source": [
    "## 5 STADM with Analytical Models (F5)\n",
    "\n",
    "For F5, I add additional vector representations of terms."
   ]
  },
  {
   "cell_type": "markdown",
   "id": "5cfc4d9d-a7d3-46c7-9455-52064ea60e52",
   "metadata": {
    "tags": []
   },
   "source": [
    "### 5.1 F5 Code"
   ]
  },
  {
   "cell_type": "markdown",
   "id": "58552f0f-3841-4a8e-9189-7f7bf259c10a",
   "metadata": {
    "tags": []
   },
   "source": [
    "#### 5.1.1 Principal components"
   ]
  },
  {
   "cell_type": "code",
   "execution_count": 20,
   "id": "ed752685-86b1-4796-a077-eacd2aff9456",
   "metadata": {
    "tags": []
   },
   "outputs": [],
   "source": [
    "# remove common words and proper nouns\n",
    "VOCAB_reduced = VOCAB.query(\"pos_max != 'NNP' & pos_max != 'NNPS'\")\n",
    "VOCAB_reduced = VOCAB_reduced.tfidf_sum.sort_values().dropna().tail(VOCAB_reduced.shape[0]//2) # top 50%\n",
    "reduced_term_ids = VOCAB_reduced.index.tolist()\n",
    "dt_reduced = dt_matrix.loc[:, reduced_term_ids]\n",
    "\n",
    "# get eigen values and vectors\n",
    "eig_vals, eig_vecs = eigh(dt_reduced.cov())\n",
    "eig = pd.DataFrame(eig_vecs, index = dt_reduced.columns, columns = dt_reduced.columns)\n",
    "eig.insert(0, 'eigenvalue', eig_vals)\n",
    "eig.insert(0, 'explained_variance', eig.eigenvalue / eig_vals.sum())\n",
    "eig = eig.sort_values('explained_variance', ascending = False)\n",
    "eig.index = ['PC' + str(i)  for i in range(len(eig.index))]\n",
    "eig.columns.name = None\n",
    "\n",
    "# get loadings\n",
    "LOADINGS = eig.iloc[:10, 2:].T\n",
    "LOADINGS.columns = [col + '_loading' for col in LOADINGS.columns]\n",
    "LOADINGS.index.name = 'term_id'\n",
    "\n",
    "# save PCS\n",
    "PCS = eig.iloc[:10, :2]\n",
    "PCS.index.name = 'principal_component'"
   ]
  },
  {
   "cell_type": "markdown",
   "id": "251ff43c-b49f-4361-b883-343b9c070614",
   "metadata": {},
   "source": [
    "#### 5.1.2 Topic models (LDA)"
   ]
  },
  {
   "cell_type": "code",
   "execution_count": 21,
   "id": "2db01787-3772-4b7f-bf93-7482d1eda87c",
   "metadata": {},
   "outputs": [],
   "source": [
    "# get F1 table with only regular nouns\n",
    "doc_strings = TOKEN[TOKEN.pos.str.match(r'^NNS?$')]\\\n",
    "                .groupby('doc_id').term.apply(lambda x: ' '.join(x))\\\n",
    "                .to_frame().rename(columns = {'term' : 'doc_string'})\n",
    "\n",
    "tfv = CountVectorizer(max_features = None, stop_words = list(sw))\n",
    "tf = tfv.fit_transform(doc_strings.doc_string)\n",
    "lda_terms = tfv.get_feature_names_out()\n",
    "\n",
    "lda = LDA(n_components = 15, # number of topics\n",
    "          max_iter = 50,\n",
    "          learning_offset = 50.,\n",
    "          random_state = 5001)\n",
    "\n",
    "# doc-topic table (distribution of topic preference over each document)\n",
    "THETA = pd.DataFrame(lda.fit_transform(tf), index = doc_strings.index)\n",
    "THETA.columns.name = 'topic_id'\n",
    "\n",
    "# sanity check\n",
    "if not ((THETA.sum(axis = 1) < 1.000001).all() and\n",
    "        (THETA.sum(axis = 1) > 0.999999).all()):\n",
    "    raise ValueError('Documents do not sum to 1 over all topics')\n",
    "\n",
    "# topic-word table (distribution of words over each topic)\n",
    "PHI = pd.DataFrame(lda.components_, columns = lda_terms).T\n",
    "# some terms were vectorized differently with CountVectorizer, causing problematic NAs\n",
    "PHI = PHI.loc[~PHI.index.map(term_to_id_map).isna(), :]\n",
    "PHI.index.name = 'term'\n",
    "PHI.columns.name = 'topic_id'\n",
    "\n",
    "# define topics by top 3 terms\n",
    "TOPICS = PHI.stack().to_frame().rename(columns = {0 : 'weight'})\\\n",
    "            .groupby('topic_id')\\\n",
    "            .apply(lambda x:\n",
    "                       x.weight.sort_values(ascending = False)\\\n",
    "                       .head(3)\\\n",
    "                       .reset_index()\\\n",
    "                       .drop('topic_id', axis = 1)\\\n",
    "                       .term)\n",
    "TOPICS['label'] = TOPICS.apply(lambda x: str(x.name) + ' ' + ' '.join(x), 1)\n",
    "TOPICS.drop(columns = [0, 1, 2], inplace = True)\n",
    "TOPICS['doc_weight_sum'] = THETA.sum()\n",
    "TOPICS.index.name = 'topic_id'\n",
    "\n",
    "# make PHI have the same index as VOCAB\n",
    "PHI = PHI.reset_index().rename(columns = {'index' : 'term'})\n",
    "PHI['term_id'] = PHI.term.map(term_to_id_map).astype('int')\n",
    "PHI = PHI.set_index('term_id')\n",
    "PHI.drop(columns = 'term', inplace = True)\n",
    "\n",
    "max_topic_id = pd.Series(np.array(PHI).argmax(axis = 1), index = PHI.index)\n",
    "VOCAB['max_topic_id'] = VOCAB.index.map(max_topic_id)\n",
    "F5_VOCAB = VOCAB"
   ]
  },
  {
   "cell_type": "markdown",
   "id": "a72efe7c-35fb-4ced-b1b9-bef2f9a8f2fd",
   "metadata": {},
   "source": [
    "#### 5.1.3 Word Embeddings (Word2Vec)"
   ]
  },
  {
   "cell_type": "code",
   "execution_count": 22,
   "id": "01876fc5-4bae-4b2d-a54d-7b2cb483db07",
   "metadata": {},
   "outputs": [],
   "source": [
    "# remove proper nouns\n",
    "corpus = TOKEN.loc[~TOKEN.pos.str.match('NNPS?'), 'term']\\\n",
    "                .groupby('doc_id')\\\n",
    "                .apply(lambda x: x.tolist())\\\n",
    "                .reset_index()\\\n",
    "                .term\\\n",
    "                .tolist()\n",
    "vec_model = Word2Vec(corpus,\n",
    "                     vector_size = 50,\n",
    "                     window = 5,\n",
    "                     min_count = 2,\n",
    "                     workers = 4)\n",
    "\n",
    "vec = {}\n",
    "for l in corpus:\n",
    "    for element in l:\n",
    "        try:\n",
    "            vec[element] = vec_model.wv[element]\n",
    "        except KeyError:\n",
    "            pass\n",
    "VECTORS = pd.DataFrame(vec).T.reset_index().rename(columns = {'index' : 'term'})\n",
    "VECTORS.index = VECTORS.term.map(term_to_id_map)\n",
    "VECTORS.index.name = 'term_id'\n",
    "VECTORS.drop(columns = 'term', inplace = True)\n",
    "VECTORS.columns = [f'word_vector[{i}]' for i in VECTORS.columns]\n",
    "\n",
    "vec_model.save('word2vec.model')"
   ]
  },
  {
   "cell_type": "markdown",
   "id": "af5ea87b-3969-43b2-9c39-a57fa74faf00",
   "metadata": {},
   "source": [
    "#### 5.1.4 Sentiment analysis"
   ]
  },
  {
   "cell_type": "code",
   "execution_count": 23,
   "id": "f7717d47-0485-4f1a-93b7-15456ada2586",
   "metadata": {
    "tags": []
   },
   "outputs": [],
   "source": [
    "# add sentiments from salex_nrc.csv used in class\n",
    "SENTIMENTS = pd.read_csv('salex_nrc.csv', index_col = 'term_str')\n",
    "SENTIMENTS.columns = [col.replace('nrc_', '') for col in SENTIMENTS.columns]\n",
    "SENTIMENTS['polarity'] = SENTIMENTS.positive - SENTIMENTS.negative\n",
    "\n",
    "# fix index to match VOCAB table\n",
    "SENTIMENTS = SENTIMENTS.reset_index().rename(columns = {'term_str' : 'term'})\n",
    "SENTIMENTS['term_id'] = SENTIMENTS.term.map(term_to_id_map)\n",
    "SENTIMENTS = SENTIMENTS.dropna()\n",
    "SENTIMENTS.term_id = SENTIMENTS.term_id.astype('int')\n",
    "SENTIMENTS = SENTIMENTS.set_index('term_id')\n",
    "SENTIMENTS.drop(columns = 'term', inplace = True)"
   ]
  },
  {
   "cell_type": "markdown",
   "id": "e13e663a-d2a1-4fce-9eae-de6943c3d109",
   "metadata": {
    "jp-MarkdownHeadingCollapsed": true,
    "tags": []
   },
   "source": [
    "### 2.5 F5 Results"
   ]
  },
  {
   "cell_type": "code",
   "execution_count": 24,
   "id": "cc483b4b-2a84-425a-9850-3d0b97b648cc",
   "metadata": {},
   "outputs": [
    {
     "name": "stdout",
     "output_type": "stream",
     "text": [
      "F5 Library table sample:\n"
     ]
    },
    {
     "data": {
      "text/html": [
       "<div>\n",
       "<style scoped>\n",
       "    .dataframe tbody tr th:only-of-type {\n",
       "        vertical-align: middle;\n",
       "    }\n",
       "\n",
       "    .dataframe tbody tr th {\n",
       "        vertical-align: top;\n",
       "    }\n",
       "\n",
       "    .dataframe thead th {\n",
       "        text-align: right;\n",
       "    }\n",
       "</style>\n",
       "<table border=\"1\" class=\"dataframe\">\n",
       "  <thead>\n",
       "    <tr style=\"text-align: right;\">\n",
       "      <th></th>\n",
       "      <th>doc_source</th>\n",
       "      <th>doc_title</th>\n",
       "      <th>doc_date</th>\n",
       "      <th>doc_url</th>\n",
       "    </tr>\n",
       "    <tr>\n",
       "      <th>doc_id</th>\n",
       "      <th></th>\n",
       "      <th></th>\n",
       "      <th></th>\n",
       "      <th></th>\n",
       "    </tr>\n",
       "  </thead>\n",
       "  <tbody>\n",
       "    <tr>\n",
       "      <th>47239</th>\n",
       "      <td>US News</td>\n",
       "      <td>Poll: Young Americans fear they will be worse ...</td>\n",
       "      <td>01/17/2017</td>\n",
       "      <td>http://www.usnews.com/news/politics/articles/2...</td>\n",
       "    </tr>\n",
       "    <tr>\n",
       "      <th>259650</th>\n",
       "      <td>US News</td>\n",
       "      <td>With 2 in 3 Months, Ohio Executions Could Be B...</td>\n",
       "      <td>09/16/2017</td>\n",
       "      <td>https://www.usnews.com/news/best-states/ohio/a...</td>\n",
       "    </tr>\n",
       "    <tr>\n",
       "      <th>183651</th>\n",
       "      <td>US News</td>\n",
       "      <td>Trump, Pence to Attend Treasury Secretary Mnuc...</td>\n",
       "      <td>06/24/2017</td>\n",
       "      <td>https://www.usnews.com/news/entertainment/arti...</td>\n",
       "    </tr>\n",
       "  </tbody>\n",
       "</table>\n",
       "</div>"
      ],
      "text/plain": [
       "       doc_source                                          doc_title  \\\n",
       "doc_id                                                                 \n",
       "47239     US News  Poll: Young Americans fear they will be worse ...   \n",
       "259650    US News  With 2 in 3 Months, Ohio Executions Could Be B...   \n",
       "183651    US News  Trump, Pence to Attend Treasury Secretary Mnuc...   \n",
       "\n",
       "          doc_date                                            doc_url  \n",
       "doc_id                                                                 \n",
       "47239   01/17/2017  http://www.usnews.com/news/politics/articles/2...  \n",
       "259650  09/16/2017  https://www.usnews.com/news/best-states/ohio/a...  \n",
       "183651  06/24/2017  https://www.usnews.com/news/entertainment/arti...  "
      ]
     },
     "metadata": {},
     "output_type": "display_data"
    },
    {
     "name": "stdout",
     "output_type": "stream",
     "text": [
      "F5 Document table sample:\n"
     ]
    },
    {
     "data": {
      "text/html": [
       "<div>\n",
       "<style scoped>\n",
       "    .dataframe tbody tr th:only-of-type {\n",
       "        vertical-align: middle;\n",
       "    }\n",
       "\n",
       "    .dataframe tbody tr th {\n",
       "        vertical-align: top;\n",
       "    }\n",
       "\n",
       "    .dataframe thead th {\n",
       "        text-align: right;\n",
       "    }\n",
       "</style>\n",
       "<table border=\"1\" class=\"dataframe\">\n",
       "  <thead>\n",
       "    <tr style=\"text-align: right;\">\n",
       "      <th></th>\n",
       "      <th>doc_content</th>\n",
       "    </tr>\n",
       "    <tr>\n",
       "      <th>doc_id</th>\n",
       "      <th></th>\n",
       "    </tr>\n",
       "  </thead>\n",
       "  <tbody>\n",
       "    <tr>\n",
       "      <th>874666</th>\n",
       "      <td>OUAGADOUGOU (Reuters) - Two senior allies of B...</td>\n",
       "    </tr>\n",
       "    <tr>\n",
       "      <th>339590</th>\n",
       "      <td>The family of an 8-year-old girl who was tortu...</td>\n",
       "    </tr>\n",
       "    <tr>\n",
       "      <th>479419</th>\n",
       "      <td>U.S. government forecasters are set to release...</td>\n",
       "    </tr>\n",
       "  </tbody>\n",
       "</table>\n",
       "</div>"
      ],
      "text/plain": [
       "                                              doc_content\n",
       "doc_id                                                   \n",
       "874666  OUAGADOUGOU (Reuters) - Two senior allies of B...\n",
       "339590  The family of an 8-year-old girl who was tortu...\n",
       "479419  U.S. government forecasters are set to release..."
      ]
     },
     "metadata": {},
     "output_type": "display_data"
    },
    {
     "name": "stdout",
     "output_type": "stream",
     "text": [
      "F5 Token table sample:\n"
     ]
    },
    {
     "data": {
      "text/html": [
       "<div>\n",
       "<style scoped>\n",
       "    .dataframe tbody tr th:only-of-type {\n",
       "        vertical-align: middle;\n",
       "    }\n",
       "\n",
       "    .dataframe tbody tr th {\n",
       "        vertical-align: top;\n",
       "    }\n",
       "\n",
       "    .dataframe thead th {\n",
       "        text-align: right;\n",
       "    }\n",
       "</style>\n",
       "<table border=\"1\" class=\"dataframe\">\n",
       "  <thead>\n",
       "    <tr style=\"text-align: right;\">\n",
       "      <th></th>\n",
       "      <th></th>\n",
       "      <th></th>\n",
       "      <th>token</th>\n",
       "      <th>pos</th>\n",
       "      <th>term</th>\n",
       "      <th>term_id</th>\n",
       "    </tr>\n",
       "    <tr>\n",
       "      <th>doc_id</th>\n",
       "      <th>sent_num</th>\n",
       "      <th>token_id</th>\n",
       "      <th></th>\n",
       "      <th></th>\n",
       "      <th></th>\n",
       "      <th></th>\n",
       "    </tr>\n",
       "  </thead>\n",
       "  <tbody>\n",
       "    <tr>\n",
       "      <th>99711</th>\n",
       "      <th>0</th>\n",
       "      <th>0</th>\n",
       "      <td>Dozens</td>\n",
       "      <td>NNS</td>\n",
       "      <td>dozens</td>\n",
       "      <td>8312</td>\n",
       "    </tr>\n",
       "    <tr>\n",
       "      <th>616376</th>\n",
       "      <th>0</th>\n",
       "      <th>1</th>\n",
       "      <td>-</td>\n",
       "      <td>:</td>\n",
       "      <td>-</td>\n",
       "      <td>18</td>\n",
       "    </tr>\n",
       "    <tr>\n",
       "      <th>533546</th>\n",
       "      <th>0</th>\n",
       "      <th>9</th>\n",
       "      <td>shuttle</td>\n",
       "      <td>VB</td>\n",
       "      <td>shuttle</td>\n",
       "      <td>23622</td>\n",
       "    </tr>\n",
       "  </tbody>\n",
       "</table>\n",
       "</div>"
      ],
      "text/plain": [
       "                            token  pos     term  term_id\n",
       "doc_id sent_num token_id                                \n",
       "99711  0        0          Dozens  NNS   dozens     8312\n",
       "616376 0        1               -    :        -       18\n",
       "533546 0        9         shuttle   VB  shuttle    23622"
      ]
     },
     "metadata": {},
     "output_type": "display_data"
    },
    {
     "name": "stdout",
     "output_type": "stream",
     "text": [
      "F5 Vocabulary table sample:\n"
     ]
    },
    {
     "data": {
      "text/html": [
       "<div>\n",
       "<style scoped>\n",
       "    .dataframe tbody tr th:only-of-type {\n",
       "        vertical-align: middle;\n",
       "    }\n",
       "\n",
       "    .dataframe tbody tr th {\n",
       "        vertical-align: top;\n",
       "    }\n",
       "\n",
       "    .dataframe thead th {\n",
       "        text-align: right;\n",
       "    }\n",
       "</style>\n",
       "<table border=\"1\" class=\"dataframe\">\n",
       "  <thead>\n",
       "    <tr style=\"text-align: right;\">\n",
       "      <th></th>\n",
       "      <th>term</th>\n",
       "      <th>count</th>\n",
       "      <th>punctuation</th>\n",
       "      <th>numeric</th>\n",
       "      <th>stopword</th>\n",
       "      <th>stem</th>\n",
       "      <th>pos_max</th>\n",
       "      <th>tfidf_sum</th>\n",
       "      <th>max_topic_id</th>\n",
       "    </tr>\n",
       "    <tr>\n",
       "      <th>term_id</th>\n",
       "      <th></th>\n",
       "      <th></th>\n",
       "      <th></th>\n",
       "      <th></th>\n",
       "      <th></th>\n",
       "      <th></th>\n",
       "      <th></th>\n",
       "      <th></th>\n",
       "      <th></th>\n",
       "    </tr>\n",
       "  </thead>\n",
       "  <tbody>\n",
       "    <tr>\n",
       "      <th>20899</th>\n",
       "      <td>ramped</td>\n",
       "      <td>2</td>\n",
       "      <td>False</td>\n",
       "      <td>False</td>\n",
       "      <td>False</td>\n",
       "      <td>ramp</td>\n",
       "      <td>VBN</td>\n",
       "      <td>0.349896</td>\n",
       "      <td>NaN</td>\n",
       "    </tr>\n",
       "    <tr>\n",
       "      <th>1106</th>\n",
       "      <td>88-year-old</td>\n",
       "      <td>1</td>\n",
       "      <td>False</td>\n",
       "      <td>True</td>\n",
       "      <td>False</td>\n",
       "      <td>88-year-old</td>\n",
       "      <td>JJ</td>\n",
       "      <td>0.363311</td>\n",
       "      <td>NaN</td>\n",
       "    </tr>\n",
       "    <tr>\n",
       "      <th>23951</th>\n",
       "      <td>slovakia</td>\n",
       "      <td>4</td>\n",
       "      <td>False</td>\n",
       "      <td>False</td>\n",
       "      <td>False</td>\n",
       "      <td>slovakia</td>\n",
       "      <td>NNP</td>\n",
       "      <td>0.333035</td>\n",
       "      <td>NaN</td>\n",
       "    </tr>\n",
       "  </tbody>\n",
       "</table>\n",
       "</div>"
      ],
      "text/plain": [
       "                term  count  punctuation  numeric  stopword         stem  \\\n",
       "term_id                                                                    \n",
       "20899         ramped      2        False    False     False         ramp   \n",
       "1106     88-year-old      1        False     True     False  88-year-old   \n",
       "23951       slovakia      4        False    False     False     slovakia   \n",
       "\n",
       "        pos_max  tfidf_sum  max_topic_id  \n",
       "term_id                                   \n",
       "20899       VBN   0.349896           NaN  \n",
       "1106         JJ   0.363311           NaN  \n",
       "23951       NNP   0.333035           NaN  "
      ]
     },
     "metadata": {},
     "output_type": "display_data"
    },
    {
     "name": "stdout",
     "output_type": "stream",
     "text": [
      "F5 Principal_Components table sample:\n"
     ]
    },
    {
     "data": {
      "text/html": [
       "<div>\n",
       "<style scoped>\n",
       "    .dataframe tbody tr th:only-of-type {\n",
       "        vertical-align: middle;\n",
       "    }\n",
       "\n",
       "    .dataframe tbody tr th {\n",
       "        vertical-align: top;\n",
       "    }\n",
       "\n",
       "    .dataframe thead th {\n",
       "        text-align: right;\n",
       "    }\n",
       "</style>\n",
       "<table border=\"1\" class=\"dataframe\">\n",
       "  <thead>\n",
       "    <tr style=\"text-align: right;\">\n",
       "      <th></th>\n",
       "      <th>explained_variance</th>\n",
       "      <th>eigenvalue</th>\n",
       "    </tr>\n",
       "    <tr>\n",
       "      <th>principal_component</th>\n",
       "      <th></th>\n",
       "      <th></th>\n",
       "    </tr>\n",
       "  </thead>\n",
       "  <tbody>\n",
       "    <tr>\n",
       "      <th>PC9</th>\n",
       "      <td>0.006230</td>\n",
       "      <td>0.097251</td>\n",
       "    </tr>\n",
       "    <tr>\n",
       "      <th>PC7</th>\n",
       "      <td>0.006953</td>\n",
       "      <td>0.108546</td>\n",
       "    </tr>\n",
       "    <tr>\n",
       "      <th>PC8</th>\n",
       "      <td>0.006459</td>\n",
       "      <td>0.100825</td>\n",
       "    </tr>\n",
       "  </tbody>\n",
       "</table>\n",
       "</div>"
      ],
      "text/plain": [
       "                     explained_variance  eigenvalue\n",
       "principal_component                                \n",
       "PC9                            0.006230    0.097251\n",
       "PC7                            0.006953    0.108546\n",
       "PC8                            0.006459    0.100825"
      ]
     },
     "metadata": {},
     "output_type": "display_data"
    },
    {
     "name": "stdout",
     "output_type": "stream",
     "text": [
      "F5 Loadings table sample:\n"
     ]
    },
    {
     "data": {
      "text/html": [
       "<div>\n",
       "<style scoped>\n",
       "    .dataframe tbody tr th:only-of-type {\n",
       "        vertical-align: middle;\n",
       "    }\n",
       "\n",
       "    .dataframe tbody tr th {\n",
       "        vertical-align: top;\n",
       "    }\n",
       "\n",
       "    .dataframe thead th {\n",
       "        text-align: right;\n",
       "    }\n",
       "</style>\n",
       "<table border=\"1\" class=\"dataframe\">\n",
       "  <thead>\n",
       "    <tr style=\"text-align: right;\">\n",
       "      <th></th>\n",
       "      <th>PC0_loading</th>\n",
       "      <th>PC1_loading</th>\n",
       "      <th>PC2_loading</th>\n",
       "      <th>PC3_loading</th>\n",
       "      <th>PC4_loading</th>\n",
       "      <th>PC5_loading</th>\n",
       "      <th>PC6_loading</th>\n",
       "      <th>PC7_loading</th>\n",
       "      <th>PC8_loading</th>\n",
       "      <th>PC9_loading</th>\n",
       "    </tr>\n",
       "    <tr>\n",
       "      <th>term_id</th>\n",
       "      <th></th>\n",
       "      <th></th>\n",
       "      <th></th>\n",
       "      <th></th>\n",
       "      <th></th>\n",
       "      <th></th>\n",
       "      <th></th>\n",
       "      <th></th>\n",
       "      <th></th>\n",
       "      <th></th>\n",
       "    </tr>\n",
       "  </thead>\n",
       "  <tbody>\n",
       "    <tr>\n",
       "      <th>460</th>\n",
       "      <td>0.001419</td>\n",
       "      <td>0.000916</td>\n",
       "      <td>0.005541</td>\n",
       "      <td>-0.012512</td>\n",
       "      <td>0.000519</td>\n",
       "      <td>-0.000172</td>\n",
       "      <td>-0.000392</td>\n",
       "      <td>0.000111</td>\n",
       "      <td>-0.002238</td>\n",
       "      <td>-0.002003</td>\n",
       "    </tr>\n",
       "    <tr>\n",
       "      <th>22244</th>\n",
       "      <td>-0.001557</td>\n",
       "      <td>0.000087</td>\n",
       "      <td>0.003011</td>\n",
       "      <td>-0.002693</td>\n",
       "      <td>-0.000456</td>\n",
       "      <td>0.000493</td>\n",
       "      <td>0.001616</td>\n",
       "      <td>-0.000330</td>\n",
       "      <td>-0.000290</td>\n",
       "      <td>-0.000485</td>\n",
       "    </tr>\n",
       "    <tr>\n",
       "      <th>19166</th>\n",
       "      <td>-0.004223</td>\n",
       "      <td>0.000328</td>\n",
       "      <td>0.003496</td>\n",
       "      <td>0.002965</td>\n",
       "      <td>-0.001060</td>\n",
       "      <td>-0.000677</td>\n",
       "      <td>0.000678</td>\n",
       "      <td>-0.000028</td>\n",
       "      <td>0.000202</td>\n",
       "      <td>0.000122</td>\n",
       "    </tr>\n",
       "  </tbody>\n",
       "</table>\n",
       "</div>"
      ],
      "text/plain": [
       "         PC0_loading  PC1_loading  PC2_loading  PC3_loading  PC4_loading  \\\n",
       "term_id                                                                    \n",
       "460         0.001419     0.000916     0.005541    -0.012512     0.000519   \n",
       "22244      -0.001557     0.000087     0.003011    -0.002693    -0.000456   \n",
       "19166      -0.004223     0.000328     0.003496     0.002965    -0.001060   \n",
       "\n",
       "         PC5_loading  PC6_loading  PC7_loading  PC8_loading  PC9_loading  \n",
       "term_id                                                                   \n",
       "460        -0.000172    -0.000392     0.000111    -0.002238    -0.002003  \n",
       "22244       0.000493     0.001616    -0.000330    -0.000290    -0.000485  \n",
       "19166      -0.000677     0.000678    -0.000028     0.000202     0.000122  "
      ]
     },
     "metadata": {},
     "output_type": "display_data"
    },
    {
     "name": "stdout",
     "output_type": "stream",
     "text": [
      "F5 Theta table sample:\n"
     ]
    },
    {
     "data": {
      "text/html": [
       "<div>\n",
       "<style scoped>\n",
       "    .dataframe tbody tr th:only-of-type {\n",
       "        vertical-align: middle;\n",
       "    }\n",
       "\n",
       "    .dataframe tbody tr th {\n",
       "        vertical-align: top;\n",
       "    }\n",
       "\n",
       "    .dataframe thead th {\n",
       "        text-align: right;\n",
       "    }\n",
       "</style>\n",
       "<table border=\"1\" class=\"dataframe\">\n",
       "  <thead>\n",
       "    <tr style=\"text-align: right;\">\n",
       "      <th>topic_id</th>\n",
       "      <th>0</th>\n",
       "      <th>1</th>\n",
       "      <th>2</th>\n",
       "      <th>3</th>\n",
       "      <th>4</th>\n",
       "      <th>5</th>\n",
       "      <th>6</th>\n",
       "      <th>7</th>\n",
       "      <th>8</th>\n",
       "      <th>9</th>\n",
       "    </tr>\n",
       "    <tr>\n",
       "      <th>doc_id</th>\n",
       "      <th></th>\n",
       "      <th></th>\n",
       "      <th></th>\n",
       "      <th></th>\n",
       "      <th></th>\n",
       "      <th></th>\n",
       "      <th></th>\n",
       "      <th></th>\n",
       "      <th></th>\n",
       "      <th></th>\n",
       "    </tr>\n",
       "  </thead>\n",
       "  <tbody>\n",
       "    <tr>\n",
       "      <th>70363</th>\n",
       "      <td>0.136998</td>\n",
       "      <td>0.004762</td>\n",
       "      <td>0.004762</td>\n",
       "      <td>0.004762</td>\n",
       "      <td>0.004762</td>\n",
       "      <td>0.004762</td>\n",
       "      <td>0.004762</td>\n",
       "      <td>0.004762</td>\n",
       "      <td>0.330774</td>\n",
       "      <td>0.004762</td>\n",
       "    </tr>\n",
       "    <tr>\n",
       "      <th>811062</th>\n",
       "      <td>0.196735</td>\n",
       "      <td>0.006061</td>\n",
       "      <td>0.006061</td>\n",
       "      <td>0.006061</td>\n",
       "      <td>0.006061</td>\n",
       "      <td>0.006061</td>\n",
       "      <td>0.334478</td>\n",
       "      <td>0.006061</td>\n",
       "      <td>0.006061</td>\n",
       "      <td>0.006061</td>\n",
       "    </tr>\n",
       "    <tr>\n",
       "      <th>13933</th>\n",
       "      <td>0.216729</td>\n",
       "      <td>0.013333</td>\n",
       "      <td>0.013333</td>\n",
       "      <td>0.013333</td>\n",
       "      <td>0.013333</td>\n",
       "      <td>0.013333</td>\n",
       "      <td>0.013333</td>\n",
       "      <td>0.013333</td>\n",
       "      <td>0.013333</td>\n",
       "      <td>0.609938</td>\n",
       "    </tr>\n",
       "  </tbody>\n",
       "</table>\n",
       "</div>"
      ],
      "text/plain": [
       "topic_id         0         1         2         3         4         5  \\\n",
       "doc_id                                                                 \n",
       "70363     0.136998  0.004762  0.004762  0.004762  0.004762  0.004762   \n",
       "811062    0.196735  0.006061  0.006061  0.006061  0.006061  0.006061   \n",
       "13933     0.216729  0.013333  0.013333  0.013333  0.013333  0.013333   \n",
       "\n",
       "topic_id         6         7         8         9  \n",
       "doc_id                                            \n",
       "70363     0.004762  0.004762  0.330774  0.004762  \n",
       "811062    0.334478  0.006061  0.006061  0.006061  \n",
       "13933     0.013333  0.013333  0.013333  0.609938  "
      ]
     },
     "metadata": {},
     "output_type": "display_data"
    },
    {
     "name": "stdout",
     "output_type": "stream",
     "text": [
      "F5 Phi table sample:\n"
     ]
    },
    {
     "data": {
      "text/html": [
       "<div>\n",
       "<style scoped>\n",
       "    .dataframe tbody tr th:only-of-type {\n",
       "        vertical-align: middle;\n",
       "    }\n",
       "\n",
       "    .dataframe tbody tr th {\n",
       "        vertical-align: top;\n",
       "    }\n",
       "\n",
       "    .dataframe thead th {\n",
       "        text-align: right;\n",
       "    }\n",
       "</style>\n",
       "<table border=\"1\" class=\"dataframe\">\n",
       "  <thead>\n",
       "    <tr style=\"text-align: right;\">\n",
       "      <th>topic_id</th>\n",
       "      <th>0</th>\n",
       "      <th>1</th>\n",
       "      <th>2</th>\n",
       "      <th>3</th>\n",
       "      <th>4</th>\n",
       "      <th>5</th>\n",
       "      <th>6</th>\n",
       "      <th>7</th>\n",
       "      <th>8</th>\n",
       "      <th>9</th>\n",
       "    </tr>\n",
       "    <tr>\n",
       "      <th>term_id</th>\n",
       "      <th></th>\n",
       "      <th></th>\n",
       "      <th></th>\n",
       "      <th></th>\n",
       "      <th></th>\n",
       "      <th></th>\n",
       "      <th></th>\n",
       "      <th></th>\n",
       "      <th></th>\n",
       "      <th></th>\n",
       "    </tr>\n",
       "  </thead>\n",
       "  <tbody>\n",
       "    <tr>\n",
       "      <th>8381</th>\n",
       "      <td>0.066667</td>\n",
       "      <td>5.769753</td>\n",
       "      <td>4.113679</td>\n",
       "      <td>2.316569</td>\n",
       "      <td>0.066667</td>\n",
       "      <td>0.066667</td>\n",
       "      <td>0.066667</td>\n",
       "      <td>2.066666</td>\n",
       "      <td>0.066667</td>\n",
       "      <td>0.066667</td>\n",
       "    </tr>\n",
       "    <tr>\n",
       "      <th>19057</th>\n",
       "      <td>0.066667</td>\n",
       "      <td>0.066667</td>\n",
       "      <td>10.519004</td>\n",
       "      <td>0.066667</td>\n",
       "      <td>7.814068</td>\n",
       "      <td>5.478541</td>\n",
       "      <td>0.066667</td>\n",
       "      <td>0.066667</td>\n",
       "      <td>0.066667</td>\n",
       "      <td>1.224960</td>\n",
       "    </tr>\n",
       "    <tr>\n",
       "      <th>7475</th>\n",
       "      <td>0.066667</td>\n",
       "      <td>0.066667</td>\n",
       "      <td>0.066667</td>\n",
       "      <td>1.121363</td>\n",
       "      <td>0.066667</td>\n",
       "      <td>0.066667</td>\n",
       "      <td>0.066667</td>\n",
       "      <td>0.066667</td>\n",
       "      <td>0.066667</td>\n",
       "      <td>0.066667</td>\n",
       "    </tr>\n",
       "  </tbody>\n",
       "</table>\n",
       "</div>"
      ],
      "text/plain": [
       "topic_id         0         1          2         3         4         5  \\\n",
       "term_id                                                                 \n",
       "8381      0.066667  5.769753   4.113679  2.316569  0.066667  0.066667   \n",
       "19057     0.066667  0.066667  10.519004  0.066667  7.814068  5.478541   \n",
       "7475      0.066667  0.066667   0.066667  1.121363  0.066667  0.066667   \n",
       "\n",
       "topic_id         6         7         8         9  \n",
       "term_id                                           \n",
       "8381      0.066667  2.066666  0.066667  0.066667  \n",
       "19057     0.066667  0.066667  0.066667  1.224960  \n",
       "7475      0.066667  0.066667  0.066667  0.066667  "
      ]
     },
     "metadata": {},
     "output_type": "display_data"
    },
    {
     "name": "stdout",
     "output_type": "stream",
     "text": [
      "F5 Topics table sample:\n"
     ]
    },
    {
     "data": {
      "text/html": [
       "<div>\n",
       "<style scoped>\n",
       "    .dataframe tbody tr th:only-of-type {\n",
       "        vertical-align: middle;\n",
       "    }\n",
       "\n",
       "    .dataframe tbody tr th {\n",
       "        vertical-align: top;\n",
       "    }\n",
       "\n",
       "    .dataframe thead th {\n",
       "        text-align: right;\n",
       "    }\n",
       "</style>\n",
       "<table border=\"1\" class=\"dataframe\">\n",
       "  <thead>\n",
       "    <tr style=\"text-align: right;\">\n",
       "      <th>term</th>\n",
       "      <th>label</th>\n",
       "      <th>doc_weight_sum</th>\n",
       "    </tr>\n",
       "    <tr>\n",
       "      <th>topic_id</th>\n",
       "      <th></th>\n",
       "      <th></th>\n",
       "    </tr>\n",
       "  </thead>\n",
       "  <tbody>\n",
       "    <tr>\n",
       "      <th>1</th>\n",
       "      <td>1 story link stories</td>\n",
       "      <td>727.476000</td>\n",
       "    </tr>\n",
       "    <tr>\n",
       "      <th>5</th>\n",
       "      <td>5 points film service</td>\n",
       "      <td>491.149553</td>\n",
       "    </tr>\n",
       "    <tr>\n",
       "      <th>10</th>\n",
       "      <td>10 people world groups</td>\n",
       "      <td>537.369749</td>\n",
       "    </tr>\n",
       "  </tbody>\n",
       "</table>\n",
       "</div>"
      ],
      "text/plain": [
       "term                       label  doc_weight_sum\n",
       "topic_id                                        \n",
       "1           1 story link stories      727.476000\n",
       "5          5 points film service      491.149553\n",
       "10        10 people world groups      537.369749"
      ]
     },
     "metadata": {},
     "output_type": "display_data"
    },
    {
     "name": "stdout",
     "output_type": "stream",
     "text": [
      "F5 Vectors table sample:\n"
     ]
    },
    {
     "data": {
      "text/html": [
       "<div>\n",
       "<style scoped>\n",
       "    .dataframe tbody tr th:only-of-type {\n",
       "        vertical-align: middle;\n",
       "    }\n",
       "\n",
       "    .dataframe tbody tr th {\n",
       "        vertical-align: top;\n",
       "    }\n",
       "\n",
       "    .dataframe thead th {\n",
       "        text-align: right;\n",
       "    }\n",
       "</style>\n",
       "<table border=\"1\" class=\"dataframe\">\n",
       "  <thead>\n",
       "    <tr style=\"text-align: right;\">\n",
       "      <th></th>\n",
       "      <th>word_vector[0]</th>\n",
       "      <th>word_vector[1]</th>\n",
       "      <th>word_vector[2]</th>\n",
       "      <th>word_vector[3]</th>\n",
       "      <th>word_vector[4]</th>\n",
       "      <th>word_vector[5]</th>\n",
       "      <th>word_vector[6]</th>\n",
       "      <th>word_vector[7]</th>\n",
       "      <th>word_vector[8]</th>\n",
       "      <th>word_vector[9]</th>\n",
       "    </tr>\n",
       "    <tr>\n",
       "      <th>term_id</th>\n",
       "      <th></th>\n",
       "      <th></th>\n",
       "      <th></th>\n",
       "      <th></th>\n",
       "      <th></th>\n",
       "      <th></th>\n",
       "      <th></th>\n",
       "      <th></th>\n",
       "      <th></th>\n",
       "      <th></th>\n",
       "    </tr>\n",
       "  </thead>\n",
       "  <tbody>\n",
       "    <tr>\n",
       "      <th>3842</th>\n",
       "      <td>0.004434</td>\n",
       "      <td>0.007598</td>\n",
       "      <td>-0.000672</td>\n",
       "      <td>0.025868</td>\n",
       "      <td>0.021455</td>\n",
       "      <td>-0.013984</td>\n",
       "      <td>0.044028</td>\n",
       "      <td>0.040068</td>\n",
       "      <td>-0.023773</td>\n",
       "      <td>-0.020132</td>\n",
       "    </tr>\n",
       "    <tr>\n",
       "      <th>26084</th>\n",
       "      <td>-0.005480</td>\n",
       "      <td>-0.054595</td>\n",
       "      <td>-0.037831</td>\n",
       "      <td>0.033730</td>\n",
       "      <td>-0.007217</td>\n",
       "      <td>-0.125992</td>\n",
       "      <td>0.240865</td>\n",
       "      <td>0.290666</td>\n",
       "      <td>-0.178819</td>\n",
       "      <td>-0.140063</td>\n",
       "    </tr>\n",
       "    <tr>\n",
       "      <th>16193</th>\n",
       "      <td>-0.021661</td>\n",
       "      <td>-0.002886</td>\n",
       "      <td>0.017216</td>\n",
       "      <td>-0.003641</td>\n",
       "      <td>-0.014461</td>\n",
       "      <td>-0.031649</td>\n",
       "      <td>0.041497</td>\n",
       "      <td>0.042879</td>\n",
       "      <td>-0.017796</td>\n",
       "      <td>-0.028819</td>\n",
       "    </tr>\n",
       "  </tbody>\n",
       "</table>\n",
       "</div>"
      ],
      "text/plain": [
       "         word_vector[0]  word_vector[1]  word_vector[2]  word_vector[3]  \\\n",
       "term_id                                                                   \n",
       "3842           0.004434        0.007598       -0.000672        0.025868   \n",
       "26084         -0.005480       -0.054595       -0.037831        0.033730   \n",
       "16193         -0.021661       -0.002886        0.017216       -0.003641   \n",
       "\n",
       "         word_vector[4]  word_vector[5]  word_vector[6]  word_vector[7]  \\\n",
       "term_id                                                                   \n",
       "3842           0.021455       -0.013984        0.044028        0.040068   \n",
       "26084         -0.007217       -0.125992        0.240865        0.290666   \n",
       "16193         -0.014461       -0.031649        0.041497        0.042879   \n",
       "\n",
       "         word_vector[8]  word_vector[9]  \n",
       "term_id                                  \n",
       "3842          -0.023773       -0.020132  \n",
       "26084         -0.178819       -0.140063  \n",
       "16193         -0.017796       -0.028819  "
      ]
     },
     "metadata": {},
     "output_type": "display_data"
    },
    {
     "name": "stdout",
     "output_type": "stream",
     "text": [
      "F5 Sentiments table sample:\n"
     ]
    },
    {
     "data": {
      "text/html": [
       "<div>\n",
       "<style scoped>\n",
       "    .dataframe tbody tr th:only-of-type {\n",
       "        vertical-align: middle;\n",
       "    }\n",
       "\n",
       "    .dataframe tbody tr th {\n",
       "        vertical-align: top;\n",
       "    }\n",
       "\n",
       "    .dataframe thead th {\n",
       "        text-align: right;\n",
       "    }\n",
       "</style>\n",
       "<table border=\"1\" class=\"dataframe\">\n",
       "  <thead>\n",
       "    <tr style=\"text-align: right;\">\n",
       "      <th></th>\n",
       "      <th>anger</th>\n",
       "      <th>anticipation</th>\n",
       "      <th>disgust</th>\n",
       "      <th>fear</th>\n",
       "      <th>joy</th>\n",
       "      <th>negative</th>\n",
       "      <th>positive</th>\n",
       "      <th>sadness</th>\n",
       "      <th>surprise</th>\n",
       "      <th>trust</th>\n",
       "    </tr>\n",
       "    <tr>\n",
       "      <th>term_id</th>\n",
       "      <th></th>\n",
       "      <th></th>\n",
       "      <th></th>\n",
       "      <th></th>\n",
       "      <th></th>\n",
       "      <th></th>\n",
       "      <th></th>\n",
       "      <th></th>\n",
       "      <th></th>\n",
       "      <th></th>\n",
       "    </tr>\n",
       "  </thead>\n",
       "  <tbody>\n",
       "    <tr>\n",
       "      <th>21684</th>\n",
       "      <td>1</td>\n",
       "      <td>0</td>\n",
       "      <td>1</td>\n",
       "      <td>0</td>\n",
       "      <td>0</td>\n",
       "      <td>1</td>\n",
       "      <td>0</td>\n",
       "      <td>1</td>\n",
       "      <td>0</td>\n",
       "      <td>0</td>\n",
       "    </tr>\n",
       "    <tr>\n",
       "      <th>13067</th>\n",
       "      <td>1</td>\n",
       "      <td>0</td>\n",
       "      <td>0</td>\n",
       "      <td>1</td>\n",
       "      <td>0</td>\n",
       "      <td>1</td>\n",
       "      <td>0</td>\n",
       "      <td>0</td>\n",
       "      <td>1</td>\n",
       "      <td>0</td>\n",
       "    </tr>\n",
       "    <tr>\n",
       "      <th>27471</th>\n",
       "      <td>1</td>\n",
       "      <td>1</td>\n",
       "      <td>0</td>\n",
       "      <td>1</td>\n",
       "      <td>0</td>\n",
       "      <td>1</td>\n",
       "      <td>0</td>\n",
       "      <td>0</td>\n",
       "      <td>0</td>\n",
       "      <td>0</td>\n",
       "    </tr>\n",
       "  </tbody>\n",
       "</table>\n",
       "</div>"
      ],
      "text/plain": [
       "         anger  anticipation  disgust  fear  joy  negative  positive  sadness  \\\n",
       "term_id                                                                         \n",
       "21684        1             0        1     0    0         1         0        1   \n",
       "13067        1             0        0     1    0         1         0        0   \n",
       "27471        1             1        0     1    0         1         0        0   \n",
       "\n",
       "         surprise  trust  \n",
       "term_id                   \n",
       "21684           0      0  \n",
       "13067           1      0  \n",
       "27471           0      0  "
      ]
     },
     "metadata": {},
     "output_type": "display_data"
    }
   ],
   "source": [
    "f5_tables = [[F2_LIBRARY, F2_DOC, F3_TOKEN, F5_VOCAB], PCS, LOADINGS, THETA, PHI, TOPICS, VECTORS, SENTIMENTS]\n",
    "f5_table_names = ['all', 'Principal_Components', 'Loadings', 'Theta', 'Phi', 'Topics', 'Vectors', 'Sentiments']\n",
    "display_tables(f5_tables, 5, table = f5_table_names)"
   ]
  },
  {
   "cell_type": "code",
   "execution_count": 25,
   "id": "4373728d-582c-47ae-92dd-2b5c3d3f3aee",
   "metadata": {},
   "outputs": [],
   "source": [
    "f5_db = MyDB('tables/F5')\n",
    "f5_db.save_table(f5_tables, f5_table_names)"
   ]
  },
  {
   "cell_type": "markdown",
   "id": "9ba847de-c697-4d7e-b998-a1318334940d",
   "metadata": {},
   "source": [
    "## Next up: Statistical and Visual Exploration will be addressed in [rn7ena_news_eta.ipynb](rn7ena_news_eta.ipynb)"
   ]
  }
 ],
 "metadata": {
  "kernelspec": {
   "display_name": "Python 3 (ipykernel)",
   "language": "python",
   "name": "python3"
  },
  "language_info": {
   "codemirror_mode": {
    "name": "ipython",
    "version": 3
   },
   "file_extension": ".py",
   "mimetype": "text/x-python",
   "name": "python",
   "nbconvert_exporter": "python",
   "pygments_lexer": "ipython3",
   "version": "3.11.4"
  }
 },
 "nbformat": 4,
 "nbformat_minor": 5
}
