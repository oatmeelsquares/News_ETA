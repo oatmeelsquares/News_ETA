{
 "cells": [
  {
   "cell_type": "markdown",
   "id": "5e4bce9e-d698-4952-b995-22f54d399746",
   "metadata": {
    "tags": []
   },
   "source": [
    "# DS 5001 Final Project: Text Preparation\n",
    "Becky Desrosiers | rn7ena@virginia.edu | DS5001 F24 | 13 December, 2024"
   ]
  },
  {
   "cell_type": "markdown",
   "id": "d4773620-deed-4212-8d8e-f3c5c56df393",
   "metadata": {
    "jp-MarkdownHeadingCollapsed": true,
    "tags": []
   },
   "source": [
    "## 0 Setup (F0)\n",
    "\n",
    "In this phase, I import my packages and data as well as the raw text."
   ]
  },
  {
   "cell_type": "markdown",
   "id": "eff809e0-64c9-4184-ae0f-c90b87c5d03f",
   "metadata": {
    "tags": []
   },
   "source": [
    "### 0.1 Imports"
   ]
  },
  {
   "cell_type": "code",
   "execution_count": 1,
   "id": "f10cd91e-48b4-482d-aae9-9e9a6a172a2f",
   "metadata": {
    "tags": []
   },
   "outputs": [],
   "source": [
    "import pandas as pd\n",
    "import numpy as np\n",
    "import nltk\n",
    "from scipy.linalg import eigh\n",
    "from sklearn.feature_extraction.text import CountVectorizer\n",
    "from sklearn.decomposition import LatentDirichletAllocation as LDA\n",
    "from gensim.models.word2vec import Word2Vec\n",
    "from helper import MyDB, display_tables"
   ]
  },
  {
   "cell_type": "markdown",
   "id": "15f1ddb4-940b-4c8c-8951-1d6a731936ff",
   "metadata": {
    "tags": []
   },
   "source": [
    "### 0.2 Data ingest"
   ]
  },
  {
   "cell_type": "code",
   "execution_count": 2,
   "id": "392efb9f-c7e3-4578-9a16-3de427beef1d",
   "metadata": {
    "tags": []
   },
   "outputs": [
    {
     "name": "stdout",
     "output_type": "stream",
     "text": [
      "F0 table sample:\n"
     ]
    },
    {
     "data": {
      "text/html": [
       "<div>\n",
       "<style scoped>\n",
       "    .dataframe tbody tr th:only-of-type {\n",
       "        vertical-align: middle;\n",
       "    }\n",
       "\n",
       "    .dataframe tbody tr th {\n",
       "        vertical-align: top;\n",
       "    }\n",
       "\n",
       "    .dataframe thead th {\n",
       "        text-align: right;\n",
       "    }\n",
       "</style>\n",
       "<table border=\"1\" class=\"dataframe\">\n",
       "  <thead>\n",
       "    <tr style=\"text-align: right;\">\n",
       "      <th></th>\n",
       "      <th>doc_source</th>\n",
       "      <th>doc_title</th>\n",
       "      <th>doc_content</th>\n",
       "      <th>doc_date</th>\n",
       "      <th>doc_url</th>\n",
       "    </tr>\n",
       "    <tr>\n",
       "      <th>doc_id</th>\n",
       "      <th></th>\n",
       "      <th></th>\n",
       "      <th></th>\n",
       "      <th></th>\n",
       "      <th></th>\n",
       "    </tr>\n",
       "  </thead>\n",
       "  <tbody>\n",
       "    <tr>\n",
       "      <th>880014</th>\n",
       "      <td>US News</td>\n",
       "      <td>Australia Regulator Accused of Harming Competi...</td>\n",
       "      <td>By Sonali PaulMELBOURNE (Reuters) - Australia'...</td>\n",
       "      <td>09/10/2019</td>\n",
       "      <td>https://www.usnews.com/news/technology/article...</td>\n",
       "    </tr>\n",
       "    <tr>\n",
       "      <th>428184</th>\n",
       "      <td>US News</td>\n",
       "      <td>Six Tanzanian Opposition Leaders Charged With ...</td>\n",
       "      <td>DAR ES SALAAM (Reuters) - Tanzania has charged...</td>\n",
       "      <td>03/28/2018</td>\n",
       "      <td>https://www.usnews.com/news/world/articles/201...</td>\n",
       "    </tr>\n",
       "    <tr>\n",
       "      <th>556227</th>\n",
       "      <td>UPI Latest</td>\n",
       "      <td>New England Patriots WR Kenny Britt hampered b...</td>\n",
       "      <td>New England Patriots wide receiver Kenny Britt...</td>\n",
       "      <td>08/20/2018</td>\n",
       "      <td>https://www.upi.com/Sports_News/NFL/2018/08/20...</td>\n",
       "    </tr>\n",
       "  </tbody>\n",
       "</table>\n",
       "</div>"
      ],
      "text/plain": [
       "        doc_source                                          doc_title  \\\n",
       "doc_id                                                                  \n",
       "880014     US News  Australia Regulator Accused of Harming Competi...   \n",
       "428184     US News  Six Tanzanian Opposition Leaders Charged With ...   \n",
       "556227  UPI Latest  New England Patriots WR Kenny Britt hampered b...   \n",
       "\n",
       "                                              doc_content    doc_date  \\\n",
       "doc_id                                                                  \n",
       "880014  By Sonali PaulMELBOURNE (Reuters) - Australia'...  09/10/2019   \n",
       "428184  DAR ES SALAAM (Reuters) - Tanzania has charged...  03/28/2018   \n",
       "556227  New England Patriots wide receiver Kenny Britt...  08/20/2018   \n",
       "\n",
       "                                                  doc_url  \n",
       "doc_id                                                     \n",
       "880014  https://www.usnews.com/news/technology/article...  \n",
       "428184  https://www.usnews.com/news/world/articles/201...  \n",
       "556227  https://www.upi.com/Sports_News/NFL/2018/08/20...  "
      ]
     },
     "metadata": {},
     "output_type": "display_data"
    }
   ],
   "source": [
    "SAMPLE_SIZE = 10000\n",
    "F0 = pd.read_csv('newzy.zip', sep = '|', index_col = 'doc_id', compression = 'infer')\n",
    "\n",
    "# sample SAMPLE SIZE non-empty rows\n",
    "F0 = F0.loc[~F0.doc_content.isna()].sample(SAMPLE_SIZE, random_state = 5001)\n",
    "\n",
    "display_tables(F0, 0)"
   ]
  },
  {
   "cell_type": "markdown",
   "id": "4f38e0ad-6782-4afb-a331-9cd20acbf6aa",
   "metadata": {
    "jp-MarkdownHeadingCollapsed": true,
    "tags": []
   },
   "source": [
    "## 1 Machine Learning Corpus Format (F1)\n",
    "\n",
    "For F1, I create a DataFrame without the metadata, just the content of each document and a document index."
   ]
  },
  {
   "cell_type": "markdown",
   "id": "5b10f185-9b48-4b67-9d96-1ce93701d5b8",
   "metadata": {
    "jp-MarkdownHeadingCollapsed": true,
    "tags": []
   },
   "source": [
    "### 1.1 F1 Code"
   ]
  },
  {
   "cell_type": "code",
   "execution_count": 3,
   "id": "e7011f43-0938-4d38-bf87-fbdda0b3250f",
   "metadata": {},
   "outputs": [],
   "source": [
    "F1 = F0.loc[:, 'doc_content'].to_frame()\n",
    "F1.doc_content = F1.doc_content.astype('str')"
   ]
  },
  {
   "cell_type": "markdown",
   "id": "10a48a5f-e63c-4bcc-a9b7-95c19ef7bdfe",
   "metadata": {
    "jp-MarkdownHeadingCollapsed": true,
    "tags": []
   },
   "source": [
    "### 1.2 F1 Results"
   ]
  },
  {
   "cell_type": "code",
   "execution_count": 4,
   "id": "39ea01d3-6bce-4bd8-b7f3-2ec992933a65",
   "metadata": {
    "tags": []
   },
   "outputs": [
    {
     "name": "stdout",
     "output_type": "stream",
     "text": [
      "F1 Document table sample:\n"
     ]
    },
    {
     "data": {
      "text/html": [
       "<div>\n",
       "<style scoped>\n",
       "    .dataframe tbody tr th:only-of-type {\n",
       "        vertical-align: middle;\n",
       "    }\n",
       "\n",
       "    .dataframe tbody tr th {\n",
       "        vertical-align: top;\n",
       "    }\n",
       "\n",
       "    .dataframe thead th {\n",
       "        text-align: right;\n",
       "    }\n",
       "</style>\n",
       "<table border=\"1\" class=\"dataframe\">\n",
       "  <thead>\n",
       "    <tr style=\"text-align: right;\">\n",
       "      <th></th>\n",
       "      <th>doc_content</th>\n",
       "    </tr>\n",
       "    <tr>\n",
       "      <th>doc_id</th>\n",
       "      <th></th>\n",
       "    </tr>\n",
       "  </thead>\n",
       "  <tbody>\n",
       "    <tr>\n",
       "      <th>433118</th>\n",
       "      <td>Retaliatory tariffs are a blow to exporters in...</td>\n",
       "    </tr>\n",
       "    <tr>\n",
       "      <th>662974</th>\n",
       "      <td>SEARS DOWN TO LAST 24 HOURS?            (Top h...</td>\n",
       "    </tr>\n",
       "    <tr>\n",
       "      <th>934273</th>\n",
       "      <td>Maren Morris hit the CMA red carpet after anno...</td>\n",
       "    </tr>\n",
       "  </tbody>\n",
       "</table>\n",
       "</div>"
      ],
      "text/plain": [
       "                                              doc_content\n",
       "doc_id                                                   \n",
       "433118  Retaliatory tariffs are a blow to exporters in...\n",
       "662974  SEARS DOWN TO LAST 24 HOURS?            (Top h...\n",
       "934273  Maren Morris hit the CMA red carpet after anno..."
      ]
     },
     "metadata": {},
     "output_type": "display_data"
    }
   ],
   "source": [
    "display_tables(F1, 1, table = 'Document')"
   ]
  },
  {
   "cell_type": "markdown",
   "id": "de63066d-2124-46cb-a8db-c9b1cbc68ed9",
   "metadata": {
    "jp-MarkdownHeadingCollapsed": true,
    "tags": []
   },
   "source": [
    "## 2 Standard Text Analytic Data Model (F2)\n",
    "\n",
    "For F2, I add a Library table with document metadata as well as a simplet Token table with OHCO index and a Vocabulary table mapping terms to term IDs."
   ]
  },
  {
   "cell_type": "markdown",
   "id": "043cc45f-02ec-4511-af07-0ad9ba0a388c",
   "metadata": {
    "jp-MarkdownHeadingCollapsed": true,
    "tags": []
   },
   "source": [
    "### 2.1 F2 Code"
   ]
  },
  {
   "cell_type": "markdown",
   "id": "4e0a655d-a40a-4526-8d01-6dc2276ff8f1",
   "metadata": {},
   "source": [
    "#### 2.1.1 Library table"
   ]
  },
  {
   "cell_type": "code",
   "execution_count": 5,
   "id": "1596772e-0bd0-464f-b069-0ada0d188a4d",
   "metadata": {
    "tags": []
   },
   "outputs": [],
   "source": [
    "F2_LIBRARY = F0.loc[:, ['doc_source', 'doc_title', 'doc_date', 'doc_url']]"
   ]
  },
  {
   "cell_type": "markdown",
   "id": "a9fb7b71-4032-40f1-b526-777f660cefd9",
   "metadata": {},
   "source": [
    "#### 2.1.2 Document table\n",
    "\n",
    "My texts are mostly very short. I considered breaking them up into sentences, but some of them are only one sentence and breaking them up doesn't make much sense when you think about it like one chunk is supposed to be a unit of discourse or a \"message,\" because sentences are often very related. In the end, I chose to leave my OHCO at the document level."
   ]
  },
  {
   "cell_type": "code",
   "execution_count": 6,
   "id": "06af06f3-b3d3-4212-a556-37a9ec7a6c26",
   "metadata": {},
   "outputs": [
    {
     "name": "stdout",
     "output_type": "stream",
     "text": [
      "An increasing number of South Korean women are choosing to freeze their eggs, a survey showed on Tuesday.\n",
      "\n",
      "As dozens of Catholic dioceses around the country have released lists of priests who have been credibly accused of child sex abuse, the Charlotte diocese remains undecided about whether to join what its spokesman calls the \"stampede.\".\n",
      "\n",
      "OTTAWA (Reuters) - Canada's Foreign Minister Chrystia Freeland said on Friday that she met her Chinese counterpart, Wang Yi, to discuss tensions...\n",
      "\n"
     ]
    }
   ],
   "source": [
    "# show that some texts are very short\n",
    "for i in F0.sample(3).index:\n",
    "    print(F0.loc[i].doc_content, end = '\\n\\n')"
   ]
  },
  {
   "cell_type": "code",
   "execution_count": 7,
   "id": "f941f54d-55fc-4f96-86da-23274d295ba5",
   "metadata": {
    "tags": []
   },
   "outputs": [],
   "source": [
    "F2_DOC = F1.copy()"
   ]
  },
  {
   "cell_type": "markdown",
   "id": "48037cf7-06e8-4593-afe4-a7338ac105bf",
   "metadata": {},
   "source": [
    "#### 2.1.3 Token table\n",
    "\n",
    "I considered splitting into paragraphs, but there were no newlines in the corpus, so tokens will be indexed by document ID, sentence number, and token number."
   ]
  },
  {
   "cell_type": "code",
   "execution_count": 8,
   "id": "b70a0e41-9d06-49dd-8e17-601b7ee9a2f3",
   "metadata": {
    "tags": []
   },
   "outputs": [],
   "source": [
    "# split into paragraphs\n",
    "# TOKEN.doc_content.str.split(r'\\n+', expand = True) -- no effect\n",
    "\n",
    "# TOKEN.query(\"doc_content == ''\") -- none\n",
    "# TOKEN.query(\"doc_content == ' '\") -- no empty lines\n",
    "\n",
    "# split into sentences\n",
    "TOKEN = F1.doc_content.apply(lambda content: pd.Series(nltk.sent_tokenize(content)))\\\n",
    "        .stack().to_frame().rename(columns = {0: 'sentence'})\n",
    "TOKEN.index.names = ['doc_id', 'sent_num']\n",
    "\n",
    "# split into tokens\n",
    "TOKEN = TOKEN.sentence.apply(lambda sent: pd.Series(nltk.pos_tag(nltk.WhitespaceTokenizer().tokenize(sent))))\n",
    "TOKEN = TOKEN.stack().to_frame().rename(columns = {0 : 'pos_tuple'})\n",
    "TOKEN.index.names = ['doc_id', 'sent_num', 'token_id']\n",
    "TOKEN['token'] = TOKEN.pos_tuple.apply(lambda x: x[0])\n",
    "TOKEN['pos'] = TOKEN.pos_tuple.apply(lambda x: x[1])\n",
    "TOKEN['term'] = TOKEN.token.str.extract(r'([\\w-]+)').squeeze().str.lower()\n",
    "TOKEN['punctuation'] = TOKEN.term.isna() # flag tokens that are just punctuation\n",
    "TOKEN.loc[TOKEN.term.isna(), 'term'] = TOKEN.loc[TOKEN.term.isna(), 'token'] # copy over tokens that are just punctuation\n",
    "\n",
    "F2_TOKEN = TOKEN.token.to_frame().dropna()"
   ]
  },
  {
   "cell_type": "markdown",
   "id": "e9870683-491a-4e56-9903-bfb4c296465e",
   "metadata": {},
   "source": [
    "#### 2.1.4 Vocabulary table"
   ]
  },
  {
   "cell_type": "code",
   "execution_count": 9,
   "id": "f7946453-85f1-40b5-b6fd-702714657027",
   "metadata": {
    "tags": []
   },
   "outputs": [],
   "source": [
    "VOCAB = TOKEN.term.value_counts().to_frame().sort_index().reset_index()\n",
    "VOCAB.index.name = 'term_id'\n",
    "\n",
    "F2_VOCAB = VOCAB.copy()"
   ]
  },
  {
   "cell_type": "markdown",
   "id": "e2962897-0edd-48c8-b6dc-108b48fdb07b",
   "metadata": {
    "jp-MarkdownHeadingCollapsed": true,
    "tags": []
   },
   "source": [
    "### 2.2 F2 Results"
   ]
  },
  {
   "cell_type": "code",
   "execution_count": 10,
   "id": "6c6dca6b-2847-405d-b045-29f325dcd5e0",
   "metadata": {
    "tags": []
   },
   "outputs": [
    {
     "name": "stdout",
     "output_type": "stream",
     "text": [
      "F2 Library table sample:\n"
     ]
    },
    {
     "data": {
      "text/html": [
       "<div>\n",
       "<style scoped>\n",
       "    .dataframe tbody tr th:only-of-type {\n",
       "        vertical-align: middle;\n",
       "    }\n",
       "\n",
       "    .dataframe tbody tr th {\n",
       "        vertical-align: top;\n",
       "    }\n",
       "\n",
       "    .dataframe thead th {\n",
       "        text-align: right;\n",
       "    }\n",
       "</style>\n",
       "<table border=\"1\" class=\"dataframe\">\n",
       "  <thead>\n",
       "    <tr style=\"text-align: right;\">\n",
       "      <th></th>\n",
       "      <th>doc_source</th>\n",
       "      <th>doc_title</th>\n",
       "      <th>doc_date</th>\n",
       "      <th>doc_url</th>\n",
       "    </tr>\n",
       "    <tr>\n",
       "      <th>doc_id</th>\n",
       "      <th></th>\n",
       "      <th></th>\n",
       "      <th></th>\n",
       "      <th></th>\n",
       "    </tr>\n",
       "  </thead>\n",
       "  <tbody>\n",
       "    <tr>\n",
       "      <th>469844</th>\n",
       "      <td>Politico Magazine</td>\n",
       "      <td>‘Americans are Being Held Hostage and Terroriz...</td>\n",
       "      <td>05/13/2018</td>\n",
       "      <td>https://www.politico.com/magazine/story/2018/0...</td>\n",
       "    </tr>\n",
       "    <tr>\n",
       "      <th>832510</th>\n",
       "      <td>US News</td>\n",
       "      <td>Ohio Supreme Court to Hear School 'Takeovers' ...</td>\n",
       "      <td>07/12/2019</td>\n",
       "      <td>https://www.usnews.com/news/best-states/ohio/a...</td>\n",
       "    </tr>\n",
       "    <tr>\n",
       "      <th>654573</th>\n",
       "      <td>US News</td>\n",
       "      <td>10 Things to Know About Maryland</td>\n",
       "      <td>12/18/2018</td>\n",
       "      <td>https://www.usnews.com/news/best-states/articl...</td>\n",
       "    </tr>\n",
       "  </tbody>\n",
       "</table>\n",
       "</div>"
      ],
      "text/plain": [
       "               doc_source                                          doc_title  \\\n",
       "doc_id                                                                         \n",
       "469844  Politico Magazine  ‘Americans are Being Held Hostage and Terroriz...   \n",
       "832510            US News  Ohio Supreme Court to Hear School 'Takeovers' ...   \n",
       "654573            US News                   10 Things to Know About Maryland   \n",
       "\n",
       "          doc_date                                            doc_url  \n",
       "doc_id                                                                 \n",
       "469844  05/13/2018  https://www.politico.com/magazine/story/2018/0...  \n",
       "832510  07/12/2019  https://www.usnews.com/news/best-states/ohio/a...  \n",
       "654573  12/18/2018  https://www.usnews.com/news/best-states/articl...  "
      ]
     },
     "metadata": {},
     "output_type": "display_data"
    },
    {
     "name": "stdout",
     "output_type": "stream",
     "text": [
      "F2 Document table sample:\n"
     ]
    },
    {
     "data": {
      "text/html": [
       "<div>\n",
       "<style scoped>\n",
       "    .dataframe tbody tr th:only-of-type {\n",
       "        vertical-align: middle;\n",
       "    }\n",
       "\n",
       "    .dataframe tbody tr th {\n",
       "        vertical-align: top;\n",
       "    }\n",
       "\n",
       "    .dataframe thead th {\n",
       "        text-align: right;\n",
       "    }\n",
       "</style>\n",
       "<table border=\"1\" class=\"dataframe\">\n",
       "  <thead>\n",
       "    <tr style=\"text-align: right;\">\n",
       "      <th></th>\n",
       "      <th>doc_content</th>\n",
       "    </tr>\n",
       "    <tr>\n",
       "      <th>doc_id</th>\n",
       "      <th></th>\n",
       "    </tr>\n",
       "  </thead>\n",
       "  <tbody>\n",
       "    <tr>\n",
       "      <th>499719</th>\n",
       "      <td>Preservationists are outraged that someone cov...</td>\n",
       "    </tr>\n",
       "    <tr>\n",
       "      <th>523068</th>\n",
       "      <td>Italian prosecutors on Friday investigated all...</td>\n",
       "    </tr>\n",
       "    <tr>\n",
       "      <th>977073</th>\n",
       "      <td>TEAR GAS FIRED AT PRO-IRAN MOB...            (...</td>\n",
       "    </tr>\n",
       "  </tbody>\n",
       "</table>\n",
       "</div>"
      ],
      "text/plain": [
       "                                              doc_content\n",
       "doc_id                                                   \n",
       "499719  Preservationists are outraged that someone cov...\n",
       "523068  Italian prosecutors on Friday investigated all...\n",
       "977073  TEAR GAS FIRED AT PRO-IRAN MOB...            (..."
      ]
     },
     "metadata": {},
     "output_type": "display_data"
    },
    {
     "name": "stdout",
     "output_type": "stream",
     "text": [
      "F2 Token table sample:\n"
     ]
    },
    {
     "data": {
      "text/html": [
       "<div>\n",
       "<style scoped>\n",
       "    .dataframe tbody tr th:only-of-type {\n",
       "        vertical-align: middle;\n",
       "    }\n",
       "\n",
       "    .dataframe tbody tr th {\n",
       "        vertical-align: top;\n",
       "    }\n",
       "\n",
       "    .dataframe thead th {\n",
       "        text-align: right;\n",
       "    }\n",
       "</style>\n",
       "<table border=\"1\" class=\"dataframe\">\n",
       "  <thead>\n",
       "    <tr style=\"text-align: right;\">\n",
       "      <th></th>\n",
       "      <th></th>\n",
       "      <th></th>\n",
       "      <th>token</th>\n",
       "    </tr>\n",
       "    <tr>\n",
       "      <th>doc_id</th>\n",
       "      <th>sent_num</th>\n",
       "      <th>token_id</th>\n",
       "      <th></th>\n",
       "    </tr>\n",
       "  </thead>\n",
       "  <tbody>\n",
       "    <tr>\n",
       "      <th>775191</th>\n",
       "      <th>0</th>\n",
       "      <th>10</th>\n",
       "      <td>to</td>\n",
       "    </tr>\n",
       "    <tr>\n",
       "      <th>193412</th>\n",
       "      <th>0</th>\n",
       "      <th>6</th>\n",
       "      <td>hatred</td>\n",
       "    </tr>\n",
       "    <tr>\n",
       "      <th>612073</th>\n",
       "      <th>0</th>\n",
       "      <th>6</th>\n",
       "      <td>said</td>\n",
       "    </tr>\n",
       "  </tbody>\n",
       "</table>\n",
       "</div>"
      ],
      "text/plain": [
       "                           token\n",
       "doc_id sent_num token_id        \n",
       "775191 0        10            to\n",
       "193412 0        6         hatred\n",
       "612073 0        6           said"
      ]
     },
     "metadata": {},
     "output_type": "display_data"
    },
    {
     "name": "stdout",
     "output_type": "stream",
     "text": [
      "F2 Vocabulary table sample:\n"
     ]
    },
    {
     "data": {
      "text/html": [
       "<div>\n",
       "<style scoped>\n",
       "    .dataframe tbody tr th:only-of-type {\n",
       "        vertical-align: middle;\n",
       "    }\n",
       "\n",
       "    .dataframe tbody tr th {\n",
       "        vertical-align: top;\n",
       "    }\n",
       "\n",
       "    .dataframe thead th {\n",
       "        text-align: right;\n",
       "    }\n",
       "</style>\n",
       "<table border=\"1\" class=\"dataframe\">\n",
       "  <thead>\n",
       "    <tr style=\"text-align: right;\">\n",
       "      <th></th>\n",
       "      <th>term</th>\n",
       "      <th>count</th>\n",
       "    </tr>\n",
       "    <tr>\n",
       "      <th>term_id</th>\n",
       "      <th></th>\n",
       "      <th></th>\n",
       "    </tr>\n",
       "  </thead>\n",
       "  <tbody>\n",
       "    <tr>\n",
       "      <th>6225</th>\n",
       "      <td>conservationist</td>\n",
       "      <td>1</td>\n",
       "    </tr>\n",
       "    <tr>\n",
       "      <th>24571</th>\n",
       "      <td>stalin</td>\n",
       "      <td>2</td>\n",
       "    </tr>\n",
       "    <tr>\n",
       "      <th>11770</th>\n",
       "      <td>hamad</td>\n",
       "      <td>1</td>\n",
       "    </tr>\n",
       "  </tbody>\n",
       "</table>\n",
       "</div>"
      ],
      "text/plain": [
       "                    term  count\n",
       "term_id                        \n",
       "6225     conservationist      1\n",
       "24571             stalin      2\n",
       "11770              hamad      1"
      ]
     },
     "metadata": {},
     "output_type": "display_data"
    }
   ],
   "source": [
    "f2_tables = [F2_LIBRARY, F2_DOC, F2_TOKEN, F2_VOCAB]\n",
    "display_tables(f2_tables, 2, table = 'all')"
   ]
  },
  {
   "cell_type": "code",
   "execution_count": 11,
   "id": "43915449-d901-4ee4-b845-6ebf0fb9ea42",
   "metadata": {
    "tags": []
   },
   "outputs": [],
   "source": [
    "f2_db = MyDB('tables/F2')\n",
    "f2_db.save_table(f2_tables, 'all')"
   ]
  },
  {
   "cell_type": "markdown",
   "id": "2d13e5a2-e541-44c2-9e3c-cadf8fcc2b9a",
   "metadata": {
    "jp-MarkdownHeadingCollapsed": true,
    "tags": []
   },
   "source": [
    "## 3 NLP Annotated STADM (F3)\n",
    "\n",
    "For F3, I add some annotations to my Token and Vocabulary tables."
   ]
  },
  {
   "cell_type": "markdown",
   "id": "5bc4d681-3f98-4591-b537-15f2d0e88b73",
   "metadata": {
    "jp-MarkdownHeadingCollapsed": true,
    "tags": []
   },
   "source": [
    "### 3.1 F3 Code"
   ]
  },
  {
   "cell_type": "markdown",
   "id": "bbde9f51-a125-46a5-9df6-a257bee35fcc",
   "metadata": {},
   "source": [
    "#### 3.1.0 Library and Document tables\n",
    "\n",
    "The Library and Document tables will not change from F2 onward."
   ]
  },
  {
   "cell_type": "markdown",
   "id": "8b694d9e-d6d8-4db7-88de-e088ec0090fb",
   "metadata": {},
   "source": [
    "#### 3.1.1 Token table\n",
    "\n",
    "For F3, we add the following to our token table:\n",
    "- term ID\n",
    "- part of speech (POS)"
   ]
  },
  {
   "cell_type": "code",
   "execution_count": 12,
   "id": "69248936-f661-4a86-9033-d0dae620c9db",
   "metadata": {
    "tags": []
   },
   "outputs": [],
   "source": [
    "term_to_id_map = F2_VOCAB.reset_index().set_index('term').to_dict()['term_id']\n",
    "\n",
    "TOKEN['term_id'] = TOKEN.term.map(term_to_id_map)\n",
    "TOKEN.term_id = TOKEN.term_id.astype('int')\n",
    "\n",
    "F3_TOKEN = TOKEN.drop(columns = ['pos_tuple', 'punctuation'])"
   ]
  },
  {
   "cell_type": "markdown",
   "id": "ef62b0c3-5724-429c-8515-1456431244a8",
   "metadata": {},
   "source": [
    "#### 3.1.2 Vocabulary table\n",
    "\n",
    "For F3, we add the following to our vocabulary table:\n",
    "- Flags:\n",
    "    - numeric\n",
    "    - punctuation\n",
    "    - stopwords\n",
    "    \n",
    "- Annotations:\n",
    "  - stems\n",
    "  - max POS"
   ]
  },
  {
   "cell_type": "code",
   "execution_count": 13,
   "id": "1358daae-084b-4a08-bd6f-45e66f168b10",
   "metadata": {
    "tags": []
   },
   "outputs": [],
   "source": [
    "# add flags\n",
    "VOCAB['punctuation'] = VOCAB.term.map(TOKEN.reset_index().set_index('term').to_dict()['punctuation'])\n",
    "VOCAB['numeric'] = VOCAB.term.str.match('\\d+').astype('bool')\n",
    "sw = pd.DataFrame(nltk.corpus.stopwords.words('english'), columns = ['term']).set_index('term')\n",
    "sw['stopword'] = True\n",
    "VOCAB['stopword'] = VOCAB.term.map(sw.stopword)\n",
    "VOCAB.stopword = VOCAB.stopword.fillna(0).astype('bool')\n",
    "\n",
    "# add annotations\n",
    "VOCAB['stem'] = VOCAB.term.apply(nltk.stem.porter.PorterStemmer().stem)\n",
    "max_pos = TOKEN[['pos', 'term']].groupby('term').value_counts().to_frame().reset_index().groupby('term').max().pos\n",
    "VOCAB['pos_max'] = VOCAB.term.map(max_pos)\n",
    "\n",
    "F3_VOCAB = VOCAB.copy()"
   ]
  },
  {
   "cell_type": "markdown",
   "id": "21d5db5d-0dbf-4769-a4db-20eafd70296b",
   "metadata": {
    "jp-MarkdownHeadingCollapsed": true,
    "tags": []
   },
   "source": [
    "### 3.3 F3 Resutls"
   ]
  },
  {
   "cell_type": "code",
   "execution_count": 14,
   "id": "ca5c94d9-52a3-4966-b7d3-1113c8ae4e79",
   "metadata": {
    "tags": []
   },
   "outputs": [
    {
     "name": "stdout",
     "output_type": "stream",
     "text": [
      "F3 Library table sample:\n"
     ]
    },
    {
     "data": {
      "text/html": [
       "<div>\n",
       "<style scoped>\n",
       "    .dataframe tbody tr th:only-of-type {\n",
       "        vertical-align: middle;\n",
       "    }\n",
       "\n",
       "    .dataframe tbody tr th {\n",
       "        vertical-align: top;\n",
       "    }\n",
       "\n",
       "    .dataframe thead th {\n",
       "        text-align: right;\n",
       "    }\n",
       "</style>\n",
       "<table border=\"1\" class=\"dataframe\">\n",
       "  <thead>\n",
       "    <tr style=\"text-align: right;\">\n",
       "      <th></th>\n",
       "      <th>doc_source</th>\n",
       "      <th>doc_title</th>\n",
       "      <th>doc_date</th>\n",
       "      <th>doc_url</th>\n",
       "    </tr>\n",
       "    <tr>\n",
       "      <th>doc_id</th>\n",
       "      <th></th>\n",
       "      <th></th>\n",
       "      <th></th>\n",
       "      <th></th>\n",
       "    </tr>\n",
       "  </thead>\n",
       "  <tbody>\n",
       "    <tr>\n",
       "      <th>294845</th>\n",
       "      <td>US News</td>\n",
       "      <td>Lawsuit: Louisiana Sheriff Rejected Applicant ...</td>\n",
       "      <td>10/24/2017</td>\n",
       "      <td>https://www.usnews.com/news/best-states/louisi...</td>\n",
       "    </tr>\n",
       "    <tr>\n",
       "      <th>263822</th>\n",
       "      <td>US News</td>\n",
       "      <td>Special Report: More Power and a Quiet Exit fo...</td>\n",
       "      <td>09/21/2017</td>\n",
       "      <td>https://www.usnews.com/news/top-news/articles/...</td>\n",
       "    </tr>\n",
       "    <tr>\n",
       "      <th>761093</th>\n",
       "      <td>US News</td>\n",
       "      <td>FCC Urges RI to Stop Diverting 911 Fees to Oth...</td>\n",
       "      <td>04/17/2019</td>\n",
       "      <td>https://www.usnews.com/news/best-states/rhode-...</td>\n",
       "    </tr>\n",
       "  </tbody>\n",
       "</table>\n",
       "</div>"
      ],
      "text/plain": [
       "       doc_source                                          doc_title  \\\n",
       "doc_id                                                                 \n",
       "294845    US News  Lawsuit: Louisiana Sheriff Rejected Applicant ...   \n",
       "263822    US News  Special Report: More Power and a Quiet Exit fo...   \n",
       "761093    US News  FCC Urges RI to Stop Diverting 911 Fees to Oth...   \n",
       "\n",
       "          doc_date                                            doc_url  \n",
       "doc_id                                                                 \n",
       "294845  10/24/2017  https://www.usnews.com/news/best-states/louisi...  \n",
       "263822  09/21/2017  https://www.usnews.com/news/top-news/articles/...  \n",
       "761093  04/17/2019  https://www.usnews.com/news/best-states/rhode-...  "
      ]
     },
     "metadata": {},
     "output_type": "display_data"
    },
    {
     "name": "stdout",
     "output_type": "stream",
     "text": [
      "F3 Document table sample:\n"
     ]
    },
    {
     "data": {
      "text/html": [
       "<div>\n",
       "<style scoped>\n",
       "    .dataframe tbody tr th:only-of-type {\n",
       "        vertical-align: middle;\n",
       "    }\n",
       "\n",
       "    .dataframe tbody tr th {\n",
       "        vertical-align: top;\n",
       "    }\n",
       "\n",
       "    .dataframe thead th {\n",
       "        text-align: right;\n",
       "    }\n",
       "</style>\n",
       "<table border=\"1\" class=\"dataframe\">\n",
       "  <thead>\n",
       "    <tr style=\"text-align: right;\">\n",
       "      <th></th>\n",
       "      <th>doc_content</th>\n",
       "    </tr>\n",
       "    <tr>\n",
       "      <th>doc_id</th>\n",
       "      <th></th>\n",
       "    </tr>\n",
       "  </thead>\n",
       "  <tbody>\n",
       "    <tr>\n",
       "      <th>980808</th>\n",
       "      <td>Actor George Lopez appeared to accept an Irani...</td>\n",
       "    </tr>\n",
       "    <tr>\n",
       "      <th>723234</th>\n",
       "      <td>BEIJING (Reuters) - China on Monday accused de...</td>\n",
       "    </tr>\n",
       "    <tr>\n",
       "      <th>306588</th>\n",
       "      <td>The Kansas Democratic Party has agreed to pay ...</td>\n",
       "    </tr>\n",
       "  </tbody>\n",
       "</table>\n",
       "</div>"
      ],
      "text/plain": [
       "                                              doc_content\n",
       "doc_id                                                   \n",
       "980808  Actor George Lopez appeared to accept an Irani...\n",
       "723234  BEIJING (Reuters) - China on Monday accused de...\n",
       "306588  The Kansas Democratic Party has agreed to pay ..."
      ]
     },
     "metadata": {},
     "output_type": "display_data"
    },
    {
     "name": "stdout",
     "output_type": "stream",
     "text": [
      "F3 Token table sample:\n"
     ]
    },
    {
     "data": {
      "text/html": [
       "<div>\n",
       "<style scoped>\n",
       "    .dataframe tbody tr th:only-of-type {\n",
       "        vertical-align: middle;\n",
       "    }\n",
       "\n",
       "    .dataframe tbody tr th {\n",
       "        vertical-align: top;\n",
       "    }\n",
       "\n",
       "    .dataframe thead th {\n",
       "        text-align: right;\n",
       "    }\n",
       "</style>\n",
       "<table border=\"1\" class=\"dataframe\">\n",
       "  <thead>\n",
       "    <tr style=\"text-align: right;\">\n",
       "      <th></th>\n",
       "      <th></th>\n",
       "      <th></th>\n",
       "      <th>token</th>\n",
       "      <th>pos</th>\n",
       "      <th>term</th>\n",
       "      <th>term_id</th>\n",
       "    </tr>\n",
       "    <tr>\n",
       "      <th>doc_id</th>\n",
       "      <th>sent_num</th>\n",
       "      <th>token_id</th>\n",
       "      <th></th>\n",
       "      <th></th>\n",
       "      <th></th>\n",
       "      <th></th>\n",
       "    </tr>\n",
       "  </thead>\n",
       "  <tbody>\n",
       "    <tr>\n",
       "      <th>228209</th>\n",
       "      <th>2</th>\n",
       "      <th>8</th>\n",
       "      <td>...and</td>\n",
       "      <td>NN</td>\n",
       "      <td>and</td>\n",
       "      <td>2067</td>\n",
       "    </tr>\n",
       "    <tr>\n",
       "      <th>572664</th>\n",
       "      <th>0</th>\n",
       "      <th>15</th>\n",
       "      <td>kidnapped</td>\n",
       "      <td>VBD</td>\n",
       "      <td>kidnapped</td>\n",
       "      <td>14402</td>\n",
       "    </tr>\n",
       "    <tr>\n",
       "      <th>635819</th>\n",
       "      <th>0</th>\n",
       "      <th>5</th>\n",
       "      <td>States</td>\n",
       "      <td>NNPS</td>\n",
       "      <td>states</td>\n",
       "      <td>24677</td>\n",
       "    </tr>\n",
       "  </tbody>\n",
       "</table>\n",
       "</div>"
      ],
      "text/plain": [
       "                              token   pos       term  term_id\n",
       "doc_id sent_num token_id                                     \n",
       "228209 2        8            ...and    NN        and     2067\n",
       "572664 0        15        kidnapped   VBD  kidnapped    14402\n",
       "635819 0        5            States  NNPS     states    24677"
      ]
     },
     "metadata": {},
     "output_type": "display_data"
    },
    {
     "name": "stdout",
     "output_type": "stream",
     "text": [
      "F3 Vocabulary table sample:\n"
     ]
    },
    {
     "data": {
      "text/html": [
       "<div>\n",
       "<style scoped>\n",
       "    .dataframe tbody tr th:only-of-type {\n",
       "        vertical-align: middle;\n",
       "    }\n",
       "\n",
       "    .dataframe tbody tr th {\n",
       "        vertical-align: top;\n",
       "    }\n",
       "\n",
       "    .dataframe thead th {\n",
       "        text-align: right;\n",
       "    }\n",
       "</style>\n",
       "<table border=\"1\" class=\"dataframe\">\n",
       "  <thead>\n",
       "    <tr style=\"text-align: right;\">\n",
       "      <th></th>\n",
       "      <th>term</th>\n",
       "      <th>count</th>\n",
       "      <th>punctuation</th>\n",
       "      <th>numeric</th>\n",
       "      <th>stopword</th>\n",
       "      <th>stem</th>\n",
       "      <th>pos_max</th>\n",
       "    </tr>\n",
       "    <tr>\n",
       "      <th>term_id</th>\n",
       "      <th></th>\n",
       "      <th></th>\n",
       "      <th></th>\n",
       "      <th></th>\n",
       "      <th></th>\n",
       "      <th></th>\n",
       "      <th></th>\n",
       "    </tr>\n",
       "  </thead>\n",
       "  <tbody>\n",
       "    <tr>\n",
       "      <th>18911</th>\n",
       "      <td>part-time</td>\n",
       "      <td>1</td>\n",
       "      <td>False</td>\n",
       "      <td>False</td>\n",
       "      <td>False</td>\n",
       "      <td>part-tim</td>\n",
       "      <td>JJ</td>\n",
       "    </tr>\n",
       "    <tr>\n",
       "      <th>11347</th>\n",
       "      <td>governs</td>\n",
       "      <td>1</td>\n",
       "      <td>False</td>\n",
       "      <td>False</td>\n",
       "      <td>False</td>\n",
       "      <td>govern</td>\n",
       "      <td>VBZ</td>\n",
       "    </tr>\n",
       "    <tr>\n",
       "      <th>14326</th>\n",
       "      <td>kellyseoul</td>\n",
       "      <td>1</td>\n",
       "      <td>False</td>\n",
       "      <td>False</td>\n",
       "      <td>False</td>\n",
       "      <td>kellyseoul</td>\n",
       "      <td>NNP</td>\n",
       "    </tr>\n",
       "  </tbody>\n",
       "</table>\n",
       "</div>"
      ],
      "text/plain": [
       "               term  count  punctuation  numeric  stopword        stem pos_max\n",
       "term_id                                                                       \n",
       "18911     part-time      1        False    False     False    part-tim      JJ\n",
       "11347       governs      1        False    False     False      govern     VBZ\n",
       "14326    kellyseoul      1        False    False     False  kellyseoul     NNP"
      ]
     },
     "metadata": {},
     "output_type": "display_data"
    }
   ],
   "source": [
    "f3_tables = [F2_LIBRARY, F2_DOC, F3_TOKEN, F3_VOCAB]\n",
    "display_tables(f3_tables, 3, table = 'all')"
   ]
  },
  {
   "cell_type": "code",
   "execution_count": 15,
   "id": "1951a587-569d-4bad-bf20-9f66d69aeea6",
   "metadata": {
    "tags": []
   },
   "outputs": [],
   "source": [
    "f3_db = MyDB('tables/F3')\n",
    "f3_db.save_table(f3_tables, 'all')"
   ]
  },
  {
   "cell_type": "markdown",
   "id": "cc2081f4-a2ef-4461-a57f-55edeae1f21b",
   "metadata": {
    "jp-MarkdownHeadingCollapsed": true,
    "tags": []
   },
   "source": [
    "## 4 STADM with Vector Space Models (F4)\n",
    "\n",
    "For F4, I add a vector representation of each term in the form of TFIDF."
   ]
  },
  {
   "cell_type": "markdown",
   "id": "8d75c82a-02d1-4ec1-b45f-e17c768f815f",
   "metadata": {
    "jp-MarkdownHeadingCollapsed": true,
    "tags": []
   },
   "source": [
    "### 4.1 F4 Code"
   ]
  },
  {
   "cell_type": "markdown",
   "id": "31c5a7b7-9752-450d-abe5-5f470f129431",
   "metadata": {},
   "source": [
    "#### 4.1.1 Token table"
   ]
  },
  {
   "cell_type": "code",
   "execution_count": 30,
   "id": "aa0b3029-f7ac-4062-98e9-65c63da2b23c",
   "metadata": {
    "tags": []
   },
   "outputs": [],
   "source": [
    "# document-term count matrix without stopwords and proper nouns\n",
    "TOKEN['stopword'] = TOKEN.term_id.map(VOCAB.stopword)\n",
    "bow_tokens = TOKEN.query(\"punctuation == False & stopword == False & pos != 'NNP' & pos != 'NNPS'\")\n",
    "BOW = bow_tokens.groupby(['doc_id','term_id']).term_id.value_counts().to_frame()\n",
    "BOW.columns = ['count']\n",
    "dt_matrix = BOW['count'].unstack().fillna(0).astype('int')\n",
    "    \n",
    "# summed tf\n",
    "tf = ( dt_matrix.T / dt_matrix.T.sum() ).T\n",
    "        \n",
    "# standard idf\n",
    "df = dt_matrix[dt_matrix > 0].count()\n",
    "N = dt_matrix.shape[0]\n",
    "idf = np.log10(N / df)\n",
    "\n",
    "TFIDF = (tf * idf).T\n",
    "TFIDF.columns = [f'tfidf[{column}]' for column in TFIDF.columns]"
   ]
  },
  {
   "cell_type": "markdown",
   "id": "620c4f67-1118-4ab2-b719-7710efc3ae60",
   "metadata": {},
   "source": [
    "#### 4.1.2 Vocabulary table"
   ]
  },
  {
   "cell_type": "code",
   "execution_count": 31,
   "id": "01064495-175b-4256-9a2d-e791efe63535",
   "metadata": {
    "tags": []
   },
   "outputs": [],
   "source": [
    "VOCAB['tfidf_sum'] = TFIDF.sum(axis = 1)\n",
    "F4_VOCAB = VOCAB.copy()"
   ]
  },
  {
   "cell_type": "markdown",
   "id": "2a3e2215-7ad1-4934-8fa2-fd07e95c2d4f",
   "metadata": {
    "jp-MarkdownHeadingCollapsed": true,
    "tags": []
   },
   "source": [
    "### 4.2 F4 Results"
   ]
  },
  {
   "cell_type": "code",
   "execution_count": 32,
   "id": "ee7af8c2-abc7-4e32-859c-86a2e62e20af",
   "metadata": {
    "tags": []
   },
   "outputs": [
    {
     "name": "stdout",
     "output_type": "stream",
     "text": [
      "F4 Library table sample:\n"
     ]
    },
    {
     "data": {
      "text/html": [
       "<div>\n",
       "<style scoped>\n",
       "    .dataframe tbody tr th:only-of-type {\n",
       "        vertical-align: middle;\n",
       "    }\n",
       "\n",
       "    .dataframe tbody tr th {\n",
       "        vertical-align: top;\n",
       "    }\n",
       "\n",
       "    .dataframe thead th {\n",
       "        text-align: right;\n",
       "    }\n",
       "</style>\n",
       "<table border=\"1\" class=\"dataframe\">\n",
       "  <thead>\n",
       "    <tr style=\"text-align: right;\">\n",
       "      <th></th>\n",
       "      <th>doc_source</th>\n",
       "      <th>doc_title</th>\n",
       "      <th>doc_date</th>\n",
       "      <th>doc_url</th>\n",
       "    </tr>\n",
       "    <tr>\n",
       "      <th>doc_id</th>\n",
       "      <th></th>\n",
       "      <th></th>\n",
       "      <th></th>\n",
       "      <th></th>\n",
       "    </tr>\n",
       "  </thead>\n",
       "  <tbody>\n",
       "    <tr>\n",
       "      <th>916043</th>\n",
       "      <td>Drudge Report</td>\n",
       "      <td>'LYNCHING'...</td>\n",
       "      <td>10/22/2019</td>\n",
       "      <td>https://tracking.feedpress.it/link/20202/12915342</td>\n",
       "    </tr>\n",
       "    <tr>\n",
       "      <th>13205</th>\n",
       "      <td>Real Clear Politics</td>\n",
       "      <td>Obamacare Hikes Leave Clinton, Democrats Exposed</td>\n",
       "      <td>10/26/2016</td>\n",
       "      <td>http://www.realclearpolitics.com/2016/10/26/ob...</td>\n",
       "    </tr>\n",
       "    <tr>\n",
       "      <th>927562</th>\n",
       "      <td>US News</td>\n",
       "      <td>BP Invests in City Transportation App Whim</td>\n",
       "      <td>11/06/2019</td>\n",
       "      <td>https://www.usnews.com/news/technology/article...</td>\n",
       "    </tr>\n",
       "  </tbody>\n",
       "</table>\n",
       "</div>"
      ],
      "text/plain": [
       "                 doc_source                                         doc_title  \\\n",
       "doc_id                                                                          \n",
       "916043        Drudge Report                                     'LYNCHING'...   \n",
       "13205   Real Clear Politics  Obamacare Hikes Leave Clinton, Democrats Exposed   \n",
       "927562              US News        BP Invests in City Transportation App Whim   \n",
       "\n",
       "          doc_date                                            doc_url  \n",
       "doc_id                                                                 \n",
       "916043  10/22/2019  https://tracking.feedpress.it/link/20202/12915342  \n",
       "13205   10/26/2016  http://www.realclearpolitics.com/2016/10/26/ob...  \n",
       "927562  11/06/2019  https://www.usnews.com/news/technology/article...  "
      ]
     },
     "metadata": {},
     "output_type": "display_data"
    },
    {
     "name": "stdout",
     "output_type": "stream",
     "text": [
      "F4 Document table sample:\n"
     ]
    },
    {
     "data": {
      "text/html": [
       "<div>\n",
       "<style scoped>\n",
       "    .dataframe tbody tr th:only-of-type {\n",
       "        vertical-align: middle;\n",
       "    }\n",
       "\n",
       "    .dataframe tbody tr th {\n",
       "        vertical-align: top;\n",
       "    }\n",
       "\n",
       "    .dataframe thead th {\n",
       "        text-align: right;\n",
       "    }\n",
       "</style>\n",
       "<table border=\"1\" class=\"dataframe\">\n",
       "  <thead>\n",
       "    <tr style=\"text-align: right;\">\n",
       "      <th></th>\n",
       "      <th>doc_content</th>\n",
       "    </tr>\n",
       "    <tr>\n",
       "      <th>doc_id</th>\n",
       "      <th></th>\n",
       "    </tr>\n",
       "  </thead>\n",
       "  <tbody>\n",
       "    <tr>\n",
       "      <th>959242</th>\n",
       "      <td>The Greenland ice sheet's losses have accelera...</td>\n",
       "    </tr>\n",
       "    <tr>\n",
       "      <th>900603</th>\n",
       "      <td>KUALA LUMPUR (Reuters) - Malaysian Prime Minis...</td>\n",
       "    </tr>\n",
       "    <tr>\n",
       "      <th>158718</th>\n",
       "      <td>A New York City man who pleaded guilty in a do...</td>\n",
       "    </tr>\n",
       "  </tbody>\n",
       "</table>\n",
       "</div>"
      ],
      "text/plain": [
       "                                              doc_content\n",
       "doc_id                                                   \n",
       "959242  The Greenland ice sheet's losses have accelera...\n",
       "900603  KUALA LUMPUR (Reuters) - Malaysian Prime Minis...\n",
       "158718  A New York City man who pleaded guilty in a do..."
      ]
     },
     "metadata": {},
     "output_type": "display_data"
    },
    {
     "name": "stdout",
     "output_type": "stream",
     "text": [
      "F4 Token table sample:\n"
     ]
    },
    {
     "data": {
      "text/html": [
       "<div>\n",
       "<style scoped>\n",
       "    .dataframe tbody tr th:only-of-type {\n",
       "        vertical-align: middle;\n",
       "    }\n",
       "\n",
       "    .dataframe tbody tr th {\n",
       "        vertical-align: top;\n",
       "    }\n",
       "\n",
       "    .dataframe thead th {\n",
       "        text-align: right;\n",
       "    }\n",
       "</style>\n",
       "<table border=\"1\" class=\"dataframe\">\n",
       "  <thead>\n",
       "    <tr style=\"text-align: right;\">\n",
       "      <th></th>\n",
       "      <th></th>\n",
       "      <th></th>\n",
       "      <th>token</th>\n",
       "      <th>pos</th>\n",
       "      <th>term</th>\n",
       "      <th>term_id</th>\n",
       "    </tr>\n",
       "    <tr>\n",
       "      <th>doc_id</th>\n",
       "      <th>sent_num</th>\n",
       "      <th>token_id</th>\n",
       "      <th></th>\n",
       "      <th></th>\n",
       "      <th></th>\n",
       "      <th></th>\n",
       "    </tr>\n",
       "  </thead>\n",
       "  <tbody>\n",
       "    <tr>\n",
       "      <th>348687</th>\n",
       "      <th>0</th>\n",
       "      <th>12</th>\n",
       "      <td>execs</td>\n",
       "      <td>NN</td>\n",
       "      <td>execs</td>\n",
       "      <td>9451</td>\n",
       "    </tr>\n",
       "    <tr>\n",
       "      <th>126705</th>\n",
       "      <th>0</th>\n",
       "      <th>17</th>\n",
       "      <td>man</td>\n",
       "      <td>NN</td>\n",
       "      <td>man</td>\n",
       "      <td>15791</td>\n",
       "    </tr>\n",
       "    <tr>\n",
       "      <th>32908</th>\n",
       "      <th>6</th>\n",
       "      <th>3</th>\n",
       "      <td>my</td>\n",
       "      <td>PRP$</td>\n",
       "      <td>my</td>\n",
       "      <td>17146</td>\n",
       "    </tr>\n",
       "  </tbody>\n",
       "</table>\n",
       "</div>"
      ],
      "text/plain": [
       "                          token   pos   term  term_id\n",
       "doc_id sent_num token_id                             \n",
       "348687 0        12        execs    NN  execs     9451\n",
       "126705 0        17          man    NN    man    15791\n",
       "32908  6        3            my  PRP$     my    17146"
      ]
     },
     "metadata": {},
     "output_type": "display_data"
    },
    {
     "name": "stdout",
     "output_type": "stream",
     "text": [
      "F4 Vocabulary table sample:\n"
     ]
    },
    {
     "data": {
      "text/html": [
       "<div>\n",
       "<style scoped>\n",
       "    .dataframe tbody tr th:only-of-type {\n",
       "        vertical-align: middle;\n",
       "    }\n",
       "\n",
       "    .dataframe tbody tr th {\n",
       "        vertical-align: top;\n",
       "    }\n",
       "\n",
       "    .dataframe thead th {\n",
       "        text-align: right;\n",
       "    }\n",
       "</style>\n",
       "<table border=\"1\" class=\"dataframe\">\n",
       "  <thead>\n",
       "    <tr style=\"text-align: right;\">\n",
       "      <th></th>\n",
       "      <th>term</th>\n",
       "      <th>count</th>\n",
       "      <th>punctuation</th>\n",
       "      <th>numeric</th>\n",
       "      <th>stopword</th>\n",
       "      <th>stem</th>\n",
       "      <th>pos_max</th>\n",
       "      <th>tfidf_sum</th>\n",
       "      <th>max_topic_id</th>\n",
       "    </tr>\n",
       "    <tr>\n",
       "      <th>term_id</th>\n",
       "      <th></th>\n",
       "      <th></th>\n",
       "      <th></th>\n",
       "      <th></th>\n",
       "      <th></th>\n",
       "      <th></th>\n",
       "      <th></th>\n",
       "      <th></th>\n",
       "      <th></th>\n",
       "    </tr>\n",
       "  </thead>\n",
       "  <tbody>\n",
       "    <tr>\n",
       "      <th>20454</th>\n",
       "      <td>protecting</td>\n",
       "      <td>10</td>\n",
       "      <td>False</td>\n",
       "      <td>False</td>\n",
       "      <td>False</td>\n",
       "      <td>protect</td>\n",
       "      <td>VBG</td>\n",
       "      <td>1.34476</td>\n",
       "      <td>13.0</td>\n",
       "    </tr>\n",
       "    <tr>\n",
       "      <th>17650</th>\n",
       "      <td>newssarah</td>\n",
       "      <td>1</td>\n",
       "      <td>False</td>\n",
       "      <td>False</td>\n",
       "      <td>False</td>\n",
       "      <td>newssarah</td>\n",
       "      <td>NNP</td>\n",
       "      <td>NaN</td>\n",
       "      <td>NaN</td>\n",
       "    </tr>\n",
       "    <tr>\n",
       "      <th>22978</th>\n",
       "      <td>seagal</td>\n",
       "      <td>1</td>\n",
       "      <td>False</td>\n",
       "      <td>False</td>\n",
       "      <td>False</td>\n",
       "      <td>seagal</td>\n",
       "      <td>NNP</td>\n",
       "      <td>NaN</td>\n",
       "      <td>NaN</td>\n",
       "    </tr>\n",
       "  </tbody>\n",
       "</table>\n",
       "</div>"
      ],
      "text/plain": [
       "               term  count  punctuation  numeric  stopword       stem pos_max  \\\n",
       "term_id                                                                         \n",
       "20454    protecting     10        False    False     False    protect     VBG   \n",
       "17650     newssarah      1        False    False     False  newssarah     NNP   \n",
       "22978        seagal      1        False    False     False     seagal     NNP   \n",
       "\n",
       "         tfidf_sum  max_topic_id  \n",
       "term_id                           \n",
       "20454      1.34476          13.0  \n",
       "17650          NaN           NaN  \n",
       "22978          NaN           NaN  "
      ]
     },
     "metadata": {},
     "output_type": "display_data"
    },
    {
     "name": "stdout",
     "output_type": "stream",
     "text": [
      "F4 TFIDF table sample:\n"
     ]
    },
    {
     "data": {
      "text/html": [
       "<div>\n",
       "<style scoped>\n",
       "    .dataframe tbody tr th:only-of-type {\n",
       "        vertical-align: middle;\n",
       "    }\n",
       "\n",
       "    .dataframe tbody tr th {\n",
       "        vertical-align: top;\n",
       "    }\n",
       "\n",
       "    .dataframe thead th {\n",
       "        text-align: right;\n",
       "    }\n",
       "</style>\n",
       "<table border=\"1\" class=\"dataframe\">\n",
       "  <thead>\n",
       "    <tr style=\"text-align: right;\">\n",
       "      <th></th>\n",
       "      <th>tfidf[41]</th>\n",
       "      <th>tfidf[233]</th>\n",
       "      <th>tfidf[679]</th>\n",
       "      <th>tfidf[747]</th>\n",
       "      <th>tfidf[795]</th>\n",
       "      <th>tfidf[843]</th>\n",
       "      <th>tfidf[943]</th>\n",
       "      <th>tfidf[974]</th>\n",
       "      <th>tfidf[1195]</th>\n",
       "      <th>tfidf[1247]</th>\n",
       "    </tr>\n",
       "    <tr>\n",
       "      <th>term_id</th>\n",
       "      <th></th>\n",
       "      <th></th>\n",
       "      <th></th>\n",
       "      <th></th>\n",
       "      <th></th>\n",
       "      <th></th>\n",
       "      <th></th>\n",
       "      <th></th>\n",
       "      <th></th>\n",
       "      <th></th>\n",
       "    </tr>\n",
       "  </thead>\n",
       "  <tbody>\n",
       "    <tr>\n",
       "      <th>10362</th>\n",
       "      <td>0.0</td>\n",
       "      <td>0.0</td>\n",
       "      <td>0.0</td>\n",
       "      <td>0.0</td>\n",
       "      <td>0.0</td>\n",
       "      <td>0.0</td>\n",
       "      <td>0.0</td>\n",
       "      <td>0.0</td>\n",
       "      <td>0.0</td>\n",
       "      <td>0.0</td>\n",
       "    </tr>\n",
       "    <tr>\n",
       "      <th>17088</th>\n",
       "      <td>0.0</td>\n",
       "      <td>0.0</td>\n",
       "      <td>0.0</td>\n",
       "      <td>0.0</td>\n",
       "      <td>0.0</td>\n",
       "      <td>0.0</td>\n",
       "      <td>0.0</td>\n",
       "      <td>0.0</td>\n",
       "      <td>0.0</td>\n",
       "      <td>0.0</td>\n",
       "    </tr>\n",
       "    <tr>\n",
       "      <th>21283</th>\n",
       "      <td>0.0</td>\n",
       "      <td>0.0</td>\n",
       "      <td>0.0</td>\n",
       "      <td>0.0</td>\n",
       "      <td>0.0</td>\n",
       "      <td>0.0</td>\n",
       "      <td>0.0</td>\n",
       "      <td>0.0</td>\n",
       "      <td>0.0</td>\n",
       "      <td>0.0</td>\n",
       "    </tr>\n",
       "  </tbody>\n",
       "</table>\n",
       "</div>"
      ],
      "text/plain": [
       "         tfidf[41]  tfidf[233]  tfidf[679]  tfidf[747]  tfidf[795]  \\\n",
       "term_id                                                              \n",
       "10362          0.0         0.0         0.0         0.0         0.0   \n",
       "17088          0.0         0.0         0.0         0.0         0.0   \n",
       "21283          0.0         0.0         0.0         0.0         0.0   \n",
       "\n",
       "         tfidf[843]  tfidf[943]  tfidf[974]  tfidf[1195]  tfidf[1247]  \n",
       "term_id                                                                \n",
       "10362           0.0         0.0         0.0          0.0          0.0  \n",
       "17088           0.0         0.0         0.0          0.0          0.0  \n",
       "21283           0.0         0.0         0.0          0.0          0.0  "
      ]
     },
     "metadata": {},
     "output_type": "display_data"
    }
   ],
   "source": [
    "f4_tables = [F2_LIBRARY, F2_DOC, F3_TOKEN, F4_VOCAB]\n",
    "display_tables([f4_tables, TFIDF], 4, table = ['all', 'TFIDF'])"
   ]
  },
  {
   "cell_type": "code",
   "execution_count": 33,
   "id": "7bb2dcf3-908c-4816-b255-3fc7fabcda2c",
   "metadata": {
    "tags": []
   },
   "outputs": [],
   "source": [
    "f4_db = MyDB('tables/F4')\n",
    "f4_db.save_table(f4_tables, 'all')\n",
    "TFIDF.to_csv('tables/TFIDF.csv')"
   ]
  },
  {
   "cell_type": "markdown",
   "id": "fde410e0-374c-4c39-9305-59b9fffd0b13",
   "metadata": {
    "jp-MarkdownHeadingCollapsed": true,
    "tags": []
   },
   "source": [
    "## 5 STADM with Analytical Models (F5)\n",
    "\n",
    "For F5, I add additional vector representations of terms."
   ]
  },
  {
   "cell_type": "markdown",
   "id": "5cfc4d9d-a7d3-46c7-9455-52064ea60e52",
   "metadata": {
    "jp-MarkdownHeadingCollapsed": true,
    "tags": []
   },
   "source": [
    "### 5.1 F5 Code"
   ]
  },
  {
   "cell_type": "markdown",
   "id": "58552f0f-3841-4a8e-9189-7f7bf259c10a",
   "metadata": {
    "tags": []
   },
   "source": [
    "#### 5.1.1 Principal components"
   ]
  },
  {
   "cell_type": "code",
   "execution_count": 56,
   "id": "ed752685-86b1-4796-a077-eacd2aff9456",
   "metadata": {
    "tags": []
   },
   "outputs": [],
   "source": [
    "# remove common words and proper nouns\n",
    "VOCAB_reduced = VOCAB.query(\"pos_max != 'NNP' & pos_max != 'NNPS'\")\n",
    "VOCAB_reduced = VOCAB_reduced.tfidf_sum.sort_values().dropna().tail(VOCAB_reduced.shape[0]//2) # top 50%\n",
    "reduced_term_ids = VOCAB_reduced.index.tolist()\n",
    "dt_reduced = dt_matrix.loc[:, reduced_term_ids]\n",
    "\n",
    "# get eigen values and vectors\n",
    "eig_vals, eig_vecs = eigh(dt_reduced.cov())\n",
    "eig = pd.DataFrame(eig_vecs, index = dt_reduced.columns, columns = dt_reduced.columns)\n",
    "eig.insert(0, 'eigenvalue', eig_vals)\n",
    "eig.insert(0, 'explained_variance', eig.eigenvalue / eig_vals.sum())\n",
    "eig = eig.sort_values('explained_variance', ascending = False)\n",
    "eig.index = ['PC' + str(i)  for i in range(len(eig.index))]\n",
    "eig.columns.name = None\n",
    "\n",
    "# get loadings\n",
    "LOADINGS = eig.iloc[:10, :].T\n",
    "LOADINGS.columns = [col + '_loading' for col in LOADINGS.columns]\n",
    "LOADINGS.index.name = 'term_id'\n",
    "\n",
    "# save PCS\n",
    "PCS = eig.iloc[:10, :2]\n",
    "PCS.index.name = 'principal_component'"
   ]
  },
  {
   "cell_type": "markdown",
   "id": "251ff43c-b49f-4361-b883-343b9c070614",
   "metadata": {},
   "source": [
    "#### 5.1.2 Topic models (LDA)"
   ]
  },
  {
   "cell_type": "code",
   "execution_count": 35,
   "id": "2db01787-3772-4b7f-bf93-7482d1eda87c",
   "metadata": {},
   "outputs": [],
   "source": [
    "# get F1 table with only regular nouns\n",
    "doc_strings = TOKEN[TOKEN.pos.str.match(r'^NNS?$')]\\\n",
    "                .groupby('doc_id').term.apply(lambda x: ' '.join(x))\\\n",
    "                .to_frame().rename(columns = {'term' : 'doc_string'})\n",
    "\n",
    "tfv = CountVectorizer(max_features = None, stop_words = list(sw))\n",
    "tf = tfv.fit_transform(doc_strings.doc_string)\n",
    "lda_terms = tfv.get_feature_names_out()\n",
    "\n",
    "lda = LDA(n_components = 15, # number of topics\n",
    "          max_iter = 50,\n",
    "          learning_offset = 50.,\n",
    "          random_state = 5001)\n",
    "\n",
    "# doc-topic table (distribution of topic preference over each document)\n",
    "THETA = pd.DataFrame(lda.fit_transform(tf), index = doc_strings.index)\n",
    "THETA.columns.name = 'topic_id'\n",
    "\n",
    "# sanity check\n",
    "if not ((THETA.sum(axis = 1) < 1.000001).all() and\n",
    "        (THETA.sum(axis = 1) > 0.999999).all()):\n",
    "    raise ValueError('Documents do not sum to 1 over all topics')\n",
    "\n",
    "# topic-word table (distribution of words over each topic)\n",
    "PHI = pd.DataFrame(lda.components_, columns = lda_terms).T\n",
    "# some terms were vectorized differently with CountVectorizer, causing problematic NAs\n",
    "PHI = PHI.loc[~PHI.index.map(term_to_id_map).isna(), :]\n",
    "PHI.index.name = 'term'\n",
    "PHI.columns.name = 'topic_id'\n",
    "\n",
    "# define topics by top 3 terms\n",
    "TOPICS = PHI.stack().to_frame().rename(columns = {0 : 'weight'})\\\n",
    "            .groupby('topic_id')\\\n",
    "            .apply(lambda x:\n",
    "                       x.weight.sort_values(ascending = False)\\\n",
    "                       .head(3)\\\n",
    "                       .reset_index()\\\n",
    "                       .drop('topic_id', axis = 1)\\\n",
    "                       .term)\n",
    "TOPICS['label'] = TOPICS.apply(lambda x: str(x.name) + ' ' + ' '.join(x), 1)\n",
    "TOPICS.drop(columns = [0, 1, 2], inplace = True)\n",
    "TOPICS['doc_weight_sum'] = THETA.sum()\n",
    "TOPICS.index.name = 'topic_id'\n",
    "\n",
    "# make PHI have the same index as VOCAB\n",
    "PHI = PHI.reset_index().rename(columns = {'index' : 'term'})\n",
    "PHI['term_id'] = PHI.term.map(term_to_id_map).astype('int')\n",
    "PHI = PHI.set_index('term_id')\n",
    "PHI.drop(columns = 'term', inplace = True)\n",
    "\n",
    "max_topic_id = pd.Series(np.array(PHI).argmax(axis = 1), index = PHI.index)\n",
    "VOCAB['max_topic_id'] = VOCAB.index.map(max_topic_id)\n",
    "F5_VOCAB = VOCAB"
   ]
  },
  {
   "cell_type": "markdown",
   "id": "a72efe7c-35fb-4ced-b1b9-bef2f9a8f2fd",
   "metadata": {},
   "source": [
    "#### 5.1.3 Word Embeddings (Word2Vec)"
   ]
  },
  {
   "cell_type": "code",
   "execution_count": 36,
   "id": "01876fc5-4bae-4b2d-a54d-7b2cb483db07",
   "metadata": {},
   "outputs": [],
   "source": [
    "# remove proper nouns\n",
    "corpus = TOKEN.loc[~TOKEN.pos.str.match('NNPS?'), 'term']\\\n",
    "                .groupby('doc_id')\\\n",
    "                .apply(lambda x: x.tolist())\\\n",
    "                .reset_index()\\\n",
    "                .term\\\n",
    "                .tolist()\n",
    "vec_model = Word2Vec(corpus,\n",
    "                     vector_size = 50,\n",
    "                     window = 5,\n",
    "                     min_count = 2,\n",
    "                     workers = 4)\n",
    "\n",
    "vec = {}\n",
    "for l in corpus:\n",
    "    for element in l:\n",
    "        try:\n",
    "            vec[element] = vec_model.wv[element]\n",
    "        except KeyError:\n",
    "            pass\n",
    "VECTORS = pd.DataFrame(vec).T.reset_index().rename(columns = {'index' : 'term'})\n",
    "VECTORS.index = VECTORS.term.map(term_to_id_map)\n",
    "VECTORS.index.name = 'term_id'\n",
    "VECTORS.drop(columns = 'term', inplace = True)\n",
    "VECTORS.columns = [f'word_vector[{i}]' for i in VECTORS.columns]\n",
    "\n",
    "vec_model.save('word2vec.model')"
   ]
  },
  {
   "cell_type": "markdown",
   "id": "af5ea87b-3969-43b2-9c39-a57fa74faf00",
   "metadata": {},
   "source": [
    "#### 5.1.4 Sentiment analysis"
   ]
  },
  {
   "cell_type": "code",
   "execution_count": 109,
   "id": "f7717d47-0485-4f1a-93b7-15456ada2586",
   "metadata": {
    "tags": []
   },
   "outputs": [],
   "source": [
    "# add sentiments from salex_nrc.csv used in class\n",
    "SENTIMENTS = pd.read_csv('salex_nrc.csv', index_col = 'term_str')\n",
    "SENTIMENTS.columns = [col.replace('nrc_', '') for col in SENTIMENTS.columns]\n",
    "SENTIMENTS['polarity'] = SENTIMENTS.positive - SENTIMENTS.negative\n",
    "\n",
    "# fix index to match VOCAB table\n",
    "SENTIMENTS = SENTIMENTS.reset_index().rename(columns = {'term_str' : 'term'})\n",
    "SENTIMENTS['term_id'] = SENTIMENTS.term.map(term_to_id_map)\n",
    "SENTIMENTS = SENTIMENTS.dropna()\n",
    "SENTIMENTS.term_id = SENTIMENTS.term_id.astype('int')\n",
    "SENTIMENTS = SENTIMENTS.set_index('term_id')\n",
    "SENTIMENTS.drop(columns = 'term', inplace = True)"
   ]
  },
  {
   "cell_type": "markdown",
   "id": "e13e663a-d2a1-4fce-9eae-de6943c3d109",
   "metadata": {
    "jp-MarkdownHeadingCollapsed": true,
    "tags": []
   },
   "source": [
    "### 2.5 F5 Results"
   ]
  },
  {
   "cell_type": "code",
   "execution_count": 38,
   "id": "cc483b4b-2a84-425a-9850-3d0b97b648cc",
   "metadata": {},
   "outputs": [
    {
     "name": "stdout",
     "output_type": "stream",
     "text": [
      "F5 Library table sample:\n"
     ]
    },
    {
     "data": {
      "text/html": [
       "<div>\n",
       "<style scoped>\n",
       "    .dataframe tbody tr th:only-of-type {\n",
       "        vertical-align: middle;\n",
       "    }\n",
       "\n",
       "    .dataframe tbody tr th {\n",
       "        vertical-align: top;\n",
       "    }\n",
       "\n",
       "    .dataframe thead th {\n",
       "        text-align: right;\n",
       "    }\n",
       "</style>\n",
       "<table border=\"1\" class=\"dataframe\">\n",
       "  <thead>\n",
       "    <tr style=\"text-align: right;\">\n",
       "      <th></th>\n",
       "      <th>doc_source</th>\n",
       "      <th>doc_title</th>\n",
       "      <th>doc_date</th>\n",
       "      <th>doc_url</th>\n",
       "    </tr>\n",
       "    <tr>\n",
       "      <th>doc_id</th>\n",
       "      <th></th>\n",
       "      <th></th>\n",
       "      <th></th>\n",
       "      <th></th>\n",
       "    </tr>\n",
       "  </thead>\n",
       "  <tbody>\n",
       "    <tr>\n",
       "      <th>671873</th>\n",
       "      <td>US News</td>\n",
       "      <td>Tokuda to Take Helm of Maui's Nisei Veterans M...</td>\n",
       "      <td>01/07/2019</td>\n",
       "      <td>https://www.usnews.com/news/best-states/hawaii...</td>\n",
       "    </tr>\n",
       "    <tr>\n",
       "      <th>368927</th>\n",
       "      <td>US News</td>\n",
       "      <td>Official: Law Enforcement Officers Hurt Servin...</td>\n",
       "      <td>01/18/2018</td>\n",
       "      <td>https://www.usnews.com/news/best-states/pennsy...</td>\n",
       "    </tr>\n",
       "    <tr>\n",
       "      <th>852197</th>\n",
       "      <td>US News</td>\n",
       "      <td>AP Top U.S. News at 12:53 A.m. EDT</td>\n",
       "      <td>08/04/2019</td>\n",
       "      <td>https://www.usnews.com/news/us/articles/2019-0...</td>\n",
       "    </tr>\n",
       "  </tbody>\n",
       "</table>\n",
       "</div>"
      ],
      "text/plain": [
       "       doc_source                                          doc_title  \\\n",
       "doc_id                                                                 \n",
       "671873    US News  Tokuda to Take Helm of Maui's Nisei Veterans M...   \n",
       "368927    US News  Official: Law Enforcement Officers Hurt Servin...   \n",
       "852197    US News                 AP Top U.S. News at 12:53 A.m. EDT   \n",
       "\n",
       "          doc_date                                            doc_url  \n",
       "doc_id                                                                 \n",
       "671873  01/07/2019  https://www.usnews.com/news/best-states/hawaii...  \n",
       "368927  01/18/2018  https://www.usnews.com/news/best-states/pennsy...  \n",
       "852197  08/04/2019  https://www.usnews.com/news/us/articles/2019-0...  "
      ]
     },
     "metadata": {},
     "output_type": "display_data"
    },
    {
     "name": "stdout",
     "output_type": "stream",
     "text": [
      "F5 Document table sample:\n"
     ]
    },
    {
     "data": {
      "text/html": [
       "<div>\n",
       "<style scoped>\n",
       "    .dataframe tbody tr th:only-of-type {\n",
       "        vertical-align: middle;\n",
       "    }\n",
       "\n",
       "    .dataframe tbody tr th {\n",
       "        vertical-align: top;\n",
       "    }\n",
       "\n",
       "    .dataframe thead th {\n",
       "        text-align: right;\n",
       "    }\n",
       "</style>\n",
       "<table border=\"1\" class=\"dataframe\">\n",
       "  <thead>\n",
       "    <tr style=\"text-align: right;\">\n",
       "      <th></th>\n",
       "      <th>doc_content</th>\n",
       "    </tr>\n",
       "    <tr>\n",
       "      <th>doc_id</th>\n",
       "      <th></th>\n",
       "    </tr>\n",
       "  </thead>\n",
       "  <tbody>\n",
       "    <tr>\n",
       "      <th>698157</th>\n",
       "      <td>(Reuters) - Virginia lawmakers were due to mee...</td>\n",
       "    </tr>\n",
       "    <tr>\n",
       "      <th>1013601</th>\n",
       "      <td>Thailand's government and civil servants were ...</td>\n",
       "    </tr>\n",
       "    <tr>\n",
       "      <th>551578</th>\n",
       "      <td>CNNExclusive: Pentagon spokeswoman under inves...</td>\n",
       "    </tr>\n",
       "  </tbody>\n",
       "</table>\n",
       "</div>"
      ],
      "text/plain": [
       "                                               doc_content\n",
       "doc_id                                                    \n",
       "698157   (Reuters) - Virginia lawmakers were due to mee...\n",
       "1013601  Thailand's government and civil servants were ...\n",
       "551578   CNNExclusive: Pentagon spokeswoman under inves..."
      ]
     },
     "metadata": {},
     "output_type": "display_data"
    },
    {
     "name": "stdout",
     "output_type": "stream",
     "text": [
      "F5 Token table sample:\n"
     ]
    },
    {
     "data": {
      "text/html": [
       "<div>\n",
       "<style scoped>\n",
       "    .dataframe tbody tr th:only-of-type {\n",
       "        vertical-align: middle;\n",
       "    }\n",
       "\n",
       "    .dataframe tbody tr th {\n",
       "        vertical-align: top;\n",
       "    }\n",
       "\n",
       "    .dataframe thead th {\n",
       "        text-align: right;\n",
       "    }\n",
       "</style>\n",
       "<table border=\"1\" class=\"dataframe\">\n",
       "  <thead>\n",
       "    <tr style=\"text-align: right;\">\n",
       "      <th></th>\n",
       "      <th></th>\n",
       "      <th></th>\n",
       "      <th>token</th>\n",
       "      <th>pos</th>\n",
       "      <th>term</th>\n",
       "      <th>term_id</th>\n",
       "    </tr>\n",
       "    <tr>\n",
       "      <th>doc_id</th>\n",
       "      <th>sent_num</th>\n",
       "      <th>token_id</th>\n",
       "      <th></th>\n",
       "      <th></th>\n",
       "      <th></th>\n",
       "      <th></th>\n",
       "    </tr>\n",
       "  </thead>\n",
       "  <tbody>\n",
       "    <tr>\n",
       "      <th>112176</th>\n",
       "      <th>0</th>\n",
       "      <th>4</th>\n",
       "      <td>in</td>\n",
       "      <td>IN</td>\n",
       "      <td>in</td>\n",
       "      <td>13035</td>\n",
       "    </tr>\n",
       "    <tr>\n",
       "      <th>264573</th>\n",
       "      <th>0</th>\n",
       "      <th>1</th>\n",
       "      <td>House</td>\n",
       "      <td>NNP</td>\n",
       "      <td>house</td>\n",
       "      <td>12605</td>\n",
       "    </tr>\n",
       "    <tr>\n",
       "      <th>165983</th>\n",
       "      <th>1</th>\n",
       "      <th>20</th>\n",
       "      <td>is</td>\n",
       "      <td>VBZ</td>\n",
       "      <td>is</td>\n",
       "      <td>13694</td>\n",
       "    </tr>\n",
       "  </tbody>\n",
       "</table>\n",
       "</div>"
      ],
      "text/plain": [
       "                          token  pos   term  term_id\n",
       "doc_id sent_num token_id                            \n",
       "112176 0        4            in   IN     in    13035\n",
       "264573 0        1         House  NNP  house    12605\n",
       "165983 1        20           is  VBZ     is    13694"
      ]
     },
     "metadata": {},
     "output_type": "display_data"
    },
    {
     "name": "stdout",
     "output_type": "stream",
     "text": [
      "F5 Vocabulary table sample:\n"
     ]
    },
    {
     "data": {
      "text/html": [
       "<div>\n",
       "<style scoped>\n",
       "    .dataframe tbody tr th:only-of-type {\n",
       "        vertical-align: middle;\n",
       "    }\n",
       "\n",
       "    .dataframe tbody tr th {\n",
       "        vertical-align: top;\n",
       "    }\n",
       "\n",
       "    .dataframe thead th {\n",
       "        text-align: right;\n",
       "    }\n",
       "</style>\n",
       "<table border=\"1\" class=\"dataframe\">\n",
       "  <thead>\n",
       "    <tr style=\"text-align: right;\">\n",
       "      <th></th>\n",
       "      <th>term</th>\n",
       "      <th>count</th>\n",
       "      <th>punctuation</th>\n",
       "      <th>numeric</th>\n",
       "      <th>stopword</th>\n",
       "      <th>stem</th>\n",
       "      <th>pos_max</th>\n",
       "      <th>tfidf_sum</th>\n",
       "      <th>max_topic_id</th>\n",
       "    </tr>\n",
       "    <tr>\n",
       "      <th>term_id</th>\n",
       "      <th></th>\n",
       "      <th></th>\n",
       "      <th></th>\n",
       "      <th></th>\n",
       "      <th></th>\n",
       "      <th></th>\n",
       "      <th></th>\n",
       "      <th></th>\n",
       "      <th></th>\n",
       "    </tr>\n",
       "  </thead>\n",
       "  <tbody>\n",
       "    <tr>\n",
       "      <th>5773</th>\n",
       "      <td>cohn</td>\n",
       "      <td>3</td>\n",
       "      <td>False</td>\n",
       "      <td>False</td>\n",
       "      <td>False</td>\n",
       "      <td>cohn</td>\n",
       "      <td>NNP</td>\n",
       "      <td>NaN</td>\n",
       "      <td>NaN</td>\n",
       "    </tr>\n",
       "    <tr>\n",
       "      <th>9379</th>\n",
       "      <td>ex-wife</td>\n",
       "      <td>8</td>\n",
       "      <td>False</td>\n",
       "      <td>False</td>\n",
       "      <td>False</td>\n",
       "      <td>ex-wif</td>\n",
       "      <td>NN</td>\n",
       "      <td>2.005143</td>\n",
       "      <td>NaN</td>\n",
       "    </tr>\n",
       "    <tr>\n",
       "      <th>7930</th>\n",
       "      <td>discovery</td>\n",
       "      <td>14</td>\n",
       "      <td>False</td>\n",
       "      <td>False</td>\n",
       "      <td>False</td>\n",
       "      <td>discoveri</td>\n",
       "      <td>NNP</td>\n",
       "      <td>2.290573</td>\n",
       "      <td>13.0</td>\n",
       "    </tr>\n",
       "  </tbody>\n",
       "</table>\n",
       "</div>"
      ],
      "text/plain": [
       "              term  count  punctuation  numeric  stopword       stem pos_max  \\\n",
       "term_id                                                                        \n",
       "5773          cohn      3        False    False     False       cohn     NNP   \n",
       "9379       ex-wife      8        False    False     False     ex-wif      NN   \n",
       "7930     discovery     14        False    False     False  discoveri     NNP   \n",
       "\n",
       "         tfidf_sum  max_topic_id  \n",
       "term_id                           \n",
       "5773           NaN           NaN  \n",
       "9379      2.005143           NaN  \n",
       "7930      2.290573          13.0  "
      ]
     },
     "metadata": {},
     "output_type": "display_data"
    },
    {
     "name": "stdout",
     "output_type": "stream",
     "text": [
      "F5 Loadings table sample:\n"
     ]
    },
    {
     "data": {
      "text/html": [
       "<div>\n",
       "<style scoped>\n",
       "    .dataframe tbody tr th:only-of-type {\n",
       "        vertical-align: middle;\n",
       "    }\n",
       "\n",
       "    .dataframe tbody tr th {\n",
       "        vertical-align: top;\n",
       "    }\n",
       "\n",
       "    .dataframe thead th {\n",
       "        text-align: right;\n",
       "    }\n",
       "</style>\n",
       "<table border=\"1\" class=\"dataframe\">\n",
       "  <thead>\n",
       "    <tr style=\"text-align: right;\">\n",
       "      <th></th>\n",
       "      <th>PC0_loading</th>\n",
       "      <th>PC1_loading</th>\n",
       "      <th>PC2_loading</th>\n",
       "      <th>PC3_loading</th>\n",
       "      <th>PC4_loading</th>\n",
       "      <th>PC5_loading</th>\n",
       "      <th>PC6_loading</th>\n",
       "      <th>PC7_loading</th>\n",
       "      <th>PC8_loading</th>\n",
       "      <th>PC9_loading</th>\n",
       "    </tr>\n",
       "    <tr>\n",
       "      <th>term_id</th>\n",
       "      <th></th>\n",
       "      <th></th>\n",
       "      <th></th>\n",
       "      <th></th>\n",
       "      <th></th>\n",
       "      <th></th>\n",
       "      <th></th>\n",
       "      <th></th>\n",
       "      <th></th>\n",
       "      <th></th>\n",
       "    </tr>\n",
       "  </thead>\n",
       "  <tbody>\n",
       "    <tr>\n",
       "      <th>852</th>\n",
       "      <td>0.040887</td>\n",
       "      <td>-0.006666</td>\n",
       "      <td>-0.056283</td>\n",
       "      <td>0.014502</td>\n",
       "      <td>0.001703</td>\n",
       "      <td>0.015287</td>\n",
       "      <td>-0.042758</td>\n",
       "      <td>-0.016136</td>\n",
       "      <td>-0.006303</td>\n",
       "      <td>-0.021897</td>\n",
       "    </tr>\n",
       "    <tr>\n",
       "      <th>8392</th>\n",
       "      <td>0.000486</td>\n",
       "      <td>-0.001571</td>\n",
       "      <td>0.004573</td>\n",
       "      <td>-0.005497</td>\n",
       "      <td>0.003662</td>\n",
       "      <td>0.000105</td>\n",
       "      <td>-0.001151</td>\n",
       "      <td>0.000966</td>\n",
       "      <td>-0.000144</td>\n",
       "      <td>0.001474</td>\n",
       "    </tr>\n",
       "    <tr>\n",
       "      <th>3354</th>\n",
       "      <td>-0.003162</td>\n",
       "      <td>0.000081</td>\n",
       "      <td>0.003151</td>\n",
       "      <td>-0.001884</td>\n",
       "      <td>-0.002077</td>\n",
       "      <td>0.001159</td>\n",
       "      <td>-0.000544</td>\n",
       "      <td>-0.000606</td>\n",
       "      <td>-0.001107</td>\n",
       "      <td>-0.001726</td>\n",
       "    </tr>\n",
       "  </tbody>\n",
       "</table>\n",
       "</div>"
      ],
      "text/plain": [
       "         PC0_loading  PC1_loading  PC2_loading  PC3_loading  PC4_loading  \\\n",
       "term_id                                                                    \n",
       "852         0.040887    -0.006666    -0.056283     0.014502     0.001703   \n",
       "8392        0.000486    -0.001571     0.004573    -0.005497     0.003662   \n",
       "3354       -0.003162     0.000081     0.003151    -0.001884    -0.002077   \n",
       "\n",
       "         PC5_loading  PC6_loading  PC7_loading  PC8_loading  PC9_loading  \n",
       "term_id                                                                   \n",
       "852         0.015287    -0.042758    -0.016136    -0.006303    -0.021897  \n",
       "8392        0.000105    -0.001151     0.000966    -0.000144     0.001474  \n",
       "3354        0.001159    -0.000544    -0.000606    -0.001107    -0.001726  "
      ]
     },
     "metadata": {},
     "output_type": "display_data"
    },
    {
     "name": "stdout",
     "output_type": "stream",
     "text": [
      "F5 Theta table sample:\n"
     ]
    },
    {
     "data": {
      "text/html": [
       "<div>\n",
       "<style scoped>\n",
       "    .dataframe tbody tr th:only-of-type {\n",
       "        vertical-align: middle;\n",
       "    }\n",
       "\n",
       "    .dataframe tbody tr th {\n",
       "        vertical-align: top;\n",
       "    }\n",
       "\n",
       "    .dataframe thead th {\n",
       "        text-align: right;\n",
       "    }\n",
       "</style>\n",
       "<table border=\"1\" class=\"dataframe\">\n",
       "  <thead>\n",
       "    <tr style=\"text-align: right;\">\n",
       "      <th>topic_id</th>\n",
       "      <th>0</th>\n",
       "      <th>1</th>\n",
       "      <th>2</th>\n",
       "      <th>3</th>\n",
       "      <th>4</th>\n",
       "      <th>5</th>\n",
       "      <th>6</th>\n",
       "      <th>7</th>\n",
       "      <th>8</th>\n",
       "      <th>9</th>\n",
       "    </tr>\n",
       "    <tr>\n",
       "      <th>doc_id</th>\n",
       "      <th></th>\n",
       "      <th></th>\n",
       "      <th></th>\n",
       "      <th></th>\n",
       "      <th></th>\n",
       "      <th></th>\n",
       "      <th></th>\n",
       "      <th></th>\n",
       "      <th></th>\n",
       "      <th></th>\n",
       "    </tr>\n",
       "  </thead>\n",
       "  <tbody>\n",
       "    <tr>\n",
       "      <th>366653</th>\n",
       "      <td>0.011111</td>\n",
       "      <td>0.011111</td>\n",
       "      <td>0.011111</td>\n",
       "      <td>0.011111</td>\n",
       "      <td>0.011111</td>\n",
       "      <td>0.011111</td>\n",
       "      <td>0.844444</td>\n",
       "      <td>0.011111</td>\n",
       "      <td>0.011111</td>\n",
       "      <td>0.011111</td>\n",
       "    </tr>\n",
       "    <tr>\n",
       "      <th>701016</th>\n",
       "      <td>0.016667</td>\n",
       "      <td>0.016667</td>\n",
       "      <td>0.016667</td>\n",
       "      <td>0.016667</td>\n",
       "      <td>0.016667</td>\n",
       "      <td>0.016667</td>\n",
       "      <td>0.016667</td>\n",
       "      <td>0.766666</td>\n",
       "      <td>0.016667</td>\n",
       "      <td>0.016667</td>\n",
       "    </tr>\n",
       "    <tr>\n",
       "      <th>886766</th>\n",
       "      <td>0.006061</td>\n",
       "      <td>0.006061</td>\n",
       "      <td>0.006061</td>\n",
       "      <td>0.277776</td>\n",
       "      <td>0.006061</td>\n",
       "      <td>0.006061</td>\n",
       "      <td>0.006061</td>\n",
       "      <td>0.006061</td>\n",
       "      <td>0.006061</td>\n",
       "      <td>0.643436</td>\n",
       "    </tr>\n",
       "  </tbody>\n",
       "</table>\n",
       "</div>"
      ],
      "text/plain": [
       "topic_id         0         1         2         3         4         5  \\\n",
       "doc_id                                                                 \n",
       "366653    0.011111  0.011111  0.011111  0.011111  0.011111  0.011111   \n",
       "701016    0.016667  0.016667  0.016667  0.016667  0.016667  0.016667   \n",
       "886766    0.006061  0.006061  0.006061  0.277776  0.006061  0.006061   \n",
       "\n",
       "topic_id         6         7         8         9  \n",
       "doc_id                                            \n",
       "366653    0.844444  0.011111  0.011111  0.011111  \n",
       "701016    0.016667  0.766666  0.016667  0.016667  \n",
       "886766    0.006061  0.006061  0.006061  0.643436  "
      ]
     },
     "metadata": {},
     "output_type": "display_data"
    },
    {
     "name": "stdout",
     "output_type": "stream",
     "text": [
      "F5 Phi table sample:\n"
     ]
    },
    {
     "data": {
      "text/html": [
       "<div>\n",
       "<style scoped>\n",
       "    .dataframe tbody tr th:only-of-type {\n",
       "        vertical-align: middle;\n",
       "    }\n",
       "\n",
       "    .dataframe tbody tr th {\n",
       "        vertical-align: top;\n",
       "    }\n",
       "\n",
       "    .dataframe thead th {\n",
       "        text-align: right;\n",
       "    }\n",
       "</style>\n",
       "<table border=\"1\" class=\"dataframe\">\n",
       "  <thead>\n",
       "    <tr style=\"text-align: right;\">\n",
       "      <th>topic_id</th>\n",
       "      <th>0</th>\n",
       "      <th>1</th>\n",
       "      <th>2</th>\n",
       "      <th>3</th>\n",
       "      <th>4</th>\n",
       "      <th>5</th>\n",
       "      <th>6</th>\n",
       "      <th>7</th>\n",
       "      <th>8</th>\n",
       "      <th>9</th>\n",
       "    </tr>\n",
       "    <tr>\n",
       "      <th>term_id</th>\n",
       "      <th></th>\n",
       "      <th></th>\n",
       "      <th></th>\n",
       "      <th></th>\n",
       "      <th></th>\n",
       "      <th></th>\n",
       "      <th></th>\n",
       "      <th></th>\n",
       "      <th></th>\n",
       "      <th></th>\n",
       "    </tr>\n",
       "  </thead>\n",
       "  <tbody>\n",
       "    <tr>\n",
       "      <th>22975</th>\n",
       "      <td>0.066667</td>\n",
       "      <td>0.066667</td>\n",
       "      <td>0.066667</td>\n",
       "      <td>0.066667</td>\n",
       "      <td>0.066667</td>\n",
       "      <td>0.066667</td>\n",
       "      <td>0.066667</td>\n",
       "      <td>0.066667</td>\n",
       "      <td>0.066667</td>\n",
       "      <td>0.066667</td>\n",
       "    </tr>\n",
       "    <tr>\n",
       "      <th>19062</th>\n",
       "      <td>0.066667</td>\n",
       "      <td>0.066667</td>\n",
       "      <td>0.066667</td>\n",
       "      <td>0.066667</td>\n",
       "      <td>0.066667</td>\n",
       "      <td>0.066667</td>\n",
       "      <td>0.066667</td>\n",
       "      <td>0.066667</td>\n",
       "      <td>0.066667</td>\n",
       "      <td>0.066667</td>\n",
       "    </tr>\n",
       "    <tr>\n",
       "      <th>1446</th>\n",
       "      <td>0.066667</td>\n",
       "      <td>0.066667</td>\n",
       "      <td>0.066667</td>\n",
       "      <td>0.066667</td>\n",
       "      <td>0.066667</td>\n",
       "      <td>0.066667</td>\n",
       "      <td>0.066667</td>\n",
       "      <td>0.066667</td>\n",
       "      <td>0.066667</td>\n",
       "      <td>0.066667</td>\n",
       "    </tr>\n",
       "  </tbody>\n",
       "</table>\n",
       "</div>"
      ],
      "text/plain": [
       "topic_id         0         1         2         3         4         5  \\\n",
       "term_id                                                                \n",
       "22975     0.066667  0.066667  0.066667  0.066667  0.066667  0.066667   \n",
       "19062     0.066667  0.066667  0.066667  0.066667  0.066667  0.066667   \n",
       "1446      0.066667  0.066667  0.066667  0.066667  0.066667  0.066667   \n",
       "\n",
       "topic_id         6         7         8         9  \n",
       "term_id                                           \n",
       "22975     0.066667  0.066667  0.066667  0.066667  \n",
       "19062     0.066667  0.066667  0.066667  0.066667  \n",
       "1446      0.066667  0.066667  0.066667  0.066667  "
      ]
     },
     "metadata": {},
     "output_type": "display_data"
    },
    {
     "name": "stdout",
     "output_type": "stream",
     "text": [
      "F5 Topics table sample:\n"
     ]
    },
    {
     "data": {
      "text/html": [
       "<div>\n",
       "<style scoped>\n",
       "    .dataframe tbody tr th:only-of-type {\n",
       "        vertical-align: middle;\n",
       "    }\n",
       "\n",
       "    .dataframe tbody tr th {\n",
       "        vertical-align: top;\n",
       "    }\n",
       "\n",
       "    .dataframe thead th {\n",
       "        text-align: right;\n",
       "    }\n",
       "</style>\n",
       "<table border=\"1\" class=\"dataframe\">\n",
       "  <thead>\n",
       "    <tr style=\"text-align: right;\">\n",
       "      <th>term</th>\n",
       "      <th>label</th>\n",
       "      <th>doc_weight_sum</th>\n",
       "    </tr>\n",
       "    <tr>\n",
       "      <th>topic_id</th>\n",
       "      <th></th>\n",
       "      <th></th>\n",
       "    </tr>\n",
       "  </thead>\n",
       "  <tbody>\n",
       "    <tr>\n",
       "      <th>7</th>\n",
       "      <td>7 tax state plan</td>\n",
       "      <td>603.526244</td>\n",
       "    </tr>\n",
       "    <tr>\n",
       "      <th>1</th>\n",
       "      <td>1 story link stories</td>\n",
       "      <td>727.476000</td>\n",
       "    </tr>\n",
       "    <tr>\n",
       "      <th>12</th>\n",
       "      <td>12 fire oil earnings</td>\n",
       "      <td>518.561565</td>\n",
       "    </tr>\n",
       "  </tbody>\n",
       "</table>\n",
       "</div>"
      ],
      "text/plain": [
       "term                     label  doc_weight_sum\n",
       "topic_id                                      \n",
       "7             7 tax state plan      603.526244\n",
       "1         1 story link stories      727.476000\n",
       "12        12 fire oil earnings      518.561565"
      ]
     },
     "metadata": {},
     "output_type": "display_data"
    },
    {
     "name": "stdout",
     "output_type": "stream",
     "text": [
      "F5 Vectors table sample:\n"
     ]
    },
    {
     "data": {
      "text/html": [
       "<div>\n",
       "<style scoped>\n",
       "    .dataframe tbody tr th:only-of-type {\n",
       "        vertical-align: middle;\n",
       "    }\n",
       "\n",
       "    .dataframe tbody tr th {\n",
       "        vertical-align: top;\n",
       "    }\n",
       "\n",
       "    .dataframe thead th {\n",
       "        text-align: right;\n",
       "    }\n",
       "</style>\n",
       "<table border=\"1\" class=\"dataframe\">\n",
       "  <thead>\n",
       "    <tr style=\"text-align: right;\">\n",
       "      <th></th>\n",
       "      <th>word_vector[0]</th>\n",
       "      <th>word_vector[1]</th>\n",
       "      <th>word_vector[2]</th>\n",
       "      <th>word_vector[3]</th>\n",
       "      <th>word_vector[4]</th>\n",
       "      <th>word_vector[5]</th>\n",
       "      <th>word_vector[6]</th>\n",
       "      <th>word_vector[7]</th>\n",
       "      <th>word_vector[8]</th>\n",
       "      <th>word_vector[9]</th>\n",
       "    </tr>\n",
       "    <tr>\n",
       "      <th>term_id</th>\n",
       "      <th></th>\n",
       "      <th></th>\n",
       "      <th></th>\n",
       "      <th></th>\n",
       "      <th></th>\n",
       "      <th></th>\n",
       "      <th></th>\n",
       "      <th></th>\n",
       "      <th></th>\n",
       "      <th></th>\n",
       "    </tr>\n",
       "  </thead>\n",
       "  <tbody>\n",
       "    <tr>\n",
       "      <th>19515</th>\n",
       "      <td>-0.118554</td>\n",
       "      <td>0.000284</td>\n",
       "      <td>-0.021293</td>\n",
       "      <td>0.014367</td>\n",
       "      <td>-0.013035</td>\n",
       "      <td>-0.321132</td>\n",
       "      <td>0.465697</td>\n",
       "      <td>0.432389</td>\n",
       "      <td>-0.297004</td>\n",
       "      <td>-0.285431</td>\n",
       "    </tr>\n",
       "    <tr>\n",
       "      <th>5778</th>\n",
       "      <td>-0.003832</td>\n",
       "      <td>-0.010398</td>\n",
       "      <td>0.016112</td>\n",
       "      <td>-0.007914</td>\n",
       "      <td>0.013224</td>\n",
       "      <td>-0.019965</td>\n",
       "      <td>0.033323</td>\n",
       "      <td>0.067391</td>\n",
       "      <td>-0.033520</td>\n",
       "      <td>-0.034333</td>\n",
       "    </tr>\n",
       "    <tr>\n",
       "      <th>8739</th>\n",
       "      <td>-0.018079</td>\n",
       "      <td>-0.005840</td>\n",
       "      <td>-0.021560</td>\n",
       "      <td>-0.001365</td>\n",
       "      <td>-0.007031</td>\n",
       "      <td>-0.026461</td>\n",
       "      <td>0.076192</td>\n",
       "      <td>0.063439</td>\n",
       "      <td>-0.028263</td>\n",
       "      <td>-0.029759</td>\n",
       "    </tr>\n",
       "  </tbody>\n",
       "</table>\n",
       "</div>"
      ],
      "text/plain": [
       "         word_vector[0]  word_vector[1]  word_vector[2]  word_vector[3]  \\\n",
       "term_id                                                                   \n",
       "19515         -0.118554        0.000284       -0.021293        0.014367   \n",
       "5778          -0.003832       -0.010398        0.016112       -0.007914   \n",
       "8739          -0.018079       -0.005840       -0.021560       -0.001365   \n",
       "\n",
       "         word_vector[4]  word_vector[5]  word_vector[6]  word_vector[7]  \\\n",
       "term_id                                                                   \n",
       "19515         -0.013035       -0.321132        0.465697        0.432389   \n",
       "5778           0.013224       -0.019965        0.033323        0.067391   \n",
       "8739          -0.007031       -0.026461        0.076192        0.063439   \n",
       "\n",
       "         word_vector[8]  word_vector[9]  \n",
       "term_id                                  \n",
       "19515         -0.297004       -0.285431  \n",
       "5778          -0.033520       -0.034333  \n",
       "8739          -0.028263       -0.029759  "
      ]
     },
     "metadata": {},
     "output_type": "display_data"
    },
    {
     "name": "stdout",
     "output_type": "stream",
     "text": [
      "F5 Sentiments table sample:\n"
     ]
    },
    {
     "data": {
      "text/html": [
       "<div>\n",
       "<style scoped>\n",
       "    .dataframe tbody tr th:only-of-type {\n",
       "        vertical-align: middle;\n",
       "    }\n",
       "\n",
       "    .dataframe tbody tr th {\n",
       "        vertical-align: top;\n",
       "    }\n",
       "\n",
       "    .dataframe thead th {\n",
       "        text-align: right;\n",
       "    }\n",
       "</style>\n",
       "<table border=\"1\" class=\"dataframe\">\n",
       "  <thead>\n",
       "    <tr style=\"text-align: right;\">\n",
       "      <th></th>\n",
       "      <th>anger</th>\n",
       "      <th>anticipation</th>\n",
       "      <th>disgust</th>\n",
       "      <th>fear</th>\n",
       "      <th>joy</th>\n",
       "      <th>sadness</th>\n",
       "      <th>surprise</th>\n",
       "      <th>trust</th>\n",
       "      <th>polarity</th>\n",
       "    </tr>\n",
       "    <tr>\n",
       "      <th>term_id</th>\n",
       "      <th></th>\n",
       "      <th></th>\n",
       "      <th></th>\n",
       "      <th></th>\n",
       "      <th></th>\n",
       "      <th></th>\n",
       "      <th></th>\n",
       "      <th></th>\n",
       "      <th></th>\n",
       "    </tr>\n",
       "  </thead>\n",
       "  <tbody>\n",
       "    <tr>\n",
       "      <th>11437</th>\n",
       "      <td>0</td>\n",
       "      <td>0</td>\n",
       "      <td>1</td>\n",
       "      <td>0</td>\n",
       "      <td>0</td>\n",
       "      <td>1</td>\n",
       "      <td>0</td>\n",
       "      <td>0</td>\n",
       "      <td>0</td>\n",
       "    </tr>\n",
       "    <tr>\n",
       "      <th>28705</th>\n",
       "      <td>1</td>\n",
       "      <td>0</td>\n",
       "      <td>0</td>\n",
       "      <td>1</td>\n",
       "      <td>0</td>\n",
       "      <td>1</td>\n",
       "      <td>0</td>\n",
       "      <td>0</td>\n",
       "      <td>-1</td>\n",
       "    </tr>\n",
       "    <tr>\n",
       "      <th>18958</th>\n",
       "      <td>0</td>\n",
       "      <td>1</td>\n",
       "      <td>0</td>\n",
       "      <td>0</td>\n",
       "      <td>1</td>\n",
       "      <td>0</td>\n",
       "      <td>0</td>\n",
       "      <td>1</td>\n",
       "      <td>1</td>\n",
       "    </tr>\n",
       "  </tbody>\n",
       "</table>\n",
       "</div>"
      ],
      "text/plain": [
       "         anger  anticipation  disgust  fear  joy  sadness  surprise  trust  \\\n",
       "term_id                                                                      \n",
       "11437        0             0        1     0    0        1         0      0   \n",
       "28705        1             0        0     1    0        1         0      0   \n",
       "18958        0             1        0     0    1        0         0      1   \n",
       "\n",
       "         polarity  \n",
       "term_id            \n",
       "11437           0  \n",
       "28705          -1  \n",
       "18958           1  "
      ]
     },
     "metadata": {},
     "output_type": "display_data"
    }
   ],
   "source": [
    "f5_tables = [[F2_LIBRARY, F2_DOC, F3_TOKEN, F5_VOCAB], PCS, LOADINGS, THETA, PHI, TOPICS, VECTORS, SENTIMENTS]\n",
    "f5_table_names = ['all', 'Principal_Components', 'Loadings', 'Theta', 'Phi', 'Topics', 'Vectors', 'Sentiments']\n",
    "display_tables(f5_tables, 5, table = f5_table_names)"
   ]
  },
  {
   "cell_type": "code",
   "execution_count": 39,
   "id": "4373728d-582c-47ae-92dd-2b5c3d3f3aee",
   "metadata": {},
   "outputs": [],
   "source": [
    "f5_db = MyDB('tables/F5')\n",
    "f5_db.save_table(f5_tables, f5_table_names)"
   ]
  },
  {
   "cell_type": "markdown",
   "id": "9ba847de-c697-4d7e-b998-a1318334940d",
   "metadata": {},
   "source": [
    "## Next up: Statistical and Visual Exploration will be addressed in [rn7ena-final-project-eta.ipynb](rn7ena-final-project-eta.ipynb)"
   ]
  }
 ],
 "metadata": {
  "kernelspec": {
   "display_name": "Python 3 (ipykernel)",
   "language": "python",
   "name": "python3"
  },
  "language_info": {
   "codemirror_mode": {
    "name": "ipython",
    "version": 3
   },
   "file_extension": ".py",
   "mimetype": "text/x-python",
   "name": "python",
   "nbconvert_exporter": "python",
   "pygments_lexer": "ipython3",
   "version": "3.11.4"
  }
 },
 "nbformat": 4,
 "nbformat_minor": 5
}
